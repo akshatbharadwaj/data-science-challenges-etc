{
 "cells": [
  {
   "cell_type": "code",
   "execution_count": 3,
   "metadata": {},
   "outputs": [
    {
     "name": "stdout",
     "output_type": "stream",
     "text": [
      "-0.20894706\n"
     ]
    }
   ],
   "source": [
    "\"\"\"\n",
    "Simple exercises to get used to TensorFlow API\n",
    "You should thoroughly test your code.\n",
    "TensorFlow's official documentation should be your best friend here\n",
    "CS20: \"TensorFlow for Deep Learning Research\"\n",
    "cs20.stanford.edu\n",
    "Created by Chip Huyen (chiphuyen@cs.stanford.edu)\n",
    "\"\"\"\n",
    "import os\n",
    "os.environ['TF_CPP_MIN_LOG_LEVEL']='2'\n",
    "\n",
    "import tensorflow as tf\n",
    "\n",
    "sess = tf.InteractiveSession()\n",
    "###############################################################################\n",
    "# 1a: Create two random 0-d tensors x and y of any distribution.\n",
    "# Create a TensorFlow object that returns x + y if x > y, and x - y otherwise.\n",
    "# Hint: look up tf.cond()\n",
    "# I do the first problem for you\n",
    "###############################################################################\n",
    "\n",
    "x = tf.random_uniform([])  # Empty array as shape creates a scalar.\n",
    "y = tf.random_uniform([])\n",
    "out = tf.cond(tf.greater(x, y), lambda: x + y, lambda: x - y)\n",
    "print(sess.run(out))\n",
    "\n",
    "###############################################################################\n",
    "# 1b: Create two 0-d tensors x and y randomly selected from the range [-1, 1).\n",
    "# Return x + y if x < y, x - y if x > y, 0 otherwise.\n",
    "# Hint: Look up tf.case().\n",
    "###############################################################################\n",
    "\n",
    "\n",
    "\n",
    "###############################################################################\n",
    "# 1c: Create the tensor x of the value [[0, -2, -1], [0, 1, 2]] \n",
    "# and y as a tensor of zeros with the same shape as x.\n",
    "# Return a boolean tensor that yields Trues if x equals y element-wise.\n",
    "# Hint: Look up tf.equal().\n",
    "###############################################################################\n",
    "\n",
    "# YOUR CODE\n",
    "\n",
    "###############################################################################\n",
    "# 1d: Create the tensor x of value \n",
    "# [29.05088806,  27.61298943,  31.19073486,  29.35532951,\n",
    "#  30.97266006,  26.67541885,  38.08450317,  20.74983215,\n",
    "#  34.94445419,  34.45999146,  29.06485367,  36.01657104,\n",
    "#  27.88236427,  20.56035233,  30.20379066,  29.51215172,\n",
    "#  33.71149445,  28.59134293,  36.05556488,  28.66994858].\n",
    "# Get the indices of elements in x whose values are greater than 30.\n",
    "# Hint: Use tf.where().\n",
    "# Then extract elements whose values are greater than 30.\n",
    "# Hint: Use tf.gather().\n",
    "###############################################################################\n",
    "\n",
    "# YOUR CODE\n",
    "\n",
    "###############################################################################\n",
    "# 1e: Create a diagnoal 2-d tensor of size 6 x 6 with the diagonal values of 1,\n",
    "# 2, ..., 6\n",
    "# Hint: Use tf.range() and tf.diag().\n",
    "###############################################################################\n",
    "\n",
    "# YOUR CODE\n",
    "\n",
    "###############################################################################\n",
    "# 1f: Create a random 2-d tensor of size 10 x 10 from any distribution.\n",
    "# Calculate its determinant.\n",
    "# Hint: Look at tf.matrix_determinant().\n",
    "###############################################################################\n",
    "\n",
    "# YOUR CODE\n",
    "\n",
    "###############################################################################\n",
    "# 1g: Create tensor x with value [5, 2, 3, 5, 10, 6, 2, 3, 4, 2, 1, 1, 0, 9].\n",
    "# Return the unique elements in x\n",
    "# Hint: use tf.unique(). Keep in mind that tf.unique() returns a tuple.\n",
    "###############################################################################\n",
    "\n",
    "# YOUR CODE\n",
    "\n",
    "###############################################################################\n",
    "# 1h: Create two tensors x and y of shape 300 from any normal distribution,\n",
    "# as long as they are from the same distribution.\n",
    "# Use tf.cond() to return:\n",
    "# - The mean squared error of (x - y) if the average of all elements in (x - y)\n",
    "#   is negative, or\n",
    "# - The sum of absolute value of all elements in the tensor (x - y) otherwise.\n",
    "# Hint: see the Huber loss function in the lecture slides 3.\n",
    "###############################################################################\n",
    "\n",
    "# YOUR CODE"
   ]
  },
  {
   "cell_type": "code",
   "execution_count": 4,
   "metadata": {},
   "outputs": [
    {
     "name": "stdout",
     "output_type": "stream",
     "text": [
      "WARNING:tensorflow:case: An unordered dictionary of predicate/fn pairs was provided, but exclusive=False. The order of conditional tests is deterministic but not guaranteed.\n",
      "-1.8001301\n"
     ]
    }
   ],
   "source": [
    "tf.reset_default_graph()\n",
    "x = tf.random_uniform(shape=[], minval=-1, maxval=1, dtype=tf.float32)\n",
    "y = tf.random_uniform(shape=[], minval=-1, maxval=1, dtype=tf.float32)\n",
    "out = tf.case({x < y: (lambda: x+y),\n",
    "               x > y: (lambda: x-y)},\n",
    "              default=(lambda: 0.0))\n",
    "with tf.Session() as sess:\n",
    "    print(sess.run(out))"
   ]
  },
  {
   "cell_type": "code",
   "execution_count": 8,
   "metadata": {},
   "outputs": [
    {
     "name": "stdout",
     "output_type": "stream",
     "text": [
      "[[ True False False]\n",
      " [ True False False]]\n"
     ]
    }
   ],
   "source": [
    "x = [[0, 2, 1], [0, -1, -2]]\n",
    "y = tf.zeros(shape=(2,3),dtype=tf.int32)\n",
    "out = tf.equal(x, y)\n",
    "with tf.Session() as sess:\n",
    "    print(sess.run(out))"
   ]
  },
  {
   "cell_type": "code",
   "execution_count": 15,
   "metadata": {},
   "outputs": [
    {
     "name": "stdout",
     "output_type": "stream",
     "text": [
      "[array([[ 2],\n",
      "       [ 4],\n",
      "       [ 6],\n",
      "       [ 8],\n",
      "       [ 9],\n",
      "       [11],\n",
      "       [14],\n",
      "       [16],\n",
      "       [18]], dtype=int64), array([[31.190735],\n",
      "       [30.97266 ],\n",
      "       [38.084503],\n",
      "       [34.944454],\n",
      "       [34.45999 ],\n",
      "       [36.01657 ],\n",
      "       [30.20379 ],\n",
      "       [33.711494],\n",
      "       [36.055565]], dtype=float32)]\n"
     ]
    }
   ],
   "source": [
    "x =[29.05088806,  27.61298943,  31.19073486,  29.35532951,\n",
    " 30.97266006,  26.67541885,  38.08450317,  20.74983215,\n",
    " 34.94445419,  34.45999146,  29.06485367,  36.01657104,\n",
    " 27.88236427,  20.56035233,  30.20379066,  29.51215172,\n",
    " 33.71149445,  28.59134293,  36.05556488,  28.66994858]\n",
    "out1 = tf.where(tf.greater(x, 30))\n",
    "out2 = tf.gather(x, out1)\n",
    "with tf.Session() as sess:\n",
    "    print(sess.run([out1,out2]))"
   ]
  },
  {
   "cell_type": "code",
   "execution_count": 16,
   "metadata": {},
   "outputs": [
    {
     "name": "stdout",
     "output_type": "stream",
     "text": [
      "[[1 0 0 0 0 0]\n",
      " [0 2 0 0 0 0]\n",
      " [0 0 3 0 0 0]\n",
      " [0 0 0 4 0 0]\n",
      " [0 0 0 0 5 0]\n",
      " [0 0 0 0 0 6]]\n"
     ]
    }
   ],
   "source": [
    "diag = tf.diag(tf.range(1,7))\n",
    "with tf.Session() as sess:\n",
    "    print(sess.run(diag))"
   ]
  },
  {
   "cell_type": "code",
   "execution_count": 19,
   "metadata": {},
   "outputs": [
    {
     "name": "stdout",
     "output_type": "stream",
     "text": [
      "[array([[0.08204412, 0.4617895 , 0.65314317, 0.35918808, 0.83899343,\n",
      "        0.0683533 , 0.4634521 , 0.79272974, 0.15789092, 0.01455104],\n",
      "       [0.10879493, 0.9301678 , 0.6100409 , 0.77076876, 0.58906984,\n",
      "        0.64836025, 0.3915379 , 0.36647332, 0.09140646, 0.9623364 ],\n",
      "       [0.00426507, 0.17026079, 0.6252208 , 0.43848753, 0.4433025 ,\n",
      "        0.38772285, 0.07178414, 0.5761032 , 0.09315491, 0.79337955],\n",
      "       [0.80500305, 0.09761369, 0.5921879 , 0.565626  , 0.9552921 ,\n",
      "        0.13669598, 0.88456726, 0.71196663, 0.5313505 , 0.13599277],\n",
      "       [0.58390415, 0.01183748, 0.9372722 , 0.03900325, 0.17324603,\n",
      "        0.1482631 , 0.87750435, 0.46752143, 0.53297806, 0.94097483],\n",
      "       [0.7745589 , 0.6088046 , 0.9138253 , 0.3655845 , 0.7905592 ,\n",
      "        0.66924214, 0.5212085 , 0.4094702 , 0.6361649 , 0.46112072],\n",
      "       [0.92499804, 0.39048326, 0.9970274 , 0.58610344, 0.3691374 ,\n",
      "        0.8081573 , 0.8941251 , 0.57996285, 0.2831707 , 0.4640082 ],\n",
      "       [0.63998544, 0.66156745, 0.66176844, 0.5256363 , 0.65855014,\n",
      "        0.7759619 , 0.43439698, 0.02681088, 0.92779815, 0.39296567],\n",
      "       [0.52089214, 0.86874473, 0.71944857, 0.7511064 , 0.5526806 ,\n",
      "        0.48721707, 0.6953144 , 0.71209836, 0.56254864, 0.36027825],\n",
      "       [0.28736198, 0.33394265, 0.0306325 , 0.73729455, 0.06396055,\n",
      "        0.0109303 , 0.68391657, 0.27945304, 0.08217728, 0.831486  ]],\n",
      "      dtype=float32), -0.002067992]\n"
     ]
    }
   ],
   "source": [
    "rand = tf.random_uniform(shape=(10,10))\n",
    "det = tf.matrix_determinant(rand)\n",
    "with tf.Session() as sess:\n",
    "    print(sess.run([rand, det]))"
   ]
  },
  {
   "cell_type": "code",
   "execution_count": 21,
   "metadata": {},
   "outputs": [
    {
     "name": "stdout",
     "output_type": "stream",
     "text": [
      "Unique(y=array([ 5,  2,  3, 10,  6,  4,  1,  0,  9]), idx=array([0, 1, 2, 0, 3, 4, 1, 2, 5, 1, 6, 6, 7, 8]))\n"
     ]
    }
   ],
   "source": [
    "x = [5, 2, 3, 5, 10, 6, 2, 3, 4, 2, 1, 1, 0, 9]\n",
    "out = tf.unique(x)\n",
    "with tf.Session() as sess:\n",
    "    print(sess.run(out))"
   ]
  },
  {
   "cell_type": "code",
   "execution_count": 34,
   "metadata": {},
   "outputs": [
    {
     "name": "stdout",
     "output_type": "stream",
     "text": [
      "1011.2201\n"
     ]
    }
   ],
   "source": [
    "def loss(x, y):\n",
    "    avg = tf.reduce_mean(x - y)\n",
    "    def f1(): return tf.losses.mean_squared_error(y, x)\n",
    "    def f2(): return tf.reduce_sum(tf.abs(x-y))\n",
    "    return tf.cond(avg < 0,true_fn=f1, false_fn=f2)\n",
    "\n",
    "x = tf.random_normal(shape=[300], mean=0, stddev=3)\n",
    "y = tf.random_normal(shape=[300], mean=0, stddev=3)\n",
    "out = loss(x, y)\n",
    "with tf.Session() as sess:\n",
    "    print(sess.run(out))"
   ]
  }
 ],
 "metadata": {
  "kernelspec": {
   "display_name": "Python 3",
   "language": "python",
   "name": "python3"
  },
  "language_info": {
   "codemirror_mode": {
    "name": "ipython",
    "version": 3
   },
   "file_extension": ".py",
   "mimetype": "text/x-python",
   "name": "python",
   "nbconvert_exporter": "python",
   "pygments_lexer": "ipython3",
   "version": "3.6.5"
  }
 },
 "nbformat": 4,
 "nbformat_minor": 2
}
