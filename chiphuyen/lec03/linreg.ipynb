{
 "cells": [
  {
   "cell_type": "code",
   "execution_count": 1,
   "metadata": {},
   "outputs": [],
   "source": [
    "import pandas as pd\n",
    "import seaborn as sns\n",
    "import numpy as np\n",
    "import tensorflow as tf\n",
    "import matplotlib.pyplot as plt"
   ]
  },
  {
   "cell_type": "code",
   "execution_count": 2,
   "metadata": {},
   "outputs": [],
   "source": [
    "from IPython.core.interactiveshell import InteractiveShell\n",
    "InteractiveShell.ast_node_interactivity = \"all\""
   ]
  },
  {
   "cell_type": "code",
   "execution_count": 3,
   "metadata": {},
   "outputs": [],
   "source": [
    "birth_data = pd.read_csv('./birth_life_2010.txt', sep='\\t')"
   ]
  },
  {
   "cell_type": "code",
   "execution_count": 4,
   "metadata": {},
   "outputs": [
    {
     "data": {
      "text/plain": [
       "Country             object\n",
       "Birth rate         float64\n",
       "Life expectancy    float64\n",
       "dtype: object"
      ]
     },
     "execution_count": 4,
     "metadata": {},
     "output_type": "execute_result"
    },
    {
     "data": {
      "text/plain": [
       "Country            190\n",
       "Birth rate         190\n",
       "Life expectancy    190\n",
       "dtype: int64"
      ]
     },
     "execution_count": 4,
     "metadata": {},
     "output_type": "execute_result"
    },
    {
     "data": {
      "text/html": [
       "<div>\n",
       "<style scoped>\n",
       "    .dataframe tbody tr th:only-of-type {\n",
       "        vertical-align: middle;\n",
       "    }\n",
       "\n",
       "    .dataframe tbody tr th {\n",
       "        vertical-align: top;\n",
       "    }\n",
       "\n",
       "    .dataframe thead th {\n",
       "        text-align: right;\n",
       "    }\n",
       "</style>\n",
       "<table border=\"1\" class=\"dataframe\">\n",
       "  <thead>\n",
       "    <tr style=\"text-align: right;\">\n",
       "      <th></th>\n",
       "      <th>Country</th>\n",
       "      <th>Birth rate</th>\n",
       "      <th>Life expectancy</th>\n",
       "    </tr>\n",
       "  </thead>\n",
       "  <tbody>\n",
       "    <tr>\n",
       "      <th>0</th>\n",
       "      <td>Vietnam</td>\n",
       "      <td>1.822</td>\n",
       "      <td>74.828244</td>\n",
       "    </tr>\n",
       "    <tr>\n",
       "      <th>1</th>\n",
       "      <td>Vanuatu</td>\n",
       "      <td>3.869</td>\n",
       "      <td>70.819488</td>\n",
       "    </tr>\n",
       "    <tr>\n",
       "      <th>2</th>\n",
       "      <td>Tonga</td>\n",
       "      <td>3.911</td>\n",
       "      <td>72.150659</td>\n",
       "    </tr>\n",
       "    <tr>\n",
       "      <th>3</th>\n",
       "      <td>Timor-Leste</td>\n",
       "      <td>5.578</td>\n",
       "      <td>61.999854</td>\n",
       "    </tr>\n",
       "    <tr>\n",
       "      <th>4</th>\n",
       "      <td>Thailand</td>\n",
       "      <td>1.579</td>\n",
       "      <td>73.927659</td>\n",
       "    </tr>\n",
       "  </tbody>\n",
       "</table>\n",
       "</div>"
      ],
      "text/plain": [
       "       Country  Birth rate  Life expectancy\n",
       "0      Vietnam       1.822        74.828244\n",
       "1      Vanuatu       3.869        70.819488\n",
       "2        Tonga       3.911        72.150659\n",
       "3  Timor-Leste       5.578        61.999854\n",
       "4     Thailand       1.579        73.927659"
      ]
     },
     "execution_count": 4,
     "metadata": {},
     "output_type": "execute_result"
    }
   ],
   "source": [
    "birth_data.dtypes\n",
    "birth_data.count()\n",
    "birth_data.head()\n",
    "tf.reset_default_graph()"
   ]
  },
  {
   "cell_type": "code",
   "execution_count": 5,
   "metadata": {},
   "outputs": [],
   "source": [
    "# Creating placeholders\n",
    "x, y = tf.placeholder(dtype=np.float64, name=\"birth_r\"), tf.placeholder(dtype=np.float64,name=\"life_e\")"
   ]
  },
  {
   "cell_type": "code",
   "execution_count": 6,
   "metadata": {},
   "outputs": [],
   "source": [
    "# Creating weight and bias\n",
    "w, b = tf.get_variable(initializer=tf.constant(0, dtype=np.float64), name='weight'), tf.get_variable(initializer=tf.constant(0, dtype=np.float64), name='bias')"
   ]
  },
  {
   "cell_type": "code",
   "execution_count": 7,
   "metadata": {},
   "outputs": [],
   "source": [
    "y_predicted = (w * x) + b"
   ]
  },
  {
   "cell_type": "code",
   "execution_count": 8,
   "metadata": {},
   "outputs": [],
   "source": [
    "loss = tf.square(y - y_predicted, name='loss')"
   ]
  },
  {
   "cell_type": "code",
   "execution_count": 9,
   "metadata": {},
   "outputs": [],
   "source": [
    "def huber_loss(labels, predictions, delta=np.float64(14.0)):\n",
    "    residual = tf.abs(labels - predictions)\n",
    "    def f1(): return np.float64(0.5) * tf.square(residual)\n",
    "    def f2(): return delta * residual - np.float64(0.5) * tf.square(delta)\n",
    "    return tf.cond(residual < delta, f1, f2)"
   ]
  },
  {
   "cell_type": "code",
   "execution_count": 10,
   "metadata": {},
   "outputs": [],
   "source": [
    "h_loss = huber_loss(y, y_predicted)"
   ]
  },
  {
   "cell_type": "code",
   "execution_count": 11,
   "metadata": {},
   "outputs": [],
   "source": [
    "opt = tf.train.GradientDescentOptimizer(learning_rate=0.001)\n",
    "optimizer = opt.minimize(loss)\n",
    "optimizer_huber = opt.minimize(h_loss)"
   ]
  },
  {
   "cell_type": "code",
   "execution_count": 12,
   "metadata": {},
   "outputs": [],
   "source": [
    "writer = tf.summary.FileWriter('./tensorboard' + '/lin_reg', tf.get_default_graph())"
   ]
  },
  {
   "cell_type": "code",
   "execution_count": 13,
   "metadata": {},
   "outputs": [
    {
     "name": "stdout",
     "output_type": "stream",
     "text": [
      "Epoch 0:712.535005237587\n",
      "Epoch 1:480.17676745085214\n",
      "Epoch 2:411.2783237319824\n",
      "Epoch 3:381.1437006393165\n",
      "Epoch 4:363.96513105775836\n",
      "Epoch 5:352.0026897210582\n",
      "Epoch 6:342.6589142409693\n",
      "Epoch 7:334.84087751432867\n",
      "Epoch 8:327.95165012670867\n",
      "Epoch 9:321.6345623793285\n",
      "Epoch 10:315.69396215732445\n",
      "Epoch 11:310.0037171133151\n",
      "Epoch 12:304.46417818447446\n",
      "Epoch 13:299.02817979825744\n",
      "Epoch 14:293.669062832272\n",
      "Epoch 15:288.3635381322181\n",
      "Epoch 16:283.09297746640374\n",
      "Epoch 17:277.85605220319576\n",
      "Epoch 18:272.6434969243245\n",
      "Epoch 19:267.4463027846113\n",
      "Epoch 20:262.2599240139595\n",
      "Epoch 21:257.08643654871054\n",
      "Epoch 22:251.93354336655545\n",
      "Epoch 23:246.79729668423587\n",
      "Epoch 24:241.6799176966745\n",
      "Epoch 25:236.58196062613882\n",
      "Epoch 26:231.50320557146858\n",
      "Epoch 27:226.44629723773215\n",
      "Epoch 28:221.4129237812956\n",
      "Epoch 29:216.40054086517657\n",
      "Epoch 30:211.41798175320912\n",
      "Epoch 31:206.46303673549016\n",
      "Epoch 32:201.52502939993994\n",
      "Epoch 33:196.6060671764693\n",
      "Epoch 34:191.6989427419048\n",
      "Epoch 35:186.81899044067575\n",
      "Epoch 36:181.96953296001823\n",
      "Epoch 37:177.15754120893368\n",
      "Epoch 38:172.36444247040987\n",
      "Epoch 39:167.59059609611907\n",
      "Epoch 40:162.8454181268411\n",
      "Epoch 41:158.1295927366957\n",
      "Epoch 42:153.44401209896463\n",
      "Epoch 43:148.7886435835149\n",
      "Epoch 44:144.17398439039098\n",
      "Epoch 45:139.5928249067737\n",
      "Epoch 46:135.07923709258898\n",
      "Epoch 47:130.6131671501594\n",
      "Epoch 48:126.20513953984663\n",
      "Epoch 49:121.83894880547942\n",
      "Epoch 50:117.52954991943882\n",
      "Epoch 51:113.27404710113518\n",
      "Epoch 52:109.09242135477908\n",
      "Epoch 53:104.98827531610783\n",
      "Epoch 54:100.9678155598923\n",
      "Epoch 55:97.0403592692258\n",
      "Epoch 56:93.2053340160193\n",
      "Epoch 57:89.44749227975167\n",
      "Epoch 58:85.79463283906888\n",
      "Epoch 59:82.24441901480634\n",
      "Epoch 60:78.80965197594647\n",
      "Epoch 61:75.46427323958856\n",
      "Epoch 62:72.22772459948571\n",
      "Epoch 63:69.09653571657256\n",
      "Epoch 64:66.07278240589504\n",
      "Epoch 65:63.1721780481466\n",
      "Epoch 66:60.391124103900516\n",
      "Epoch 67:57.7323228950631\n",
      "Epoch 68:55.188860299589386\n",
      "Epoch 69:52.76543982059821\n",
      "Epoch 70:50.44132430843789\n",
      "Epoch 71:48.232267379936836\n",
      "Epoch 72:46.14775903607043\n",
      "Epoch 73:44.156374559991015\n",
      "Epoch 74:42.26880610280763\n",
      "Epoch 75:40.49422650052482\n",
      "Epoch 76:38.82101067695402\n",
      "Epoch 77:37.26494127096528\n",
      "Epoch 78:35.80413839174171\n",
      "Epoch 79:34.42814911701365\n",
      "Epoch 80:33.14035325652392\n",
      "Epoch 81:31.934923739334643\n",
      "Epoch 82:30.80651484889791\n",
      "Epoch 83:29.74847124427238\n",
      "Epoch 84:28.757186655235973\n",
      "Epoch 85:27.828553629965864\n",
      "Epoch 86:26.958627374221354\n",
      "Epoch 87:26.143698513484722\n",
      "Epoch 88:25.38594970919858\n",
      "Epoch 89:24.680751135915575\n",
      "Epoch 90:24.01943992523579\n",
      "Epoch 91:23.411165043126914\n",
      "Epoch 92:22.841066886532364\n",
      "Epoch 93:22.308223102999655\n",
      "Epoch 94:21.810574039383194\n",
      "Epoch 95:21.345857431448376\n",
      "Epoch 96:20.91191430627154\n",
      "Epoch 97:20.506721226269324\n",
      "Epoch 98:20.12838661782419\n",
      "Epoch 99:19.776506143038834\n",
      "w=-4.225027216229759, b=78.48519022881212\n"
     ]
    },
    {
     "data": {
      "text/plain": [
       "[<matplotlib.lines.Line2D at 0x2781c528780>]"
      ]
     },
     "execution_count": 13,
     "metadata": {},
     "output_type": "execute_result"
    },
    {
     "data": {
      "text/plain": [
       "[<matplotlib.lines.Line2D at 0x2781c528e80>]"
      ]
     },
     "execution_count": 13,
     "metadata": {},
     "output_type": "execute_result"
    },
    {
     "data": {
      "image/png": "[encoded data removed]",
      "text/plain": [
       "<Figure size 432x288 with 1 Axes>"
      ]
     },
     "metadata": {},
     "output_type": "display_data"
    }
   ],
   "source": [
    "with tf.Session() as sess:\n",
    "    sess.run(tf.variables_initializer([w,b]))\n",
    "    \n",
    "    for i in range(100):\n",
    "        total_loss = 0\n",
    "        for X, Y in zip(birth_data['Birth rate'], birth_data['Life expectancy']):\n",
    "            l, _, _ = sess.run([h_loss, optimizer_huber, y_predicted], feed_dict={x:X, y:Y})\n",
    "            total_loss += l\n",
    "        \n",
    "        print(\"Epoch {0}:{1}\".format(i, total_loss/birth_data.shape[0]))\n",
    "    writer.close()\n",
    "    print(\"w={0}, b={1}\".format(w.eval(), b.eval()))\n",
    "    plt.plot(birth_data['Birth rate'], birth_data['Life expectancy'], 'bo')\n",
    "    plt.plot(birth_data['Birth rate'], birth_data['Birth rate'] * w.eval() + b.eval(), 'r')"
   ]
  },
  {
   "cell_type": "code",
   "execution_count": 14,
   "metadata": {},
   "outputs": [
    {
     "name": "stdout",
     "output_type": "stream",
     "text": [
      "Epoch 0:1661.8638730976656\n",
      "Epoch 1:956.3225690576431\n",
      "Epoch 2:844.6738394498406\n",
      "Epoch 3:750.7314060156839\n",
      "Epoch 4:667.6598282113505\n",
      "Epoch 5:594.1417219832335\n",
      "Epoch 6:529.0788766474066\n",
      "Epoch 7:471.5001157634628\n",
      "Epoch 8:420.5457506072149\n",
      "Epoch 9:375.4547737484029\n",
      "Epoch 10:335.5535356719831\n",
      "Epoch 11:300.2457206550498\n",
      "Epoch 12:269.00347266092314\n",
      "Epoch 13:241.3595393258136\n",
      "Epoch 14:216.90031724895425\n",
      "Epoch 15:195.2596951936688\n",
      "Epoch 16:176.11360366675348\n",
      "Epoch 17:159.17518984306693\n",
      "Epoch 18:144.190546097416\n",
      "Epoch 19:130.93492863480995\n",
      "Epoch 20:119.20940999523225\n",
      "Epoch 21:108.83791565852711\n",
      "Epoch 22:99.66460068466995\n",
      "Epoch 23:91.55152737940328\n",
      "Epoch 24:84.37660945014741\n",
      "Epoch 25:78.03179207872884\n",
      "Epoch 26:72.42144084464823\n",
      "Epoch 27:67.46091553750685\n",
      "Epoch 28:63.075307645961594\n",
      "Epoch 29:59.198322744005104\n",
      "Epoch 30:55.771291149674845\n",
      "Epoch 31:52.74229213847483\n",
      "Epoch 32:50.06537868220367\n",
      "Epoch 33:47.699891178625435\n",
      "Epoch 34:45.6098499606781\n",
      "Epoch 35:43.76341754539487\n",
      "Epoch 36:42.13242261981514\n",
      "Epoch 37:40.69193867927697\n",
      "Epoch 38:39.419911046291354\n",
      "Epoch 39:38.296826717764446\n",
      "Epoch 40:37.30542212534894\n",
      "Epoch 41:36.43042445764917\n",
      "Epoch 42:35.65832269224846\n",
      "Epoch 43:34.977164927511495\n",
      "Epoch 44:34.376378995374736\n",
      "Epoch 45:33.84661368273034\n",
      "Epoch 46:33.379598195651624\n",
      "Epoch 47:32.968017772175955\n",
      "Epoch 48:32.60540358968524\n",
      "Epoch 49:32.28603532567221\n",
      "Epoch 50:32.00485491902632\n",
      "Epoch 51:31.757390245706176\n",
      "Epoch 52:31.5396875702677\n",
      "Epoch 53:31.348251765392295\n",
      "Epoch 54:31.179993407226966\n",
      "Epoch 55:31.032181956761022\n",
      "Epoch 56:30.9024043281127\n",
      "Epoch 57:30.788528224852833\n",
      "Epoch 58:30.6886696965369\n",
      "Epoch 59:30.601164430507826\n",
      "Epoch 60:30.524542349704216\n",
      "Epoch 61:30.457505136498277\n",
      "Epoch 62:30.39890634621392\n",
      "Epoch 63:30.347733812598605\n",
      "Epoch 64:30.303094081714047\n",
      "Epoch 65:30.264198640975195\n",
      "Epoch 66:30.230351736859436\n",
      "Epoch 67:30.200939598525547\n",
      "Epoch 68:30.17542090557627\n",
      "Epoch 69:30.15331835678138\n",
      "Epoch 70:30.134211213034167\n",
      "Epoch 71:30.117728702369607\n",
      "Epoch 72:30.103544187769575\n",
      "Epoch 73:30.091370009888426\n",
      "Epoch 74:30.080952926931715\n",
      "Epoch 75:30.072070082863902\n",
      "Epoch 76:30.064525443033045\n",
      "Epoch 77:30.058146643305918\n",
      "Epoch 78:30.05278220500716\n",
      "Epoch 79:30.04829907344532\n",
      "Epoch 80:30.04458044266585\n",
      "Epoch 81:30.041523833368913\n",
      "Epoch 82:30.039039394740136\n",
      "Epoch 83:30.037048404304215\n",
      "Epoch 84:30.0354819429005\n",
      "Epoch 85:30.034279724509293\n",
      "Epoch 86:30.03338906300143\n",
      "Epoch 87:30.032763959943523\n",
      "Epoch 88:30.032364299425634\n",
      "Epoch 89:30.032155137492698\n",
      "Epoch 90:30.03210607519698\n",
      "Epoch 91:30.032190705554378\n",
      "Epoch 92:30.032386125809836\n",
      "Epoch 93:30.03267250741051\n",
      "Epoch 94:30.033032716963497\n",
      "Epoch 95:30.033451982231092\n",
      "Epoch 96:30.033917597906846\n",
      "Epoch 97:30.03441866652137\n",
      "Epoch 98:30.03494587036783\n",
      "Epoch 99:30.035491270811832\n",
      "w=-6.070215098160002, b=84.9295051191571\n"
     ]
    },
    {
     "data": {
      "text/plain": [
       "[<matplotlib.lines.Line2D at 0x2781e5cbc18>]"
      ]
     },
     "execution_count": 14,
     "metadata": {},
     "output_type": "execute_result"
    },
    {
     "data": {
      "text/plain": [
       "[<matplotlib.lines.Line2D at 0x2781e5d5208>]"
      ]
     },
     "execution_count": 14,
     "metadata": {},
     "output_type": "execute_result"
    },
    {
     "data": {
      "image/png": "[encoded data removed]",
      "text/plain": [
       "<Figure size 432x288 with 1 Axes>"
      ]
     },
     "metadata": {},
     "output_type": "display_data"
    }
   ],
   "source": [
    "with tf.Session() as sess:\n",
    "    sess.run(tf.variables_initializer([w,b]))\n",
    "    \n",
    "    for i in range(100):\n",
    "        total_loss = 0\n",
    "        for X, Y in zip(birth_data['Birth rate'], birth_data['Life expectancy']):\n",
    "            l, _, _ = sess.run([loss, optimizer, y_predicted], feed_dict={x:X, y:Y})\n",
    "            total_loss += l\n",
    "        \n",
    "        print(\"Epoch {0}:{1}\".format(i, total_loss/birth_data.shape[0]))\n",
    "    writer.close()\n",
    "    print(\"w={0}, b={1}\".format(w.eval(), b.eval()))\n",
    "    plt.plot(birth_data['Birth rate'], birth_data['Life expectancy'], 'bo')\n",
    "    plt.plot(birth_data['Birth rate'], birth_data['Birth rate'] * w.eval() + b.eval(), 'r')"
   ]
  },
  {
   "cell_type": "code",
   "execution_count": 15,
   "metadata": {},
   "outputs": [],
   "source": [
    "#Huber loss reduces the final loss, but is the graph really better or more indicative this way? I say no."
   ]
  },
  {
   "cell_type": "code",
   "execution_count": 16,
   "metadata": {},
   "outputs": [],
   "source": [
    "#Using tf.data"
   ]
  },
  {
   "cell_type": "code",
   "execution_count": 17,
   "metadata": {},
   "outputs": [],
   "source": [
    "dataset = tf.data.Dataset.from_tensor_slices((birth_data['Birth rate'], birth_data['Life expectancy']))"
   ]
  },
  {
   "cell_type": "code",
   "execution_count": 20,
   "metadata": {},
   "outputs": [
    {
     "name": "stdout",
     "output_type": "stream",
     "text": [
      "(TensorShape([]), TensorShape([]))\n",
      "(tf.float64, tf.float64)\n"
     ]
    }
   ],
   "source": [
    "print(dataset.output_shapes)\n",
    "print(dataset.output_types)"
   ]
  },
  {
   "cell_type": "code",
   "execution_count": 21,
   "metadata": {},
   "outputs": [],
   "source": [
    "iterator = dataset.make_one_shot_iterator()\n",
    "X, Y = iterator.get_next()"
   ]
  },
  {
   "cell_type": "code",
   "execution_count": 23,
   "metadata": {},
   "outputs": [
    {
     "data": {
      "text/plain": [
       "[1.8219999999999998, 74.828243902]"
      ]
     },
     "execution_count": 23,
     "metadata": {},
     "output_type": "execute_result"
    },
    {
     "data": {
      "text/plain": [
       "[3.8689999999999998, 70.819487805]"
      ]
     },
     "execution_count": 23,
     "metadata": {},
     "output_type": "execute_result"
    }
   ],
   "source": [
    "with tf.Session() as sess:\n",
    "    sess.run([X, Y])\n",
    "    sess.run([X, Y])"
   ]
  },
  {
   "cell_type": "code",
   "execution_count": 24,
   "metadata": {},
   "outputs": [],
   "source": [
    "# For initializable iterator, just initialize it and skip the feed_dict. It should work.\n",
    "# iterator = dataset.make_initializable_iterator()\n",
    "# ...\n",
    "# for i in range(100): \n",
    "#         sess.run(iterator.initializer) \n",
    "#         total_loss = 0\n",
    "#         try:\n",
    "#             while True:\n",
    "#                 sess.run([optimizer]) \n",
    "#         except tf.errors.OutOfRangeError:\n",
    "#             pass"
   ]
  },
  {
   "cell_type": "code",
   "execution_count": 26,
   "metadata": {},
   "outputs": [],
   "source": [
    "mnist_train = pd.read_csv('../../mnist/train.csv')\n",
    "mnist_test = pd.read_csv('../../mnist/test.csv')"
   ]
  },
  {
   "cell_type": "code",
   "execution_count": 31,
   "metadata": {},
   "outputs": [],
   "source": [
    "pixel_list = mnist_train.drop(columns='label').columns"
   ]
  },
  {
   "cell_type": "code",
   "execution_count": 33,
   "metadata": {},
   "outputs": [],
   "source": [
    "mnist_dataset_train = tf.data.Dataset.from_tensor_slices((mnist_train[pixel_list], mnist_train['label']))"
   ]
  },
  {
   "cell_type": "code",
   "execution_count": 37,
   "metadata": {},
   "outputs": [],
   "source": [
    "iterator = mnist_dataset_train.make_one_shot_iterator()\n",
    "X, Y = iterator.get_next()"
   ]
  },
  {
   "cell_type": "code",
   "execution_count": null,
   "metadata": {},
   "outputs": [],
   "source": [
    "Y_predicted = tf.nn.softmax(X * w + b)"
   ]
  },
  {
   "cell_type": "code",
   "execution_count": 38,
   "metadata": {},
   "outputs": [
    {
     "data": {
      "text/plain": [
       "[array([  0,   0,   0,   0,   0,   0,   0,   0,   0,   0,   0,   0,   0,\n",
       "          0,   0,   0,   0,   0,   0,   0,   0,   0,   0,   0,   0,   0,\n",
       "          0,   0,   0,   0,   0,   0,   0,   0,   0,   0,   0,   0,   0,\n",
       "          0,   0,   0,   0,   0,   0,   0,   0,   0,   0,   0,   0,   0,\n",
       "          0,   0,   0,   0,   0,   0,   0,   0,   0,   0,   0,   0,   0,\n",
       "          0,   0,   0,   0,   0,   0,   0,   0,   0,   0,   0,   0,   0,\n",
       "          0,   0,   0,   0,   0,   0,   0,   0,   0,   0,   0,   0,   0,\n",
       "          0,   0,   0,   0,   0,   0,   0,   0,   0,   0,   0,   0,   0,\n",
       "          0,   0,   0,   0,   0,   0,   0,   0,   0,   0,   0,   0,   0,\n",
       "          0,   0,   0,   0,   0,   0,   0,   0,   0,   0,   0,   0,   0,\n",
       "          0,   0, 188, 255,  94,   0,   0,   0,   0,   0,   0,   0,   0,\n",
       "          0,   0,   0,   0,   0,   0,   0,   0,   0,   0,   0,   0,   0,\n",
       "          0,   0,   0, 191, 250, 253,  93,   0,   0,   0,   0,   0,   0,\n",
       "          0,   0,   0,   0,   0,   0,   0,   0,   0,   0,   0,   0,   0,\n",
       "          0,   0,   0,   0, 123, 248, 253, 167,  10,   0,   0,   0,   0,\n",
       "          0,   0,   0,   0,   0,   0,   0,   0,   0,   0,   0,   0,   0,\n",
       "          0,   0,   0,   0,   0,  80, 247, 253, 208,  13,   0,   0,   0,\n",
       "          0,   0,   0,   0,   0,   0,   0,   0,   0,   0,   0,   0,   0,\n",
       "          0,   0,   0,   0,   0,   0,  29, 207, 253, 235,  77,   0,   0,\n",
       "          0,   0,   0,   0,   0,   0,   0,   0,   0,   0,   0,   0,   0,\n",
       "          0,   0,   0,   0,   0,   0,   0,  54, 209, 253, 253,  88,   0,\n",
       "          0,   0,   0,   0,   0,   0,   0,   0,   0,   0,   0,   0,   0,\n",
       "          0,   0,   0,   0,   0,   0,   0,   0,  93, 254, 253, 238, 170,\n",
       "         17,   0,   0,   0,   0,   0,   0,   0,   0,   0,   0,   0,   0,\n",
       "          0,   0,   0,   0,   0,   0,   0,   0,   0,  23, 210, 254, 253,\n",
       "        159,   0,   0,   0,   0,   0,   0,   0,   0,   0,   0,   0,   0,\n",
       "          0,   0,   0,   0,   0,   0,   0,   0,   0,   0,  16, 209, 253,\n",
       "        254, 240,  81,   0,   0,   0,   0,   0,   0,   0,   0,   0,   0,\n",
       "          0,   0,   0,   0,   0,   0,   0,   0,   0,   0,   0,   0,  27,\n",
       "        253, 253, 254,  13,   0,   0,   0,   0,   0,   0,   0,   0,   0,\n",
       "          0,   0,   0,   0,   0,   0,   0,   0,   0,   0,   0,   0,   0,\n",
       "         20, 206, 254, 254, 198,   7,   0,   0,   0,   0,   0,   0,   0,\n",
       "          0,   0,   0,   0,   0,   0,   0,   0,   0,   0,   0,   0,   0,\n",
       "          0,   0, 168, 253, 253, 196,   7,   0,   0,   0,   0,   0,   0,\n",
       "          0,   0,   0,   0,   0,   0,   0,   0,   0,   0,   0,   0,   0,\n",
       "          0,   0,   0,  20, 203, 253, 248,  76,   0,   0,   0,   0,   0,\n",
       "          0,   0,   0,   0,   0,   0,   0,   0,   0,   0,   0,   0,   0,\n",
       "          0,   0,   0,   0,  22, 188, 253, 245,  93,   0,   0,   0,   0,\n",
       "          0,   0,   0,   0,   0,   0,   0,   0,   0,   0,   0,   0,   0,\n",
       "          0,   0,   0,   0,   0,   0, 103, 253, 253, 191,   0,   0,   0,\n",
       "          0,   0,   0,   0,   0,   0,   0,   0,   0,   0,   0,   0,   0,\n",
       "          0,   0,   0,   0,   0,   0,   0,  89, 240, 253, 195,  25,   0,\n",
       "          0,   0,   0,   0,   0,   0,   0,   0,   0,   0,   0,   0,   0,\n",
       "          0,   0,   0,   0,   0,   0,   0,   0,  15, 220, 253, 253,  80,\n",
       "          0,   0,   0,   0,   0,   0,   0,   0,   0,   0,   0,   0,   0,\n",
       "          0,   0,   0,   0,   0,   0,   0,   0,   0,   0,  94, 253, 253,\n",
       "        253,  94,   0,   0,   0,   0,   0,   0,   0,   0,   0,   0,   0,\n",
       "          0,   0,   0,   0,   0,   0,   0,   0,   0,   0,   0,   0,  89,\n",
       "        251, 253, 250, 131,   0,   0,   0,   0,   0,   0,   0,   0,   0,\n",
       "          0,   0,   0,   0,   0,   0,   0,   0,   0,   0,   0,   0,   0,\n",
       "          0,   0, 214, 218,  95,   0,   0,   0,   0,   0,   0,   0,   0,\n",
       "          0,   0,   0,   0,   0,   0,   0,   0,   0,   0,   0,   0,   0,\n",
       "          0,   0,   0,   0,   0,   0,   0,   0,   0,   0,   0,   0,   0,\n",
       "          0,   0,   0,   0,   0,   0,   0,   0,   0,   0,   0,   0,   0,\n",
       "          0,   0,   0,   0,   0,   0,   0,   0,   0,   0,   0,   0,   0,\n",
       "          0,   0,   0,   0,   0,   0,   0,   0,   0,   0,   0,   0,   0,\n",
       "          0,   0,   0,   0,   0,   0,   0,   0,   0,   0,   0,   0,   0,\n",
       "          0,   0,   0,   0,   0,   0,   0,   0,   0,   0,   0,   0,   0,\n",
       "          0,   0,   0,   0,   0,   0,   0,   0,   0,   0,   0,   0,   0,\n",
       "          0,   0,   0,   0,   0,   0,   0,   0,   0,   0,   0,   0,   0,\n",
       "          0,   0,   0,   0], dtype=int64), 1]"
      ]
     },
     "execution_count": 38,
     "metadata": {},
     "output_type": "execute_result"
    }
   ],
   "source": [
    "with tf.Session() as sess:\n",
    "    sess.run([X, Y])"
   ]
  },
  {
   "cell_type": "code",
   "execution_count": null,
   "metadata": {},
   "outputs": [],
   "source": []
  }
 ],
 "metadata": {
  "kernelspec": {
   "display_name": "Python 3",
   "language": "python",
   "name": "python3"
  },
  "language_info": {
   "codemirror_mode": {
    "name": "ipython",
    "version": 3
   },
   "file_extension": ".py",
   "mimetype": "text/x-python",
   "name": "python",
   "nbconvert_exporter": "python",
   "pygments_lexer": "ipython3",
   "version": "3.6.5"
  }
 },
 "nbformat": 4,
 "nbformat_minor": 2
}
