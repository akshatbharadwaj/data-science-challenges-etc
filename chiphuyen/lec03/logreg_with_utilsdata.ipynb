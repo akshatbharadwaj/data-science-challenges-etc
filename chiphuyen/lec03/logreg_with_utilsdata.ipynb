{
 "cells": [
  {
   "cell_type": "code",
   "execution_count": 3,
   "metadata": {},
   "outputs": [],
   "source": [
    "import pandas as pd\n",
    "import seaborn as sns\n",
    "import numpy as np\n",
    "import tensorflow as tf\n",
    "import matplotlib.pyplot as plt\n",
    "import utils"
   ]
  },
  {
   "cell_type": "code",
   "execution_count": 4,
   "metadata": {},
   "outputs": [],
   "source": [
    "mnist_folder = '../../mnist'\n",
    "#utils.download_mnist(mnist_folder)"
   ]
  },
  {
   "cell_type": "code",
   "execution_count": 5,
   "metadata": {},
   "outputs": [],
   "source": [
    "train, val, test = utils.read_mnist(mnist_folder, flatten=True)\n",
    "tf.reset_default_graph()"
   ]
  },
  {
   "cell_type": "code",
   "execution_count": 6,
   "metadata": {},
   "outputs": [],
   "source": [
    "train_data = tf.data.Dataset.from_tensor_slices(train)\n",
    "test_data = tf.data.Dataset.from_tensor_slices(test)"
   ]
  },
  {
   "cell_type": "code",
   "execution_count": 7,
   "metadata": {},
   "outputs": [],
   "source": [
    "train_data = train_data.shuffle(10000)\n",
    "train_data = train_data.batch(128)\n",
    "test_data = test_data.batch(128)"
   ]
  },
  {
   "cell_type": "code",
   "execution_count": 8,
   "metadata": {},
   "outputs": [
    {
     "data": {
      "text/plain": [
       "(TensorShape([Dimension(None), Dimension(784)]),\n",
       " TensorShape([Dimension(None), Dimension(10)]))"
      ]
     },
     "execution_count": 8,
     "metadata": {},
     "output_type": "execute_result"
    }
   ],
   "source": [
    "train_data.output_shapes"
   ]
  },
  {
   "cell_type": "code",
   "execution_count": 9,
   "metadata": {},
   "outputs": [],
   "source": [
    "iterator = tf.data.Iterator.from_structure(output_shapes=train_data.output_shapes,\n",
    "                                            output_types=train_data.output_types)\n",
    "X, Y = iterator.get_next()"
   ]
  },
  {
   "cell_type": "code",
   "execution_count": 10,
   "metadata": {},
   "outputs": [
    {
     "data": {
      "text/plain": [
       "<tf.Tensor 'Shape:0' shape=(2,) dtype=int32>"
      ]
     },
     "execution_count": 10,
     "metadata": {},
     "output_type": "execute_result"
    }
   ],
   "source": [
    "tf.shape(X)"
   ]
  },
  {
   "cell_type": "code",
   "execution_count": 11,
   "metadata": {},
   "outputs": [],
   "source": [
    "train_init = iterator.make_initializer(train_data)\n",
    "test_init = iterator.make_initializer(test_data)"
   ]
  },
  {
   "cell_type": "code",
   "execution_count": 12,
   "metadata": {},
   "outputs": [],
   "source": [
    "tf.set_random_seed(42)"
   ]
  },
  {
   "cell_type": "code",
   "execution_count": 13,
   "metadata": {},
   "outputs": [],
   "source": [
    "w = tf.get_variable(initializer=tf.truncated_normal((784,10), dtype=np.float32, mean=0, stddev=0.01), name='weight')\n",
    "b = tf.get_variable(initializer=tf.zeros((1,10), dtype=np.float32), name='bias')"
   ]
  },
  {
   "cell_type": "code",
   "execution_count": 14,
   "metadata": {},
   "outputs": [],
   "source": [
    "logits = tf.matmul(X, w) + b"
   ]
  },
  {
   "cell_type": "code",
   "execution_count": 102,
   "metadata": {},
   "outputs": [],
   "source": [
    "# entropy = tf.nn.softmax_cross_entropy_with_logits(logits=logits, labels=Y)\n",
    "# loss = tf.reduce_mean(entropy)\n",
    "loss = tf.losses.hinge_loss(labels=Y, logits=logits)"
   ]
  },
  {
   "cell_type": "code",
   "execution_count": 115,
   "metadata": {},
   "outputs": [],
   "source": [
    "optimizer = tf.train.RMSPropOptimizer(learning_rate=0.0005).minimize(loss)"
   ]
  },
  {
   "cell_type": "code",
   "execution_count": 116,
   "metadata": {},
   "outputs": [],
   "source": [
    "preds = tf.nn.softmax(logits)\n",
    "correct_preds = tf.equal(tf.argmax(preds, 1), tf.argmax(Y, 1))\n",
    "accuracy = tf.reduce_sum(tf.cast(correct_preds, tf.float32))"
   ]
  },
  {
   "cell_type": "code",
   "execution_count": 117,
   "metadata": {},
   "outputs": [],
   "source": [
    "writer = tf.summary.FileWriter('./tensorboard/logreg', tf.get_default_graph())"
   ]
  },
  {
   "cell_type": "code",
   "execution_count": 118,
   "metadata": {},
   "outputs": [
    {
     "name": "stdout",
     "output_type": "stream",
     "text": [
      "Average loss epoch 0: 0.2588356328565021\n",
      "Average loss epoch 1: 0.08295975224396517\n",
      "Average loss epoch 2: 0.07213086578561816\n",
      "Average loss epoch 3: 0.06790027028426182\n",
      "Average loss epoch 4: 0.06534586567864861\n",
      "Average loss epoch 5: 0.0636243695176618\n",
      "Average loss epoch 6: 0.06238442861236805\n",
      "Average loss epoch 7: 0.06137545911898447\n",
      "Average loss epoch 8: 0.060548923441837\n",
      "Average loss epoch 9: 0.05983502999987713\n",
      "Average loss epoch 10: 0.059211713014993554\n",
      "Average loss epoch 11: 0.058671556313543816\n",
      "Average loss epoch 12: 0.058178615591727025\n",
      "Average loss epoch 13: 0.05778217419635418\n",
      "Average loss epoch 14: 0.057357397684177684\n",
      "Average loss epoch 15: 0.05705744547466206\n",
      "Average loss epoch 16: 0.05674909270086954\n",
      "Average loss epoch 17: 0.05644421839090281\n",
      "Average loss epoch 18: 0.056207717314015984\n",
      "Average loss epoch 19: 0.05596365439164084\n",
      "Average loss epoch 20: 0.055703215158089646\n",
      "Average loss epoch 21: 0.05553680595097154\n",
      "Average loss epoch 22: 0.05533529138409121\n",
      "Average loss epoch 23: 0.05514973914034145\n",
      "Average loss epoch 24: 0.05498768605811651\n",
      "Average loss epoch 25: 0.05483750836100689\n",
      "Average loss epoch 26: 0.05466588701792928\n",
      "Average loss epoch 27: 0.054540859041518945\n",
      "Average loss epoch 28: 0.05441197480486576\n",
      "Average loss epoch 29: 0.05427505321973978\n",
      "Accuracy 0.9228\n"
     ]
    }
   ],
   "source": [
    "with tf.Session() as sess:\n",
    "   \n",
    "    sess.run(tf.global_variables_initializer())\n",
    "\n",
    "    # train the model n_epochs times\n",
    "    for i in range(30): \t\n",
    "        sess.run(train_init)\t# drawing samples from train_data\n",
    "        total_loss = 0\n",
    "        n_batches = 0\n",
    "        try:\n",
    "            while True:\n",
    "                _, l = sess.run([optimizer, loss])\n",
    "                total_loss += l\n",
    "                n_batches += 1\n",
    "        except tf.errors.OutOfRangeError:\n",
    "            pass\n",
    "        print('Average loss epoch {0}: {1}'.format(i, total_loss/n_batches))\n",
    "\n",
    "    # test the model\n",
    "    sess.run(test_init)\t\t\t# drawing samples from test_data\n",
    "    total_correct_preds = 0\n",
    "    try:\n",
    "        while True:\n",
    "            accuracy_batch = sess.run(accuracy)\n",
    "            total_correct_preds += accuracy_batch\n",
    "    except tf.errors.OutOfRangeError:\n",
    "        pass\n",
    "\n",
    "    print('Accuracy {0}'.format(total_correct_preds/10000))\n",
    "writer.close()"
   ]
  },
  {
   "cell_type": "code",
   "execution_count": null,
   "metadata": {},
   "outputs": [],
   "source": []
  },
  {
   "cell_type": "code",
   "execution_count": null,
   "metadata": {},
   "outputs": [],
   "source": []
  }
 ],
 "metadata": {
  "kernelspec": {
   "display_name": "Python 3",
   "language": "python",
   "name": "python3"
  },
  "language_info": {
   "codemirror_mode": {
    "name": "ipython",
    "version": 3
   },
   "file_extension": ".py",
   "mimetype": "text/x-python",
   "name": "python",
   "nbconvert_exporter": "python",
   "pygments_lexer": "ipython3",
   "version": "3.6.5"
  }
 },
 "nbformat": 4,
 "nbformat_minor": 2
}
