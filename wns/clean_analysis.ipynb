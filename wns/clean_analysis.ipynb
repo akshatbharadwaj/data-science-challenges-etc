{
 "cells": [
  {
   "cell_type": "code",
   "execution_count": 467,
   "metadata": {},
   "outputs": [],
   "source": [
    "import pandas as pd\n",
    "import matplotlib.pyplot as plt\n",
    "import seaborn as sns\n",
    "import numpy as np"
   ]
  },
  {
   "cell_type": "code",
   "execution_count": 468,
   "metadata": {},
   "outputs": [],
   "source": [
    "from IPython.core.interactiveshell import InteractiveShell\n",
    "InteractiveShell.ast_node_interactivity = \"all\""
   ]
  },
  {
   "cell_type": "code",
   "execution_count": 469,
   "metadata": {},
   "outputs": [],
   "source": [
    "train = pd.read_csv('./train_LZdllcl.csv')\n",
    "test = pd.read_csv('./test_2umaH9m.csv')"
   ]
  },
  {
   "cell_type": "code",
   "execution_count": 470,
   "metadata": {},
   "outputs": [
    {
     "name": "stderr",
     "output_type": "stream",
     "text": [
      "d:\\desk\\ml\\mlenv64\\lib\\site-packages\\pandas\\core\\frame.py:6211: FutureWarning: Sorting because non-concatenation axis is not aligned. A future version\n",
      "of pandas will change to not sort by default.\n",
      "\n",
      "To accept the future behavior, pass 'sort=False'.\n",
      "\n",
      "To retain the current behavior and silence the warning, pass 'sort=True'.\n",
      "\n",
      "  sort=sort)\n"
     ]
    }
   ],
   "source": [
    "train['index'] = train.index\n",
    "test['index'] = test.index #For later combining purposes\n",
    "total = train.append(test, ignore_index = True)"
   ]
  },
  {
   "cell_type": "markdown",
   "metadata": {},
   "source": [
    "# Fill missing values"
   ]
  },
  {
   "cell_type": "code",
   "execution_count": 471,
   "metadata": {},
   "outputs": [],
   "source": [
    "total.education = total.education.fillna('Unknown')\n",
    "total.previous_year_rating.fillna(total.previous_year_rating.mean(), inplace=True)"
   ]
  },
  {
   "cell_type": "markdown",
   "metadata": {},
   "source": [
    "# Preparing the data"
   ]
  },
  {
   "cell_type": "code",
   "execution_count": 472,
   "metadata": {},
   "outputs": [],
   "source": [
    "total_prepared = pd.get_dummies(data=total, columns=['department','education', 'previous_year_rating'\n",
    "                                                    ])"
   ]
  },
  {
   "cell_type": "code",
   "execution_count": 473,
   "metadata": {},
   "outputs": [],
   "source": [
    "total = total_prepared.copy()"
   ]
  },
  {
   "cell_type": "code",
   "execution_count": 474,
   "metadata": {},
   "outputs": [],
   "source": [
    "total['avg_training_score_grouped'] = pd.cut(total.avg_training_score, bins=[0,90,101], labels=['0', '1'])\n",
    "total['length_of_service_grouped'] = pd.cut(total.length_of_service, bins=[0,20,200], labels=['0', '1'])"
   ]
  },
  {
   "cell_type": "code",
   "execution_count": 475,
   "metadata": {},
   "outputs": [
    {
     "data": {
      "text/plain": [
       "Index(['KPIs_met >80%', 'age', 'avg_training_score', 'awards_won?',\n",
       "       'employee_id', 'gender', 'index', 'is_promoted', 'length_of_service',\n",
       "       'no_of_trainings', 'recruitment_channel', 'region',\n",
       "       'department_Analytics', 'department_Finance', 'department_HR',\n",
       "       'department_Legal', 'department_Operations', 'department_Procurement',\n",
       "       'department_R&D', 'department_Sales & Marketing',\n",
       "       'department_Technology', 'education_Bachelor's',\n",
       "       'education_Below Secondary', 'education_Master's & above',\n",
       "       'education_Unknown', 'previous_year_rating_1.0',\n",
       "       'previous_year_rating_2.0', 'previous_year_rating_3.0',\n",
       "       'previous_year_rating_3.3322185677565574', 'previous_year_rating_4.0',\n",
       "       'previous_year_rating_5.0', 'avg_training_score_grouped',\n",
       "       'length_of_service_grouped'],\n",
       "      dtype='object')"
      ]
     },
     "execution_count": 475,
     "metadata": {},
     "output_type": "execute_result"
    }
   ],
   "source": [
    "total.columns"
   ]
  },
  {
   "cell_type": "code",
   "execution_count": 487,
   "metadata": {},
   "outputs": [],
   "source": [
    "MODEL_FEATURES = ['KPIs_met >80%', 'age', 'avg_training_score', 'awards_won?',\n",
    "        'length_of_service',\n",
    "       'department_Analytics', 'department_Finance','department_Operations', 'department_Procurement',\n",
    "       'department_Technology',\n",
    "        'previous_year_rating_1.0',\n",
    "        'previous_year_rating_4.0',\n",
    "       'previous_year_rating_5.0'\n",
    "        ]"
   ]
  },
  {
   "cell_type": "code",
   "execution_count": 488,
   "metadata": {},
   "outputs": [
    {
     "data": {
      "text/plain": [
       "(54808, 33)"
      ]
     },
     "execution_count": 488,
     "metadata": {},
     "output_type": "execute_result"
    }
   ],
   "source": [
    "train_dat = total[total.index < 54808]\n",
    "train_dat.shape\n",
    "test_dat = total[total.index >= 54808]"
   ]
  },
  {
   "cell_type": "code",
   "execution_count": 489,
   "metadata": {},
   "outputs": [
    {
     "data": {
      "text/plain": [
       "KPIs_met >80%               int64\n",
       "age                         int64\n",
       "avg_training_score          int64\n",
       "awards_won?                 int64\n",
       "length_of_service           int64\n",
       "department_Analytics        uint8\n",
       "department_Finance          uint8\n",
       "department_Operations       uint8\n",
       "department_Procurement      uint8\n",
       "department_Technology       uint8\n",
       "previous_year_rating_1.0    uint8\n",
       "previous_year_rating_4.0    uint8\n",
       "previous_year_rating_5.0    uint8\n",
       "dtype: object"
      ]
     },
     "execution_count": 489,
     "metadata": {},
     "output_type": "execute_result"
    },
    {
     "data": {
      "text/plain": [
       "KPIs_met >80%               int64\n",
       "age                         int64\n",
       "avg_training_score          int64\n",
       "awards_won?                 int64\n",
       "length_of_service           int64\n",
       "department_Analytics        uint8\n",
       "department_Finance          uint8\n",
       "department_Operations       uint8\n",
       "department_Procurement      uint8\n",
       "department_Technology       uint8\n",
       "previous_year_rating_1.0    uint8\n",
       "previous_year_rating_4.0    uint8\n",
       "previous_year_rating_5.0    uint8\n",
       "dtype: object"
      ]
     },
     "execution_count": 489,
     "metadata": {},
     "output_type": "execute_result"
    }
   ],
   "source": [
    "train_dat[MODEL_FEATURES].dtypes\n",
    "test_dat[MODEL_FEATURES].dtypes"
   ]
  },
  {
   "cell_type": "code",
   "execution_count": 490,
   "metadata": {},
   "outputs": [],
   "source": [
    "strat_train = train_dat[train_dat.is_promoted == 1.0].append(train_dat[train_dat.is_promoted == 0.0].sample(5000))"
   ]
  },
  {
   "cell_type": "code",
   "execution_count": 491,
   "metadata": {},
   "outputs": [],
   "source": [
    "from sklearn.model_selection import train_test_split\n",
    "X_train, X_test, y_train, y_test = train_test_split(strat_train[MODEL_FEATURES], strat_train['is_promoted'])"
   ]
  },
  {
   "cell_type": "code",
   "execution_count": 492,
   "metadata": {},
   "outputs": [
    {
     "data": {
      "text/plain": [
       "(0.4862777547924424, 0.4724865535788167)"
      ]
     },
     "execution_count": 492,
     "metadata": {},
     "output_type": "execute_result"
    }
   ],
   "source": [
    "y_train.mean(), y_test.mean()"
   ]
  },
  {
   "cell_type": "code",
   "execution_count": 493,
   "metadata": {},
   "outputs": [
    {
     "data": {
      "text/plain": [
       "GradientBoostingClassifier(criterion='friedman_mse', init=None,\n",
       "              learning_rate=0.1, loss='deviance', max_depth=3,\n",
       "              max_features=None, max_leaf_nodes=None,\n",
       "              min_impurity_decrease=0.0, min_impurity_split=None,\n",
       "              min_samples_leaf=1, min_samples_split=2,\n",
       "              min_weight_fraction_leaf=0.0, n_estimators=100,\n",
       "              presort='auto', random_state=None, subsample=1.0, verbose=0,\n",
       "              warm_start=False)"
      ]
     },
     "execution_count": 493,
     "metadata": {},
     "output_type": "execute_result"
    },
    {
     "data": {
      "text/plain": [
       "0.8021764477263895"
      ]
     },
     "execution_count": 493,
     "metadata": {},
     "output_type": "execute_result"
    }
   ],
   "source": [
    "from sklearn.ensemble import GradientBoostingClassifier, RandomForestClassifier\n",
    "from sklearn.linear_model import LogisticRegression\n",
    "from sklearn.metrics import f1_score, accuracy_score, roc_auc_score\n",
    "from sklearn.neural_network import MLPClassifier\n",
    "clf = GradientBoostingClassifier()\n",
    "clf.fit(X_train, y_train)\n",
    "preds = clf.predict(X_test)\n",
    "f1_score(y_test, preds)"
   ]
  },
  {
   "cell_type": "code",
   "execution_count": 494,
   "metadata": {},
   "outputs": [
    {
     "name": "stdout",
     "output_type": "stream",
     "text": [
      "KPIs_met >80% 0.15984710153193002\n",
      "age 0.03777331097662819\n",
      "avg_training_score 0.4257844451223491\n",
      "awards_won? 0.04152586492725684\n",
      "length_of_service 0.02699827310296277\n",
      "department_Analytics 0.03710869100881556\n",
      "department_Finance 0.0277484758797568\n",
      "department_Operations 0.05598457008897381\n",
      "department_Procurement 0.04553896535164717\n",
      "department_Technology 0.0369736851100298\n",
      "previous_year_rating_1.0 0.02531588735462804\n",
      "previous_year_rating_4.0 0.009298746562042447\n",
      "previous_year_rating_5.0 0.07010198298297929\n"
     ]
    }
   ],
   "source": [
    "for x,y in zip(MODEL_FEATURES,clf.feature_importances_):\n",
    "    print(x, y)"
   ]
  },
  {
   "cell_type": "code",
   "execution_count": 495,
   "metadata": {},
   "outputs": [
    {
     "data": {
      "text/plain": [
       "RandomForestClassifier(bootstrap=True, class_weight=None, criterion='gini',\n",
       "            max_depth=None, max_features='auto', max_leaf_nodes=None,\n",
       "            min_impurity_decrease=0.0, min_impurity_split=None,\n",
       "            min_samples_leaf=1, min_samples_split=2,\n",
       "            min_weight_fraction_leaf=0.0, n_estimators=10, n_jobs=1,\n",
       "            oob_score=False, random_state=None, verbose=0,\n",
       "            warm_start=False)"
      ]
     },
     "execution_count": 495,
     "metadata": {},
     "output_type": "execute_result"
    }
   ],
   "source": [
    "clf = RandomForestClassifier()\n",
    "clf.fit(strat_train[MODEL_FEATURES], strat_train['is_promoted'])\n",
    "preds = clf.predict(test_dat[MODEL_FEATURES])"
   ]
  },
  {
   "cell_type": "code",
   "execution_count": 496,
   "metadata": {},
   "outputs": [],
   "source": [
    "ans = pd.DataFrame({'employee_id':test_dat['employee_id'],\n",
    "                   'is_promoted':preds})\n",
    "ans.is_promoted = ans.is_promoted.astype(int)"
   ]
  },
  {
   "cell_type": "code",
   "execution_count": 497,
   "metadata": {},
   "outputs": [],
   "source": [
    "ans.to_csv('predict5.csv', index=False)"
   ]
  },
  {
   "cell_type": "code",
   "execution_count": 498,
   "metadata": {},
   "outputs": [
    {
     "data": {
      "text/plain": [
       "employee_id    39041.399149\n",
       "is_promoted        0.272840\n",
       "dtype: float64"
      ]
     },
     "execution_count": 498,
     "metadata": {},
     "output_type": "execute_result"
    }
   ],
   "source": [
    "ans.mean()"
   ]
  },
  {
   "cell_type": "code",
   "execution_count": 297,
   "metadata": {},
   "outputs": [
    {
     "data": {
      "text/plain": [
       "0.08517004816815063"
      ]
     },
     "execution_count": 297,
     "metadata": {},
     "output_type": "execute_result"
    }
   ],
   "source": [
    "total.is_promoted.mean() #HEAVILY SKEWED CLASS! DAMN."
   ]
  },
  {
   "cell_type": "code",
   "execution_count": null,
   "metadata": {},
   "outputs": [],
   "source": []
  }
 ],
 "metadata": {
  "kernelspec": {
   "display_name": "Python 3",
   "language": "python",
   "name": "python3"
  },
  "language_info": {
   "codemirror_mode": {
    "name": "ipython",
    "version": 3
   },
   "file_extension": ".py",
   "mimetype": "text/x-python",
   "name": "python",
   "nbconvert_exporter": "python",
   "pygments_lexer": "ipython3",
   "version": "3.6.5"
  }
 },
 "nbformat": 4,
 "nbformat_minor": 2
}
