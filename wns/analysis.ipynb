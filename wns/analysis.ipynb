{
 "cells": [
  {
   "cell_type": "code",
   "execution_count": 2,
   "metadata": {},
   "outputs": [],
   "source": [
    "import pandas as pd\n",
    "import matplotlib.pyplot as plt\n",
    "import seaborn as sns\n",
    "import numpy as np"
   ]
  },
  {
   "cell_type": "code",
   "execution_count": 3,
   "metadata": {},
   "outputs": [],
   "source": [
    "from IPython.core.interactiveshell import InteractiveShell\n",
    "InteractiveShell.ast_node_interactivity = \"all\""
   ]
  },
  {
   "cell_type": "markdown",
   "metadata": {},
   "source": [
    "## Importing and reading the data"
   ]
  },
  {
   "cell_type": "code",
   "execution_count": 4,
   "metadata": {},
   "outputs": [
    {
     "data": {
      "text/html": [
       "<div>\n",
       "<style scoped>\n",
       "    .dataframe tbody tr th:only-of-type {\n",
       "        vertical-align: middle;\n",
       "    }\n",
       "\n",
       "    .dataframe tbody tr th {\n",
       "        vertical-align: top;\n",
       "    }\n",
       "\n",
       "    .dataframe thead th {\n",
       "        text-align: right;\n",
       "    }\n",
       "</style>\n",
       "<table border=\"1\" class=\"dataframe\">\n",
       "  <thead>\n",
       "    <tr style=\"text-align: right;\">\n",
       "      <th></th>\n",
       "      <th>employee_id</th>\n",
       "      <th>department</th>\n",
       "      <th>region</th>\n",
       "      <th>education</th>\n",
       "      <th>gender</th>\n",
       "      <th>recruitment_channel</th>\n",
       "      <th>no_of_trainings</th>\n",
       "      <th>age</th>\n",
       "      <th>previous_year_rating</th>\n",
       "      <th>length_of_service</th>\n",
       "      <th>KPIs_met &gt;80%</th>\n",
       "      <th>awards_won?</th>\n",
       "      <th>avg_training_score</th>\n",
       "      <th>is_promoted</th>\n",
       "    </tr>\n",
       "  </thead>\n",
       "  <tbody>\n",
       "    <tr>\n",
       "      <th>0</th>\n",
       "      <td>65438</td>\n",
       "      <td>Sales &amp; Marketing</td>\n",
       "      <td>region_7</td>\n",
       "      <td>Master's &amp; above</td>\n",
       "      <td>f</td>\n",
       "      <td>sourcing</td>\n",
       "      <td>1</td>\n",
       "      <td>35</td>\n",
       "      <td>5.0</td>\n",
       "      <td>8</td>\n",
       "      <td>1</td>\n",
       "      <td>0</td>\n",
       "      <td>49</td>\n",
       "      <td>0</td>\n",
       "    </tr>\n",
       "    <tr>\n",
       "      <th>1</th>\n",
       "      <td>65141</td>\n",
       "      <td>Operations</td>\n",
       "      <td>region_22</td>\n",
       "      <td>Bachelor's</td>\n",
       "      <td>m</td>\n",
       "      <td>other</td>\n",
       "      <td>1</td>\n",
       "      <td>30</td>\n",
       "      <td>5.0</td>\n",
       "      <td>4</td>\n",
       "      <td>0</td>\n",
       "      <td>0</td>\n",
       "      <td>60</td>\n",
       "      <td>0</td>\n",
       "    </tr>\n",
       "    <tr>\n",
       "      <th>2</th>\n",
       "      <td>7513</td>\n",
       "      <td>Sales &amp; Marketing</td>\n",
       "      <td>region_19</td>\n",
       "      <td>Bachelor's</td>\n",
       "      <td>m</td>\n",
       "      <td>sourcing</td>\n",
       "      <td>1</td>\n",
       "      <td>34</td>\n",
       "      <td>3.0</td>\n",
       "      <td>7</td>\n",
       "      <td>0</td>\n",
       "      <td>0</td>\n",
       "      <td>50</td>\n",
       "      <td>0</td>\n",
       "    </tr>\n",
       "    <tr>\n",
       "      <th>3</th>\n",
       "      <td>2542</td>\n",
       "      <td>Sales &amp; Marketing</td>\n",
       "      <td>region_23</td>\n",
       "      <td>Bachelor's</td>\n",
       "      <td>m</td>\n",
       "      <td>other</td>\n",
       "      <td>2</td>\n",
       "      <td>39</td>\n",
       "      <td>1.0</td>\n",
       "      <td>10</td>\n",
       "      <td>0</td>\n",
       "      <td>0</td>\n",
       "      <td>50</td>\n",
       "      <td>0</td>\n",
       "    </tr>\n",
       "    <tr>\n",
       "      <th>4</th>\n",
       "      <td>48945</td>\n",
       "      <td>Technology</td>\n",
       "      <td>region_26</td>\n",
       "      <td>Bachelor's</td>\n",
       "      <td>m</td>\n",
       "      <td>other</td>\n",
       "      <td>1</td>\n",
       "      <td>45</td>\n",
       "      <td>3.0</td>\n",
       "      <td>2</td>\n",
       "      <td>0</td>\n",
       "      <td>0</td>\n",
       "      <td>73</td>\n",
       "      <td>0</td>\n",
       "    </tr>\n",
       "  </tbody>\n",
       "</table>\n",
       "</div>"
      ],
      "text/plain": [
       "   employee_id         department     region         education gender  \\\n",
       "0        65438  Sales & Marketing   region_7  Master's & above      f   \n",
       "1        65141         Operations  region_22        Bachelor's      m   \n",
       "2         7513  Sales & Marketing  region_19        Bachelor's      m   \n",
       "3         2542  Sales & Marketing  region_23        Bachelor's      m   \n",
       "4        48945         Technology  region_26        Bachelor's      m   \n",
       "\n",
       "  recruitment_channel  no_of_trainings  age  previous_year_rating  \\\n",
       "0            sourcing                1   35                   5.0   \n",
       "1               other                1   30                   5.0   \n",
       "2            sourcing                1   34                   3.0   \n",
       "3               other                2   39                   1.0   \n",
       "4               other                1   45                   3.0   \n",
       "\n",
       "   length_of_service  KPIs_met >80%  awards_won?  avg_training_score  \\\n",
       "0                  8              1            0                  49   \n",
       "1                  4              0            0                  60   \n",
       "2                  7              0            0                  50   \n",
       "3                 10              0            0                  50   \n",
       "4                  2              0            0                  73   \n",
       "\n",
       "   is_promoted  \n",
       "0            0  \n",
       "1            0  \n",
       "2            0  \n",
       "3            0  \n",
       "4            0  "
      ]
     },
     "execution_count": 4,
     "metadata": {},
     "output_type": "execute_result"
    },
    {
     "data": {
      "text/html": [
       "<div>\n",
       "<style scoped>\n",
       "    .dataframe tbody tr th:only-of-type {\n",
       "        vertical-align: middle;\n",
       "    }\n",
       "\n",
       "    .dataframe tbody tr th {\n",
       "        vertical-align: top;\n",
       "    }\n",
       "\n",
       "    .dataframe thead th {\n",
       "        text-align: right;\n",
       "    }\n",
       "</style>\n",
       "<table border=\"1\" class=\"dataframe\">\n",
       "  <thead>\n",
       "    <tr style=\"text-align: right;\">\n",
       "      <th></th>\n",
       "      <th>employee_id</th>\n",
       "      <th>department</th>\n",
       "      <th>region</th>\n",
       "      <th>education</th>\n",
       "      <th>gender</th>\n",
       "      <th>recruitment_channel</th>\n",
       "      <th>no_of_trainings</th>\n",
       "      <th>age</th>\n",
       "      <th>previous_year_rating</th>\n",
       "      <th>length_of_service</th>\n",
       "      <th>KPIs_met &gt;80%</th>\n",
       "      <th>awards_won?</th>\n",
       "      <th>avg_training_score</th>\n",
       "    </tr>\n",
       "  </thead>\n",
       "  <tbody>\n",
       "    <tr>\n",
       "      <th>0</th>\n",
       "      <td>8724</td>\n",
       "      <td>Technology</td>\n",
       "      <td>region_26</td>\n",
       "      <td>Bachelor's</td>\n",
       "      <td>m</td>\n",
       "      <td>sourcing</td>\n",
       "      <td>1</td>\n",
       "      <td>24</td>\n",
       "      <td>NaN</td>\n",
       "      <td>1</td>\n",
       "      <td>1</td>\n",
       "      <td>0</td>\n",
       "      <td>77</td>\n",
       "    </tr>\n",
       "    <tr>\n",
       "      <th>1</th>\n",
       "      <td>74430</td>\n",
       "      <td>HR</td>\n",
       "      <td>region_4</td>\n",
       "      <td>Bachelor's</td>\n",
       "      <td>f</td>\n",
       "      <td>other</td>\n",
       "      <td>1</td>\n",
       "      <td>31</td>\n",
       "      <td>3.0</td>\n",
       "      <td>5</td>\n",
       "      <td>0</td>\n",
       "      <td>0</td>\n",
       "      <td>51</td>\n",
       "    </tr>\n",
       "    <tr>\n",
       "      <th>2</th>\n",
       "      <td>72255</td>\n",
       "      <td>Sales &amp; Marketing</td>\n",
       "      <td>region_13</td>\n",
       "      <td>Bachelor's</td>\n",
       "      <td>m</td>\n",
       "      <td>other</td>\n",
       "      <td>1</td>\n",
       "      <td>31</td>\n",
       "      <td>1.0</td>\n",
       "      <td>4</td>\n",
       "      <td>0</td>\n",
       "      <td>0</td>\n",
       "      <td>47</td>\n",
       "    </tr>\n",
       "    <tr>\n",
       "      <th>3</th>\n",
       "      <td>38562</td>\n",
       "      <td>Procurement</td>\n",
       "      <td>region_2</td>\n",
       "      <td>Bachelor's</td>\n",
       "      <td>f</td>\n",
       "      <td>other</td>\n",
       "      <td>3</td>\n",
       "      <td>31</td>\n",
       "      <td>2.0</td>\n",
       "      <td>9</td>\n",
       "      <td>0</td>\n",
       "      <td>0</td>\n",
       "      <td>65</td>\n",
       "    </tr>\n",
       "    <tr>\n",
       "      <th>4</th>\n",
       "      <td>64486</td>\n",
       "      <td>Finance</td>\n",
       "      <td>region_29</td>\n",
       "      <td>Bachelor's</td>\n",
       "      <td>m</td>\n",
       "      <td>sourcing</td>\n",
       "      <td>1</td>\n",
       "      <td>30</td>\n",
       "      <td>4.0</td>\n",
       "      <td>7</td>\n",
       "      <td>0</td>\n",
       "      <td>0</td>\n",
       "      <td>61</td>\n",
       "    </tr>\n",
       "  </tbody>\n",
       "</table>\n",
       "</div>"
      ],
      "text/plain": [
       "   employee_id         department     region   education gender  \\\n",
       "0         8724         Technology  region_26  Bachelor's      m   \n",
       "1        74430                 HR   region_4  Bachelor's      f   \n",
       "2        72255  Sales & Marketing  region_13  Bachelor's      m   \n",
       "3        38562        Procurement   region_2  Bachelor's      f   \n",
       "4        64486            Finance  region_29  Bachelor's      m   \n",
       "\n",
       "  recruitment_channel  no_of_trainings  age  previous_year_rating  \\\n",
       "0            sourcing                1   24                   NaN   \n",
       "1               other                1   31                   3.0   \n",
       "2               other                1   31                   1.0   \n",
       "3               other                3   31                   2.0   \n",
       "4            sourcing                1   30                   4.0   \n",
       "\n",
       "   length_of_service  KPIs_met >80%  awards_won?  avg_training_score  \n",
       "0                  1              1            0                  77  \n",
       "1                  5              0            0                  51  \n",
       "2                  4              0            0                  47  \n",
       "3                  9              0            0                  65  \n",
       "4                  7              0            0                  61  "
      ]
     },
     "execution_count": 4,
     "metadata": {},
     "output_type": "execute_result"
    }
   ],
   "source": [
    "train = pd.read_csv('./train_LZdllcl.csv')\n",
    "test = pd.read_csv('./test_2umaH9m.csv')\n",
    "train.head()\n",
    "test.head()"
   ]
  },
  {
   "cell_type": "code",
   "execution_count": 5,
   "metadata": {},
   "outputs": [
    {
     "data": {
      "text/plain": [
       "employee_id               int64\n",
       "department               object\n",
       "region                   object\n",
       "education                object\n",
       "gender                   object\n",
       "recruitment_channel      object\n",
       "no_of_trainings           int64\n",
       "age                       int64\n",
       "previous_year_rating    float64\n",
       "length_of_service         int64\n",
       "KPIs_met >80%             int64\n",
       "awards_won?               int64\n",
       "avg_training_score        int64\n",
       "is_promoted               int64\n",
       "dtype: object"
      ]
     },
     "execution_count": 5,
     "metadata": {},
     "output_type": "execute_result"
    },
    {
     "data": {
      "text/plain": [
       "employee_id               int64\n",
       "department               object\n",
       "region                   object\n",
       "education                object\n",
       "gender                   object\n",
       "recruitment_channel      object\n",
       "no_of_trainings           int64\n",
       "age                       int64\n",
       "previous_year_rating    float64\n",
       "length_of_service         int64\n",
       "KPIs_met >80%             int64\n",
       "awards_won?               int64\n",
       "avg_training_score        int64\n",
       "dtype: object"
      ]
     },
     "execution_count": 5,
     "metadata": {},
     "output_type": "execute_result"
    }
   ],
   "source": [
    "train.dtypes\n",
    "test.dtypes"
   ]
  },
  {
   "cell_type": "markdown",
   "metadata": {},
   "source": [
    "No inconsistency in data formats there."
   ]
  },
  {
   "cell_type": "code",
   "execution_count": 6,
   "metadata": {},
   "outputs": [
    {
     "data": {
      "text/plain": [
       "employee_id             54808\n",
       "department              54808\n",
       "region                  54808\n",
       "education               52399\n",
       "gender                  54808\n",
       "recruitment_channel     54808\n",
       "no_of_trainings         54808\n",
       "age                     54808\n",
       "previous_year_rating    50684\n",
       "length_of_service       54808\n",
       "KPIs_met >80%           54808\n",
       "awards_won?             54808\n",
       "avg_training_score      54808\n",
       "is_promoted             54808\n",
       "dtype: int64"
      ]
     },
     "execution_count": 6,
     "metadata": {},
     "output_type": "execute_result"
    },
    {
     "data": {
      "text/plain": [
       "employee_id             23490\n",
       "department              23490\n",
       "region                  23490\n",
       "education               22456\n",
       "gender                  23490\n",
       "recruitment_channel     23490\n",
       "no_of_trainings         23490\n",
       "age                     23490\n",
       "previous_year_rating    21678\n",
       "length_of_service       23490\n",
       "KPIs_met >80%           23490\n",
       "awards_won?             23490\n",
       "avg_training_score      23490\n",
       "dtype: int64"
      ]
     },
     "execution_count": 6,
     "metadata": {},
     "output_type": "execute_result"
    }
   ],
   "source": [
    "train.count()\n",
    "test.count()"
   ]
  },
  {
   "cell_type": "markdown",
   "metadata": {},
   "source": [
    "*education* and *previous_year_rating* are missing some values."
   ]
  },
  {
   "cell_type": "code",
   "execution_count": 7,
   "metadata": {},
   "outputs": [],
   "source": [
    "train['index'] = train.index\n",
    "test['index'] = test.index #For later combining purposes"
   ]
  },
  {
   "cell_type": "code",
   "execution_count": 8,
   "metadata": {},
   "outputs": [
    {
     "name": "stderr",
     "output_type": "stream",
     "text": [
      "d:\\desk\\ml\\mlenv64\\lib\\site-packages\\pandas\\core\\frame.py:6211: FutureWarning: Sorting because non-concatenation axis is not aligned. A future version\n",
      "of pandas will change to not sort by default.\n",
      "\n",
      "To accept the future behavior, pass 'sort=False'.\n",
      "\n",
      "To retain the current behavior and silence the warning, pass 'sort=True'.\n",
      "\n",
      "  sort=sort)\n"
     ]
    },
    {
     "data": {
      "text/plain": [
       "KPIs_met >80%           78298\n",
       "age                     78298\n",
       "avg_training_score      78298\n",
       "awards_won?             78298\n",
       "department              78298\n",
       "education               74855\n",
       "employee_id             78298\n",
       "gender                  78298\n",
       "index                   78298\n",
       "is_promoted             54808\n",
       "length_of_service       78298\n",
       "no_of_trainings         78298\n",
       "previous_year_rating    72362\n",
       "recruitment_channel     78298\n",
       "region                  78298\n",
       "dtype: int64"
      ]
     },
     "execution_count": 8,
     "metadata": {},
     "output_type": "execute_result"
    },
    {
     "data": {
      "text/html": [
       "<div>\n",
       "<style scoped>\n",
       "    .dataframe tbody tr th:only-of-type {\n",
       "        vertical-align: middle;\n",
       "    }\n",
       "\n",
       "    .dataframe tbody tr th {\n",
       "        vertical-align: top;\n",
       "    }\n",
       "\n",
       "    .dataframe thead th {\n",
       "        text-align: right;\n",
       "    }\n",
       "</style>\n",
       "<table border=\"1\" class=\"dataframe\">\n",
       "  <thead>\n",
       "    <tr style=\"text-align: right;\">\n",
       "      <th></th>\n",
       "      <th>KPIs_met &gt;80%</th>\n",
       "      <th>age</th>\n",
       "      <th>avg_training_score</th>\n",
       "      <th>awards_won?</th>\n",
       "      <th>department</th>\n",
       "      <th>education</th>\n",
       "      <th>employee_id</th>\n",
       "      <th>gender</th>\n",
       "      <th>index</th>\n",
       "      <th>is_promoted</th>\n",
       "      <th>length_of_service</th>\n",
       "      <th>no_of_trainings</th>\n",
       "      <th>previous_year_rating</th>\n",
       "      <th>recruitment_channel</th>\n",
       "      <th>region</th>\n",
       "    </tr>\n",
       "  </thead>\n",
       "  <tbody>\n",
       "    <tr>\n",
       "      <th>6865</th>\n",
       "      <td>0</td>\n",
       "      <td>33</td>\n",
       "      <td>50</td>\n",
       "      <td>0</td>\n",
       "      <td>Sales &amp; Marketing</td>\n",
       "      <td>Master's &amp; above</td>\n",
       "      <td>6071</td>\n",
       "      <td>m</td>\n",
       "      <td>6865</td>\n",
       "      <td>0.0</td>\n",
       "      <td>8</td>\n",
       "      <td>2</td>\n",
       "      <td>1.0</td>\n",
       "      <td>other</td>\n",
       "      <td>region_31</td>\n",
       "    </tr>\n",
       "    <tr>\n",
       "      <th>31857</th>\n",
       "      <td>1</td>\n",
       "      <td>31</td>\n",
       "      <td>57</td>\n",
       "      <td>0</td>\n",
       "      <td>Finance</td>\n",
       "      <td>Bachelor's</td>\n",
       "      <td>34699</td>\n",
       "      <td>m</td>\n",
       "      <td>31857</td>\n",
       "      <td>1.0</td>\n",
       "      <td>7</td>\n",
       "      <td>1</td>\n",
       "      <td>3.0</td>\n",
       "      <td>other</td>\n",
       "      <td>region_8</td>\n",
       "    </tr>\n",
       "    <tr>\n",
       "      <th>30420</th>\n",
       "      <td>0</td>\n",
       "      <td>46</td>\n",
       "      <td>78</td>\n",
       "      <td>0</td>\n",
       "      <td>Technology</td>\n",
       "      <td>Master's &amp; above</td>\n",
       "      <td>23950</td>\n",
       "      <td>m</td>\n",
       "      <td>30420</td>\n",
       "      <td>0.0</td>\n",
       "      <td>18</td>\n",
       "      <td>1</td>\n",
       "      <td>2.0</td>\n",
       "      <td>other</td>\n",
       "      <td>region_20</td>\n",
       "    </tr>\n",
       "    <tr>\n",
       "      <th>52609</th>\n",
       "      <td>0</td>\n",
       "      <td>28</td>\n",
       "      <td>47</td>\n",
       "      <td>0</td>\n",
       "      <td>Sales &amp; Marketing</td>\n",
       "      <td>Bachelor's</td>\n",
       "      <td>39999</td>\n",
       "      <td>m</td>\n",
       "      <td>52609</td>\n",
       "      <td>0.0</td>\n",
       "      <td>4</td>\n",
       "      <td>1</td>\n",
       "      <td>2.0</td>\n",
       "      <td>sourcing</td>\n",
       "      <td>region_27</td>\n",
       "    </tr>\n",
       "    <tr>\n",
       "      <th>70893</th>\n",
       "      <td>0</td>\n",
       "      <td>37</td>\n",
       "      <td>72</td>\n",
       "      <td>0</td>\n",
       "      <td>Procurement</td>\n",
       "      <td>Master's &amp; above</td>\n",
       "      <td>53437</td>\n",
       "      <td>m</td>\n",
       "      <td>16085</td>\n",
       "      <td>NaN</td>\n",
       "      <td>9</td>\n",
       "      <td>1</td>\n",
       "      <td>2.0</td>\n",
       "      <td>sourcing</td>\n",
       "      <td>region_29</td>\n",
       "    </tr>\n",
       "    <tr>\n",
       "      <th>50943</th>\n",
       "      <td>0</td>\n",
       "      <td>31</td>\n",
       "      <td>46</td>\n",
       "      <td>0</td>\n",
       "      <td>Sales &amp; Marketing</td>\n",
       "      <td>Bachelor's</td>\n",
       "      <td>56758</td>\n",
       "      <td>m</td>\n",
       "      <td>50943</td>\n",
       "      <td>0.0</td>\n",
       "      <td>6</td>\n",
       "      <td>1</td>\n",
       "      <td>3.0</td>\n",
       "      <td>sourcing</td>\n",
       "      <td>region_27</td>\n",
       "    </tr>\n",
       "    <tr>\n",
       "      <th>22403</th>\n",
       "      <td>1</td>\n",
       "      <td>37</td>\n",
       "      <td>55</td>\n",
       "      <td>0</td>\n",
       "      <td>Operations</td>\n",
       "      <td>Bachelor's</td>\n",
       "      <td>7636</td>\n",
       "      <td>m</td>\n",
       "      <td>22403</td>\n",
       "      <td>1.0</td>\n",
       "      <td>9</td>\n",
       "      <td>1</td>\n",
       "      <td>3.0</td>\n",
       "      <td>other</td>\n",
       "      <td>region_15</td>\n",
       "    </tr>\n",
       "    <tr>\n",
       "      <th>26834</th>\n",
       "      <td>1</td>\n",
       "      <td>26</td>\n",
       "      <td>47</td>\n",
       "      <td>0</td>\n",
       "      <td>HR</td>\n",
       "      <td>Bachelor's</td>\n",
       "      <td>59874</td>\n",
       "      <td>f</td>\n",
       "      <td>26834</td>\n",
       "      <td>0.0</td>\n",
       "      <td>3</td>\n",
       "      <td>1</td>\n",
       "      <td>4.0</td>\n",
       "      <td>sourcing</td>\n",
       "      <td>region_11</td>\n",
       "    </tr>\n",
       "    <tr>\n",
       "      <th>15700</th>\n",
       "      <td>1</td>\n",
       "      <td>28</td>\n",
       "      <td>62</td>\n",
       "      <td>0</td>\n",
       "      <td>Operations</td>\n",
       "      <td>Bachelor's</td>\n",
       "      <td>5623</td>\n",
       "      <td>m</td>\n",
       "      <td>15700</td>\n",
       "      <td>0.0</td>\n",
       "      <td>1</td>\n",
       "      <td>1</td>\n",
       "      <td>NaN</td>\n",
       "      <td>sourcing</td>\n",
       "      <td>region_6</td>\n",
       "    </tr>\n",
       "    <tr>\n",
       "      <th>33922</th>\n",
       "      <td>0</td>\n",
       "      <td>47</td>\n",
       "      <td>65</td>\n",
       "      <td>0</td>\n",
       "      <td>Operations</td>\n",
       "      <td>Bachelor's</td>\n",
       "      <td>39939</td>\n",
       "      <td>m</td>\n",
       "      <td>33922</td>\n",
       "      <td>0.0</td>\n",
       "      <td>6</td>\n",
       "      <td>1</td>\n",
       "      <td>3.0</td>\n",
       "      <td>sourcing</td>\n",
       "      <td>region_5</td>\n",
       "    </tr>\n",
       "  </tbody>\n",
       "</table>\n",
       "</div>"
      ],
      "text/plain": [
       "       KPIs_met >80%  age  avg_training_score  awards_won?         department  \\\n",
       "6865               0   33                  50            0  Sales & Marketing   \n",
       "31857              1   31                  57            0            Finance   \n",
       "30420              0   46                  78            0         Technology   \n",
       "52609              0   28                  47            0  Sales & Marketing   \n",
       "70893              0   37                  72            0        Procurement   \n",
       "50943              0   31                  46            0  Sales & Marketing   \n",
       "22403              1   37                  55            0         Operations   \n",
       "26834              1   26                  47            0                 HR   \n",
       "15700              1   28                  62            0         Operations   \n",
       "33922              0   47                  65            0         Operations   \n",
       "\n",
       "              education  employee_id gender  index  is_promoted  \\\n",
       "6865   Master's & above         6071      m   6865          0.0   \n",
       "31857        Bachelor's        34699      m  31857          1.0   \n",
       "30420  Master's & above        23950      m  30420          0.0   \n",
       "52609        Bachelor's        39999      m  52609          0.0   \n",
       "70893  Master's & above        53437      m  16085          NaN   \n",
       "50943        Bachelor's        56758      m  50943          0.0   \n",
       "22403        Bachelor's         7636      m  22403          1.0   \n",
       "26834        Bachelor's        59874      f  26834          0.0   \n",
       "15700        Bachelor's         5623      m  15700          0.0   \n",
       "33922        Bachelor's        39939      m  33922          0.0   \n",
       "\n",
       "       length_of_service  no_of_trainings  previous_year_rating  \\\n",
       "6865                   8                2                   1.0   \n",
       "31857                  7                1                   3.0   \n",
       "30420                 18                1                   2.0   \n",
       "52609                  4                1                   2.0   \n",
       "70893                  9                1                   2.0   \n",
       "50943                  6                1                   3.0   \n",
       "22403                  9                1                   3.0   \n",
       "26834                  3                1                   4.0   \n",
       "15700                  1                1                   NaN   \n",
       "33922                  6                1                   3.0   \n",
       "\n",
       "      recruitment_channel     region  \n",
       "6865                other  region_31  \n",
       "31857               other   region_8  \n",
       "30420               other  region_20  \n",
       "52609            sourcing  region_27  \n",
       "70893            sourcing  region_29  \n",
       "50943            sourcing  region_27  \n",
       "22403               other  region_15  \n",
       "26834            sourcing  region_11  \n",
       "15700            sourcing   region_6  \n",
       "33922            sourcing   region_5  "
      ]
     },
     "execution_count": 8,
     "metadata": {},
     "output_type": "execute_result"
    }
   ],
   "source": [
    "total = train.append(test, ignore_index = True)\n",
    "total.count()\n",
    "total.sample(10)"
   ]
  },
  {
   "cell_type": "markdown",
   "metadata": {},
   "source": [
    "With the total data, Let's first move on to visualising and then removing the missing value columns."
   ]
  },
  {
   "cell_type": "markdown",
   "metadata": {},
   "source": [
    "# Visualisation and removing missing values"
   ]
  },
  {
   "cell_type": "code",
   "execution_count": 9,
   "metadata": {},
   "outputs": [],
   "source": [
    "#total.previous_year_rating = total.previous_year_rating.fillna(0)\n",
    "total.education = total.education.fillna('Unknown')"
   ]
  },
  {
   "cell_type": "code",
   "execution_count": 10,
   "metadata": {},
   "outputs": [
    {
     "data": {
      "text/plain": [
       "Index(['KPIs_met >80%', 'age', 'avg_training_score', 'awards_won?',\n",
       "       'department', 'education', 'employee_id', 'gender', 'index',\n",
       "       'is_promoted', 'length_of_service', 'no_of_trainings',\n",
       "       'previous_year_rating', 'recruitment_channel', 'region'],\n",
       "      dtype='object')"
      ]
     },
     "execution_count": 10,
     "metadata": {},
     "output_type": "execute_result"
    }
   ],
   "source": [
    "total.columns"
   ]
  },
  {
   "cell_type": "code",
   "execution_count": 11,
   "metadata": {},
   "outputs": [
    {
     "data": {
      "text/plain": [
       "<Figure size 432x288 with 0 Axes>"
      ]
     },
     "execution_count": 11,
     "metadata": {},
     "output_type": "execute_result"
    },
    {
     "data": {
      "text/plain": [
       "<matplotlib.axes._subplots.AxesSubplot at 0x1762ad092b0>"
      ]
     },
     "execution_count": 11,
     "metadata": {},
     "output_type": "execute_result"
    },
    {
     "data": {
      "text/plain": [
       "<Figure size 432x288 with 0 Axes>"
      ]
     },
     "execution_count": 11,
     "metadata": {},
     "output_type": "execute_result"
    },
    {
     "data": {
      "text/plain": [
       "<matplotlib.axes._subplots.AxesSubplot at 0x1762ad8e2e8>"
      ]
     },
     "execution_count": 11,
     "metadata": {},
     "output_type": "execute_result"
    },
    {
     "data": {
      "text/plain": [
       "<Figure size 432x288 with 0 Axes>"
      ]
     },
     "execution_count": 11,
     "metadata": {},
     "output_type": "execute_result"
    },
    {
     "data": {
      "text/plain": [
       "<matplotlib.axes._subplots.AxesSubplot at 0x1762add7390>"
      ]
     },
     "execution_count": 11,
     "metadata": {},
     "output_type": "execute_result"
    },
    {
     "data": {
      "text/plain": [
       "<Figure size 432x288 with 0 Axes>"
      ]
     },
     "execution_count": 11,
     "metadata": {},
     "output_type": "execute_result"
    },
    {
     "data": {
      "text/plain": [
       "<matplotlib.axes._subplots.AxesSubplot at 0x1762afa3f28>"
      ]
     },
     "execution_count": 11,
     "metadata": {},
     "output_type": "execute_result"
    },
    {
     "data": {
      "text/plain": [
       "<Figure size 432x288 with 0 Axes>"
      ]
     },
     "execution_count": 11,
     "metadata": {},
     "output_type": "execute_result"
    },
    {
     "data": {
      "text/plain": [
       "<matplotlib.axes._subplots.AxesSubplot at 0x1762afec518>"
      ]
     },
     "execution_count": 11,
     "metadata": {},
     "output_type": "execute_result"
    },
    {
     "data": {
      "text/plain": [
       "<Figure size 432x288 with 0 Axes>"
      ]
     },
     "execution_count": 11,
     "metadata": {},
     "output_type": "execute_result"
    },
    {
     "data": {
      "text/plain": [
       "<matplotlib.axes._subplots.AxesSubplot at 0x1762b03f400>"
      ]
     },
     "execution_count": 11,
     "metadata": {},
     "output_type": "execute_result"
    },
    {
     "data": {
      "text/plain": [
       "<Figure size 432x288 with 0 Axes>"
      ]
     },
     "execution_count": 11,
     "metadata": {},
     "output_type": "execute_result"
    },
    {
     "data": {
      "text/plain": [
       "<matplotlib.axes._subplots.AxesSubplot at 0x1762b083860>"
      ]
     },
     "execution_count": 11,
     "metadata": {},
     "output_type": "execute_result"
    },
    {
     "data": {
      "text/plain": [
       "<Figure size 432x288 with 0 Axes>"
      ]
     },
     "execution_count": 11,
     "metadata": {},
     "output_type": "execute_result"
    },
    {
     "data": {
      "text/plain": [
       "<matplotlib.axes._subplots.AxesSubplot at 0x1762b339860>"
      ]
     },
     "execution_count": 11,
     "metadata": {},
     "output_type": "execute_result"
    },
    {
     "data": {
      "text/plain": [
       "<Figure size 432x288 with 0 Axes>"
      ]
     },
     "execution_count": 11,
     "metadata": {},
     "output_type": "execute_result"
    },
    {
     "data": {
      "text/plain": [
       "<matplotlib.axes._subplots.AxesSubplot at 0x1762b0d6b38>"
      ]
     },
     "execution_count": 11,
     "metadata": {},
     "output_type": "execute_result"
    },
    {
     "data": {
      "text/plain": [
       "<Figure size 432x288 with 0 Axes>"
      ]
     },
     "execution_count": 11,
     "metadata": {},
     "output_type": "execute_result"
    },
    {
     "data": {
      "text/plain": [
       "<matplotlib.axes._subplots.AxesSubplot at 0x1762b2d8828>"
      ]
     },
     "execution_count": 11,
     "metadata": {},
     "output_type": "execute_result"
    },
    {
     "data": {
      "text/plain": [
       "<Figure size 432x288 with 0 Axes>"
      ]
     },
     "execution_count": 11,
     "metadata": {},
     "output_type": "execute_result"
    },
    {
     "data": {
      "text/plain": [
       "<matplotlib.axes._subplots.AxesSubplot at 0x1762b1335f8>"
      ]
     },
     "execution_count": 11,
     "metadata": {},
     "output_type": "execute_result"
    },
    {
     "data": {
      "text/plain": [
       "<Figure size 432x288 with 0 Axes>"
      ]
     },
     "execution_count": 11,
     "metadata": {},
     "output_type": "execute_result"
    },
    {
     "data": {
      "text/plain": [
       "<matplotlib.axes._subplots.AxesSubplot at 0x1762b185278>"
      ]
     },
     "execution_count": 11,
     "metadata": {},
     "output_type": "execute_result"
    },
    {
     "data": {
      "text/plain": [
       "<Figure size 432x288 with 0 Axes>"
      ]
     },
     "execution_count": 11,
     "metadata": {},
     "output_type": "execute_result"
    },
    {
     "data": {
      "text/plain": [
       "<matplotlib.axes._subplots.AxesSubplot at 0x1762b1e11d0>"
      ]
     },
     "execution_count": 11,
     "metadata": {},
     "output_type": "execute_result"
    },
    {
     "data": {
      "text/plain": [
       "<Figure size 432x288 with 0 Axes>"
      ]
     },
     "execution_count": 11,
     "metadata": {},
     "output_type": "execute_result"
    },
    {
     "data": {
      "text/plain": [
       "<matplotlib.axes._subplots.AxesSubplot at 0x1762b21ab38>"
      ]
     },
     "execution_count": 11,
     "metadata": {},
     "output_type": "execute_result"
    },
    {
     "data": {
      "image/png": "[encoded data removed]",
      "text/plain": [
       "<Figure size 432x288 with 1 Axes>"
      ]
     },
     "metadata": {},
     "output_type": "display_data"
    },
    {
     "data": {
      "image/png": "[encoded data removed]",
      "text/plain": [
       "<Figure size 432x288 with 1 Axes>"
      ]
     },
     "metadata": {},
     "output_type": "display_data"
    },
    {
     "data": {
      "image/png": "[encoded data removed]",
      "text/plain": [
       "<Figure size 432x288 with 1 Axes>"
      ]
     },
     "metadata": {},
     "output_type": "display_data"
    },
    {
     "data": {
      "image/png": "[encoded data removed]",
      "text/plain": [
       "<Figure size 432x288 with 1 Axes>"
      ]
     },
     "metadata": {},
     "output_type": "display_data"
    },
    {
     "data": {
      "image/png": "[encoded data removed]",
      "text/plain": [
       "<Figure size 432x288 with 1 Axes>"
      ]
     },
     "metadata": {},
     "output_type": "display_data"
    },
    {
     "data": {
      "image/png": "[encoded data removed]",
      "text/plain": [
       "<Figure size 432x288 with 1 Axes>"
      ]
     },
     "metadata": {},
     "output_type": "display_data"
    },
    {
     "data": {
      "image/png": "[encoded data removed]",
      "text/plain": [
       "<Figure size 432x288 with 1 Axes>"
      ]
     },
     "metadata": {},
     "output_type": "display_data"
    },
    {
     "data": {
      "image/png": "[encoded data removed]",
      "text/plain": [
       "<Figure size 432x288 with 1 Axes>"
      ]
     },
     "metadata": {},
     "output_type": "display_data"
    },
    {
     "data": {
      "image/png": "[encoded data removed]",
      "text/plain": [
       "<Figure size 432x288 with 1 Axes>"
      ]
     },
     "metadata": {},
     "output_type": "display_data"
    },
    {
     "data": {
      "image/png": "[encoded data removed]",
      "text/plain": [
       "<Figure size 432x288 with 1 Axes>"
      ]
     },
     "metadata": {},
     "output_type": "display_data"
    },
    {
     "data": {
      "image/png": "[encoded data removed]",
      "text/plain": [
       "<Figure size 432x288 with 1 Axes>"
      ]
     },
     "metadata": {},
     "output_type": "display_data"
    },
    {
     "data": {
      "image/png": "[encoded data removed]",
      "text/plain": [
       "<Figure size 432x288 with 1 Axes>"
      ]
     },
     "metadata": {},
     "output_type": "display_data"
    },
    {
     "data": {
      "image/png": "[encoded data removed]",
      "text/plain": [
       "<Figure size 432x288 with 1 Axes>"
      ]
     },
     "metadata": {},
     "output_type": "display_data"
    },
    {
     "data": {
      "image/png": "[encoded data removed]",
      "text/plain": [
       "<Figure size 432x288 with 1 Axes>"
      ]
     },
     "metadata": {},
     "output_type": "display_data"
    }
   ],
   "source": [
    "for x in ['KPIs_met >80%', 'age', 'avg_training_score', 'awards_won?',\n",
    "       'department', 'education', 'employee_id', 'gender', 'index',\n",
    "       'is_promoted', 'length_of_service', 'no_of_trainings',\n",
    "        'recruitment_channel', 'region']:\n",
    "    gr = total.groupby(x).mean()\n",
    "    plt.figure()\n",
    "    sns.scatterplot(x=gr.index, y=gr.previous_year_rating)"
   ]
  },
  {
   "cell_type": "code",
   "execution_count": 12,
   "metadata": {},
   "outputs": [],
   "source": [
    "features_list = ['KPIs_met >80%', 'avg_training_score']"
   ]
  },
  {
   "cell_type": "code",
   "execution_count": 13,
   "metadata": {},
   "outputs": [],
   "source": [
    "#predicting previous year rating\n",
    "\n",
    "total_pyr = total.copy()\n",
    "total_pyr.dropna(inplace=True)\n",
    "total_pyr['avg_training_score_grouped'] = pd.cut(total_pyr.avg_training_score, bins=[0, 50, 80, 105], labels=[1, 2, 3])\n"
   ]
  },
  {
   "cell_type": "code",
   "execution_count": 14,
   "metadata": {},
   "outputs": [],
   "source": [
    "total_pyr = pd.get_dummies(data=total_pyr, columns=['avg_training_score_grouped','recruitment_channel'])"
   ]
  },
  {
   "cell_type": "code",
   "execution_count": 15,
   "metadata": {},
   "outputs": [
    {
     "data": {
      "text/plain": [
       "Index(['KPIs_met >80%', 'age', 'avg_training_score', 'awards_won?',\n",
       "       'department', 'education', 'employee_id', 'gender', 'index',\n",
       "       'is_promoted', 'length_of_service', 'no_of_trainings',\n",
       "       'previous_year_rating', 'region', 'avg_training_score_grouped_1',\n",
       "       'avg_training_score_grouped_2', 'avg_training_score_grouped_3',\n",
       "       'recruitment_channel_other', 'recruitment_channel_referred',\n",
       "       'recruitment_channel_sourcing'],\n",
       "      dtype='object')"
      ]
     },
     "execution_count": 15,
     "metadata": {},
     "output_type": "execute_result"
    }
   ],
   "source": [
    "total_pyr.columns"
   ]
  },
  {
   "cell_type": "code",
   "execution_count": 16,
   "metadata": {},
   "outputs": [
    {
     "data": {
      "text/plain": [
       "KNeighborsClassifier(algorithm='auto', leaf_size=30, metric='minkowski',\n",
       "           metric_params=None, n_jobs=1, n_neighbors=5, p=2,\n",
       "           weights='uniform')"
      ]
     },
     "execution_count": 16,
     "metadata": {},
     "output_type": "execute_result"
    },
    {
     "data": {
      "text/plain": [
       "0.318285849577776"
      ]
     },
     "execution_count": 16,
     "metadata": {},
     "output_type": "execute_result"
    }
   ],
   "source": [
    "from sklearn.ensemble import GradientBoostingClassifier\n",
    "from sklearn.neighbors import KNeighborsClassifier\n",
    "from sklearn.model_selection import train_test_split\n",
    "from sklearn.metrics import accuracy_score\n",
    "clf = KNeighborsClassifier()\n",
    "X_train, X_test, y_train, y_test = train_test_split(total_pyr[features_list], total_pyr['previous_year_rating'])\n",
    "clf.fit(X_train, y_train)\n",
    "preds = clf.predict(X_test)\n",
    "accuracy_score(y_test, preds)"
   ]
  },
  {
   "cell_type": "markdown",
   "metadata": {},
   "source": [
    "Since we can't predict previous_year_rating in any way, we'll impute them with the mean of the ratings."
   ]
  },
  {
   "cell_type": "code",
   "execution_count": 17,
   "metadata": {},
   "outputs": [],
   "source": [
    "total.previous_year_rating.fillna(total.previous_year_rating.mean(), inplace=True)"
   ]
  },
  {
   "cell_type": "code",
   "execution_count": 18,
   "metadata": {},
   "outputs": [
    {
     "data": {
      "text/html": [
       "<div>\n",
       "<style scoped>\n",
       "    .dataframe tbody tr th:only-of-type {\n",
       "        vertical-align: middle;\n",
       "    }\n",
       "\n",
       "    .dataframe tbody tr th {\n",
       "        vertical-align: top;\n",
       "    }\n",
       "\n",
       "    .dataframe thead th {\n",
       "        text-align: right;\n",
       "    }\n",
       "</style>\n",
       "<table border=\"1\" class=\"dataframe\">\n",
       "  <thead>\n",
       "    <tr style=\"text-align: right;\">\n",
       "      <th></th>\n",
       "      <th>KPIs_met &gt;80%</th>\n",
       "      <th>age</th>\n",
       "      <th>awards_won?</th>\n",
       "      <th>employee_id</th>\n",
       "      <th>index</th>\n",
       "      <th>is_promoted</th>\n",
       "      <th>length_of_service</th>\n",
       "      <th>no_of_trainings</th>\n",
       "      <th>previous_year_rating</th>\n",
       "    </tr>\n",
       "    <tr>\n",
       "      <th>avg_training_score</th>\n",
       "      <th></th>\n",
       "      <th></th>\n",
       "      <th></th>\n",
       "      <th></th>\n",
       "      <th></th>\n",
       "      <th></th>\n",
       "      <th></th>\n",
       "      <th></th>\n",
       "      <th></th>\n",
       "    </tr>\n",
       "  </thead>\n",
       "  <tbody>\n",
       "    <tr>\n",
       "      <th>39</th>\n",
       "      <td>0.000000</td>\n",
       "      <td>34.333333</td>\n",
       "      <td>0.000000</td>\n",
       "      <td>34150.000000</td>\n",
       "      <td>5775.666667</td>\n",
       "      <td>0.000000</td>\n",
       "      <td>8.666667</td>\n",
       "      <td>1.333333</td>\n",
       "      <td>1.333333</td>\n",
       "    </tr>\n",
       "    <tr>\n",
       "      <th>40</th>\n",
       "      <td>0.375000</td>\n",
       "      <td>36.125000</td>\n",
       "      <td>0.000000</td>\n",
       "      <td>27539.875000</td>\n",
       "      <td>13568.875000</td>\n",
       "      <td>0.000000</td>\n",
       "      <td>6.750000</td>\n",
       "      <td>1.500000</td>\n",
       "      <td>3.458055</td>\n",
       "    </tr>\n",
       "    <tr>\n",
       "      <th>41</th>\n",
       "      <td>0.324324</td>\n",
       "      <td>33.810811</td>\n",
       "      <td>0.000000</td>\n",
       "      <td>41121.945946</td>\n",
       "      <td>27337.918919</td>\n",
       "      <td>0.038462</td>\n",
       "      <td>4.594595</td>\n",
       "      <td>1.459459</td>\n",
       "      <td>2.936786</td>\n",
       "    </tr>\n",
       "    <tr>\n",
       "      <th>42</th>\n",
       "      <td>0.179487</td>\n",
       "      <td>33.897436</td>\n",
       "      <td>0.012821</td>\n",
       "      <td>41141.064103</td>\n",
       "      <td>25452.615385</td>\n",
       "      <td>0.032258</td>\n",
       "      <td>6.038462</td>\n",
       "      <td>1.384615</td>\n",
       "      <td>3.149458</td>\n",
       "    </tr>\n",
       "    <tr>\n",
       "      <th>43</th>\n",
       "      <td>0.286885</td>\n",
       "      <td>34.233607</td>\n",
       "      <td>0.012295</td>\n",
       "      <td>38109.663934</td>\n",
       "      <td>23812.745902</td>\n",
       "      <td>0.039773</td>\n",
       "      <td>5.676230</td>\n",
       "      <td>1.241803</td>\n",
       "      <td>3.264936</td>\n",
       "    </tr>\n",
       "    <tr>\n",
       "      <th>44</th>\n",
       "      <td>0.270161</td>\n",
       "      <td>34.883065</td>\n",
       "      <td>0.016129</td>\n",
       "      <td>39307.737903</td>\n",
       "      <td>21761.147177</td>\n",
       "      <td>0.029851</td>\n",
       "      <td>6.014113</td>\n",
       "      <td>1.199597</td>\n",
       "      <td>3.178685</td>\n",
       "    </tr>\n",
       "    <tr>\n",
       "      <th>45</th>\n",
       "      <td>0.275551</td>\n",
       "      <td>34.771543</td>\n",
       "      <td>0.020040</td>\n",
       "      <td>38569.574148</td>\n",
       "      <td>22681.148297</td>\n",
       "      <td>0.045521</td>\n",
       "      <td>5.853707</td>\n",
       "      <td>1.283567</td>\n",
       "      <td>3.088745</td>\n",
       "    </tr>\n",
       "    <tr>\n",
       "      <th>46</th>\n",
       "      <td>0.261876</td>\n",
       "      <td>35.100487</td>\n",
       "      <td>0.017052</td>\n",
       "      <td>39047.797199</td>\n",
       "      <td>22507.911084</td>\n",
       "      <td>0.031690</td>\n",
       "      <td>6.159562</td>\n",
       "      <td>1.252741</td>\n",
       "      <td>3.173900</td>\n",
       "    </tr>\n",
       "    <tr>\n",
       "      <th>47</th>\n",
       "      <td>0.290959</td>\n",
       "      <td>34.553889</td>\n",
       "      <td>0.015397</td>\n",
       "      <td>39414.793525</td>\n",
       "      <td>22397.193447</td>\n",
       "      <td>0.045246</td>\n",
       "      <td>5.764706</td>\n",
       "      <td>1.253060</td>\n",
       "      <td>3.126770</td>\n",
       "    </tr>\n",
       "    <tr>\n",
       "      <th>48</th>\n",
       "      <td>0.271230</td>\n",
       "      <td>34.693553</td>\n",
       "      <td>0.014769</td>\n",
       "      <td>39293.547004</td>\n",
       "      <td>22582.750071</td>\n",
       "      <td>0.039393</td>\n",
       "      <td>5.796365</td>\n",
       "      <td>1.252201</td>\n",
       "      <td>3.127994</td>\n",
       "    </tr>\n",
       "    <tr>\n",
       "      <th>49</th>\n",
       "      <td>0.279739</td>\n",
       "      <td>34.591111</td>\n",
       "      <td>0.013072</td>\n",
       "      <td>39616.201569</td>\n",
       "      <td>22802.082092</td>\n",
       "      <td>0.037300</td>\n",
       "      <td>5.756078</td>\n",
       "      <td>1.246536</td>\n",
       "      <td>3.127309</td>\n",
       "    </tr>\n",
       "    <tr>\n",
       "      <th>50</th>\n",
       "      <td>0.275932</td>\n",
       "      <td>34.700989</td>\n",
       "      <td>0.019021</td>\n",
       "      <td>39328.326908</td>\n",
       "      <td>22755.591174</td>\n",
       "      <td>0.041237</td>\n",
       "      <td>5.845295</td>\n",
       "      <td>1.257165</td>\n",
       "      <td>3.111161</td>\n",
       "    </tr>\n",
       "    <tr>\n",
       "      <th>51</th>\n",
       "      <td>0.276855</td>\n",
       "      <td>34.766172</td>\n",
       "      <td>0.018101</td>\n",
       "      <td>39662.752226</td>\n",
       "      <td>22597.799407</td>\n",
       "      <td>0.043886</td>\n",
       "      <td>5.861128</td>\n",
       "      <td>1.242433</td>\n",
       "      <td>3.103666</td>\n",
       "    </tr>\n",
       "    <tr>\n",
       "      <th>52</th>\n",
       "      <td>0.276917</td>\n",
       "      <td>34.788818</td>\n",
       "      <td>0.011334</td>\n",
       "      <td>39029.650170</td>\n",
       "      <td>22923.700038</td>\n",
       "      <td>0.038793</td>\n",
       "      <td>5.859841</td>\n",
       "      <td>1.251983</td>\n",
       "      <td>3.133142</td>\n",
       "    </tr>\n",
       "    <tr>\n",
       "      <th>53</th>\n",
       "      <td>0.285333</td>\n",
       "      <td>34.991467</td>\n",
       "      <td>0.015467</td>\n",
       "      <td>38871.417067</td>\n",
       "      <td>22597.205867</td>\n",
       "      <td>0.033233</td>\n",
       "      <td>5.920000</td>\n",
       "      <td>1.237867</td>\n",
       "      <td>3.125242</td>\n",
       "    </tr>\n",
       "    <tr>\n",
       "      <th>54</th>\n",
       "      <td>0.330049</td>\n",
       "      <td>35.021112</td>\n",
       "      <td>0.019704</td>\n",
       "      <td>39546.503871</td>\n",
       "      <td>22076.444757</td>\n",
       "      <td>0.049147</td>\n",
       "      <td>5.914145</td>\n",
       "      <td>1.235046</td>\n",
       "      <td>3.273437</td>\n",
       "    </tr>\n",
       "    <tr>\n",
       "      <th>55</th>\n",
       "      <td>0.368963</td>\n",
       "      <td>34.932700</td>\n",
       "      <td>0.019002</td>\n",
       "      <td>39072.172605</td>\n",
       "      <td>22513.521774</td>\n",
       "      <td>0.053899</td>\n",
       "      <td>5.912906</td>\n",
       "      <td>1.182106</td>\n",
       "      <td>3.380762</td>\n",
       "    </tr>\n",
       "    <tr>\n",
       "      <th>56</th>\n",
       "      <td>0.408470</td>\n",
       "      <td>35.265710</td>\n",
       "      <td>0.012978</td>\n",
       "      <td>39200.025956</td>\n",
       "      <td>23605.897541</td>\n",
       "      <td>0.064486</td>\n",
       "      <td>5.808060</td>\n",
       "      <td>1.184426</td>\n",
       "      <td>3.520632</td>\n",
       "    </tr>\n",
       "    <tr>\n",
       "      <th>57</th>\n",
       "      <td>0.428986</td>\n",
       "      <td>34.946377</td>\n",
       "      <td>0.022705</td>\n",
       "      <td>39183.597101</td>\n",
       "      <td>22131.112077</td>\n",
       "      <td>0.057063</td>\n",
       "      <td>5.913527</td>\n",
       "      <td>1.185024</td>\n",
       "      <td>3.580448</td>\n",
       "    </tr>\n",
       "    <tr>\n",
       "      <th>58</th>\n",
       "      <td>0.435058</td>\n",
       "      <td>35.302196</td>\n",
       "      <td>0.020097</td>\n",
       "      <td>38818.071455</td>\n",
       "      <td>23120.937477</td>\n",
       "      <td>0.068493</td>\n",
       "      <td>6.118720</td>\n",
       "      <td>1.184220</td>\n",
       "      <td>3.564125</td>\n",
       "    </tr>\n",
       "    <tr>\n",
       "      <th>59</th>\n",
       "      <td>0.410405</td>\n",
       "      <td>35.134988</td>\n",
       "      <td>0.017341</td>\n",
       "      <td>39045.236314</td>\n",
       "      <td>22827.662360</td>\n",
       "      <td>0.070252</td>\n",
       "      <td>5.962258</td>\n",
       "      <td>1.163550</td>\n",
       "      <td>3.590885</td>\n",
       "    </tr>\n",
       "    <tr>\n",
       "      <th>60</th>\n",
       "      <td>0.430355</td>\n",
       "      <td>35.338699</td>\n",
       "      <td>0.019382</td>\n",
       "      <td>38835.272996</td>\n",
       "      <td>22963.237516</td>\n",
       "      <td>0.064037</td>\n",
       "      <td>6.118922</td>\n",
       "      <td>1.201708</td>\n",
       "      <td>3.603191</td>\n",
       "    </tr>\n",
       "    <tr>\n",
       "      <th>61</th>\n",
       "      <td>0.416698</td>\n",
       "      <td>35.149226</td>\n",
       "      <td>0.013223</td>\n",
       "      <td>39053.124292</td>\n",
       "      <td>22842.860975</td>\n",
       "      <td>0.077701</td>\n",
       "      <td>5.922932</td>\n",
       "      <td>1.170382</td>\n",
       "      <td>3.552617</td>\n",
       "    </tr>\n",
       "    <tr>\n",
       "      <th>62</th>\n",
       "      <td>0.419308</td>\n",
       "      <td>35.452450</td>\n",
       "      <td>0.019693</td>\n",
       "      <td>39522.452450</td>\n",
       "      <td>23039.924111</td>\n",
       "      <td>0.080690</td>\n",
       "      <td>6.052354</td>\n",
       "      <td>1.172430</td>\n",
       "      <td>3.539290</td>\n",
       "    </tr>\n",
       "    <tr>\n",
       "      <th>63</th>\n",
       "      <td>0.406077</td>\n",
       "      <td>35.421961</td>\n",
       "      <td>0.017265</td>\n",
       "      <td>39941.285221</td>\n",
       "      <td>23144.196133</td>\n",
       "      <td>0.092067</td>\n",
       "      <td>6.091851</td>\n",
       "      <td>1.212707</td>\n",
       "      <td>3.596838</td>\n",
       "    </tr>\n",
       "    <tr>\n",
       "      <th>64</th>\n",
       "      <td>0.388359</td>\n",
       "      <td>35.163168</td>\n",
       "      <td>0.025763</td>\n",
       "      <td>39006.009542</td>\n",
       "      <td>22133.832061</td>\n",
       "      <td>0.114407</td>\n",
       "      <td>6.072519</td>\n",
       "      <td>1.209924</td>\n",
       "      <td>3.506292</td>\n",
       "    </tr>\n",
       "    <tr>\n",
       "      <th>65</th>\n",
       "      <td>0.387828</td>\n",
       "      <td>35.353222</td>\n",
       "      <td>0.019093</td>\n",
       "      <td>39030.294749</td>\n",
       "      <td>22152.489260</td>\n",
       "      <td>0.108514</td>\n",
       "      <td>6.072792</td>\n",
       "      <td>1.282816</td>\n",
       "      <td>3.408844</td>\n",
       "    </tr>\n",
       "    <tr>\n",
       "      <th>66</th>\n",
       "      <td>0.356079</td>\n",
       "      <td>35.650124</td>\n",
       "      <td>0.018610</td>\n",
       "      <td>38476.666253</td>\n",
       "      <td>23217.703474</td>\n",
       "      <td>0.091379</td>\n",
       "      <td>6.369727</td>\n",
       "      <td>1.259305</td>\n",
       "      <td>3.321677</td>\n",
       "    </tr>\n",
       "    <tr>\n",
       "      <th>67</th>\n",
       "      <td>0.359270</td>\n",
       "      <td>36.213256</td>\n",
       "      <td>0.024976</td>\n",
       "      <td>39284.955812</td>\n",
       "      <td>22086.327570</td>\n",
       "      <td>0.101648</td>\n",
       "      <td>6.552354</td>\n",
       "      <td>1.352546</td>\n",
       "      <td>3.345741</td>\n",
       "    </tr>\n",
       "    <tr>\n",
       "      <th>68</th>\n",
       "      <td>0.378002</td>\n",
       "      <td>35.861348</td>\n",
       "      <td>0.014717</td>\n",
       "      <td>39246.907823</td>\n",
       "      <td>23294.343919</td>\n",
       "      <td>0.082353</td>\n",
       "      <td>6.039504</td>\n",
       "      <td>1.343919</td>\n",
       "      <td>3.295048</td>\n",
       "    </tr>\n",
       "    <tr>\n",
       "      <th>...</th>\n",
       "      <td>...</td>\n",
       "      <td>...</td>\n",
       "      <td>...</td>\n",
       "      <td>...</td>\n",
       "      <td>...</td>\n",
       "      <td>...</td>\n",
       "      <td>...</td>\n",
       "      <td>...</td>\n",
       "      <td>...</td>\n",
       "    </tr>\n",
       "    <tr>\n",
       "      <th>70</th>\n",
       "      <td>0.361868</td>\n",
       "      <td>36.317121</td>\n",
       "      <td>0.027886</td>\n",
       "      <td>39707.498054</td>\n",
       "      <td>23056.201038</td>\n",
       "      <td>0.116588</td>\n",
       "      <td>6.477302</td>\n",
       "      <td>1.314527</td>\n",
       "      <td>3.280955</td>\n",
       "    </tr>\n",
       "    <tr>\n",
       "      <th>71</th>\n",
       "      <td>0.374228</td>\n",
       "      <td>35.696759</td>\n",
       "      <td>0.020833</td>\n",
       "      <td>39229.103395</td>\n",
       "      <td>23204.400463</td>\n",
       "      <td>0.120267</td>\n",
       "      <td>6.182870</td>\n",
       "      <td>1.352623</td>\n",
       "      <td>3.284407</td>\n",
       "    </tr>\n",
       "    <tr>\n",
       "      <th>72</th>\n",
       "      <td>0.347996</td>\n",
       "      <td>35.822092</td>\n",
       "      <td>0.033236</td>\n",
       "      <td>39213.137830</td>\n",
       "      <td>23128.795699</td>\n",
       "      <td>0.118621</td>\n",
       "      <td>6.278592</td>\n",
       "      <td>1.322581</td>\n",
       "      <td>3.283083</td>\n",
       "    </tr>\n",
       "    <tr>\n",
       "      <th>73</th>\n",
       "      <td>0.351706</td>\n",
       "      <td>36.060367</td>\n",
       "      <td>0.024934</td>\n",
       "      <td>38913.195538</td>\n",
       "      <td>22216.805774</td>\n",
       "      <td>0.112811</td>\n",
       "      <td>6.207349</td>\n",
       "      <td>1.311024</td>\n",
       "      <td>3.338526</td>\n",
       "    </tr>\n",
       "    <tr>\n",
       "      <th>74</th>\n",
       "      <td>0.368159</td>\n",
       "      <td>36.048093</td>\n",
       "      <td>0.024876</td>\n",
       "      <td>39020.809287</td>\n",
       "      <td>22284.820896</td>\n",
       "      <td>0.170901</td>\n",
       "      <td>6.154229</td>\n",
       "      <td>1.280265</td>\n",
       "      <td>3.316132</td>\n",
       "    </tr>\n",
       "    <tr>\n",
       "      <th>75</th>\n",
       "      <td>0.338569</td>\n",
       "      <td>35.544503</td>\n",
       "      <td>0.027923</td>\n",
       "      <td>38670.157068</td>\n",
       "      <td>22936.609075</td>\n",
       "      <td>0.121588</td>\n",
       "      <td>5.921466</td>\n",
       "      <td>1.293194</td>\n",
       "      <td>3.280913</td>\n",
       "    </tr>\n",
       "    <tr>\n",
       "      <th>76</th>\n",
       "      <td>0.334683</td>\n",
       "      <td>35.287449</td>\n",
       "      <td>0.022942</td>\n",
       "      <td>39840.885290</td>\n",
       "      <td>22904.983806</td>\n",
       "      <td>0.091085</td>\n",
       "      <td>5.859649</td>\n",
       "      <td>1.240216</td>\n",
       "      <td>3.192439</td>\n",
       "    </tr>\n",
       "    <tr>\n",
       "      <th>77</th>\n",
       "      <td>0.334000</td>\n",
       "      <td>35.286000</td>\n",
       "      <td>0.024000</td>\n",
       "      <td>38567.506000</td>\n",
       "      <td>22435.067000</td>\n",
       "      <td>0.093257</td>\n",
       "      <td>6.084000</td>\n",
       "      <td>1.230000</td>\n",
       "      <td>3.146913</td>\n",
       "    </tr>\n",
       "    <tr>\n",
       "      <th>78</th>\n",
       "      <td>0.361382</td>\n",
       "      <td>34.933133</td>\n",
       "      <td>0.022539</td>\n",
       "      <td>38887.126972</td>\n",
       "      <td>22463.097671</td>\n",
       "      <td>0.094319</td>\n",
       "      <td>5.916604</td>\n",
       "      <td>1.263711</td>\n",
       "      <td>3.175720</td>\n",
       "    </tr>\n",
       "    <tr>\n",
       "      <th>79</th>\n",
       "      <td>0.345018</td>\n",
       "      <td>34.533210</td>\n",
       "      <td>0.028905</td>\n",
       "      <td>38439.760763</td>\n",
       "      <td>23336.929889</td>\n",
       "      <td>0.072414</td>\n",
       "      <td>5.744157</td>\n",
       "      <td>1.284748</td>\n",
       "      <td>3.187899</td>\n",
       "    </tr>\n",
       "    <tr>\n",
       "      <th>80</th>\n",
       "      <td>0.357264</td>\n",
       "      <td>34.573205</td>\n",
       "      <td>0.020916</td>\n",
       "      <td>38808.091012</td>\n",
       "      <td>22107.742227</td>\n",
       "      <td>0.099502</td>\n",
       "      <td>5.755794</td>\n",
       "      <td>1.266817</td>\n",
       "      <td>3.213210</td>\n",
       "    </tr>\n",
       "    <tr>\n",
       "      <th>81</th>\n",
       "      <td>0.353950</td>\n",
       "      <td>34.183472</td>\n",
       "      <td>0.027547</td>\n",
       "      <td>38320.083160</td>\n",
       "      <td>22826.944906</td>\n",
       "      <td>0.109801</td>\n",
       "      <td>5.535343</td>\n",
       "      <td>1.277547</td>\n",
       "      <td>3.299642</td>\n",
       "    </tr>\n",
       "    <tr>\n",
       "      <th>82</th>\n",
       "      <td>0.358156</td>\n",
       "      <td>33.983789</td>\n",
       "      <td>0.017224</td>\n",
       "      <td>39555.810030</td>\n",
       "      <td>23166.296353</td>\n",
       "      <td>0.104354</td>\n",
       "      <td>5.593718</td>\n",
       "      <td>1.313070</td>\n",
       "      <td>3.357396</td>\n",
       "    </tr>\n",
       "    <tr>\n",
       "      <th>83</th>\n",
       "      <td>0.382504</td>\n",
       "      <td>33.169240</td>\n",
       "      <td>0.021155</td>\n",
       "      <td>38612.487136</td>\n",
       "      <td>22165.104631</td>\n",
       "      <td>0.106010</td>\n",
       "      <td>5.118353</td>\n",
       "      <td>1.307604</td>\n",
       "      <td>3.396131</td>\n",
       "    </tr>\n",
       "    <tr>\n",
       "      <th>84</th>\n",
       "      <td>0.397668</td>\n",
       "      <td>32.965598</td>\n",
       "      <td>0.030321</td>\n",
       "      <td>39244.724781</td>\n",
       "      <td>22029.530612</td>\n",
       "      <td>0.102740</td>\n",
       "      <td>5.105539</td>\n",
       "      <td>1.322449</td>\n",
       "      <td>3.435663</td>\n",
       "    </tr>\n",
       "    <tr>\n",
       "      <th>85</th>\n",
       "      <td>0.391362</td>\n",
       "      <td>32.606645</td>\n",
       "      <td>0.019269</td>\n",
       "      <td>39385.350831</td>\n",
       "      <td>22620.820598</td>\n",
       "      <td>0.097948</td>\n",
       "      <td>5.081063</td>\n",
       "      <td>1.340864</td>\n",
       "      <td>3.521501</td>\n",
       "    </tr>\n",
       "    <tr>\n",
       "      <th>86</th>\n",
       "      <td>0.399388</td>\n",
       "      <td>32.527161</td>\n",
       "      <td>0.035195</td>\n",
       "      <td>38464.153022</td>\n",
       "      <td>22208.248661</td>\n",
       "      <td>0.131579</td>\n",
       "      <td>4.939556</td>\n",
       "      <td>1.351186</td>\n",
       "      <td>3.521693</td>\n",
       "    </tr>\n",
       "    <tr>\n",
       "      <th>87</th>\n",
       "      <td>0.396624</td>\n",
       "      <td>32.569620</td>\n",
       "      <td>0.024262</td>\n",
       "      <td>38807.348101</td>\n",
       "      <td>22425.246835</td>\n",
       "      <td>0.128244</td>\n",
       "      <td>5.010549</td>\n",
       "      <td>1.305907</td>\n",
       "      <td>3.556853</td>\n",
       "    </tr>\n",
       "    <tr>\n",
       "      <th>88</th>\n",
       "      <td>0.410049</td>\n",
       "      <td>32.914100</td>\n",
       "      <td>0.047002</td>\n",
       "      <td>41244.213938</td>\n",
       "      <td>22952.996759</td>\n",
       "      <td>0.184685</td>\n",
       "      <td>5.098865</td>\n",
       "      <td>1.303079</td>\n",
       "      <td>3.623889</td>\n",
       "    </tr>\n",
       "    <tr>\n",
       "      <th>89</th>\n",
       "      <td>0.424942</td>\n",
       "      <td>33.103926</td>\n",
       "      <td>0.069284</td>\n",
       "      <td>38967.327945</td>\n",
       "      <td>22490.836028</td>\n",
       "      <td>0.279070</td>\n",
       "      <td>5.083141</td>\n",
       "      <td>1.316397</td>\n",
       "      <td>3.624247</td>\n",
       "    </tr>\n",
       "    <tr>\n",
       "      <th>90</th>\n",
       "      <td>0.453184</td>\n",
       "      <td>33.344569</td>\n",
       "      <td>0.131086</td>\n",
       "      <td>38695.812734</td>\n",
       "      <td>22975.138577</td>\n",
       "      <td>0.427027</td>\n",
       "      <td>5.318352</td>\n",
       "      <td>1.325843</td>\n",
       "      <td>3.737715</td>\n",
       "    </tr>\n",
       "    <tr>\n",
       "      <th>91</th>\n",
       "      <td>0.469136</td>\n",
       "      <td>34.419753</td>\n",
       "      <td>0.166667</td>\n",
       "      <td>38544.092593</td>\n",
       "      <td>22565.660494</td>\n",
       "      <td>0.649573</td>\n",
       "      <td>5.635802</td>\n",
       "      <td>1.265432</td>\n",
       "      <td>3.814774</td>\n",
       "    </tr>\n",
       "    <tr>\n",
       "      <th>92</th>\n",
       "      <td>0.592593</td>\n",
       "      <td>33.911111</td>\n",
       "      <td>0.244444</td>\n",
       "      <td>39491.066667</td>\n",
       "      <td>24611.125926</td>\n",
       "      <td>0.818182</td>\n",
       "      <td>5.800000</td>\n",
       "      <td>1.325926</td>\n",
       "      <td>3.819662</td>\n",
       "    </tr>\n",
       "    <tr>\n",
       "      <th>93</th>\n",
       "      <td>0.572727</td>\n",
       "      <td>33.545455</td>\n",
       "      <td>0.272727</td>\n",
       "      <td>39189.563636</td>\n",
       "      <td>22626.945455</td>\n",
       "      <td>0.892857</td>\n",
       "      <td>5.045455</td>\n",
       "      <td>1.290909</td>\n",
       "      <td>3.984747</td>\n",
       "    </tr>\n",
       "    <tr>\n",
       "      <th>94</th>\n",
       "      <td>0.687500</td>\n",
       "      <td>33.187500</td>\n",
       "      <td>0.354167</td>\n",
       "      <td>37966.166667</td>\n",
       "      <td>23614.520833</td>\n",
       "      <td>0.969231</td>\n",
       "      <td>4.635417</td>\n",
       "      <td>1.239583</td>\n",
       "      <td>3.871435</td>\n",
       "    </tr>\n",
       "    <tr>\n",
       "      <th>95</th>\n",
       "      <td>0.750000</td>\n",
       "      <td>35.176471</td>\n",
       "      <td>0.264706</td>\n",
       "      <td>42481.308824</td>\n",
       "      <td>22260.176471</td>\n",
       "      <td>1.000000</td>\n",
       "      <td>5.338235</td>\n",
       "      <td>1.102941</td>\n",
       "      <td>3.936193</td>\n",
       "    </tr>\n",
       "    <tr>\n",
       "      <th>96</th>\n",
       "      <td>0.666667</td>\n",
       "      <td>34.373333</td>\n",
       "      <td>0.320000</td>\n",
       "      <td>39621.453333</td>\n",
       "      <td>21290.106667</td>\n",
       "      <td>0.979167</td>\n",
       "      <td>5.986667</td>\n",
       "      <td>1.133333</td>\n",
       "      <td>4.004340</td>\n",
       "    </tr>\n",
       "    <tr>\n",
       "      <th>97</th>\n",
       "      <td>0.718310</td>\n",
       "      <td>35.126761</td>\n",
       "      <td>0.281690</td>\n",
       "      <td>45222.873239</td>\n",
       "      <td>22106.816901</td>\n",
       "      <td>1.000000</td>\n",
       "      <td>5.507042</td>\n",
       "      <td>1.098592</td>\n",
       "      <td>3.821439</td>\n",
       "    </tr>\n",
       "    <tr>\n",
       "      <th>98</th>\n",
       "      <td>0.745098</td>\n",
       "      <td>34.568627</td>\n",
       "      <td>0.352941</td>\n",
       "      <td>36097.196078</td>\n",
       "      <td>26661.294118</td>\n",
       "      <td>1.000000</td>\n",
       "      <td>6.137255</td>\n",
       "      <td>1.352941</td>\n",
       "      <td>3.712331</td>\n",
       "    </tr>\n",
       "    <tr>\n",
       "      <th>99</th>\n",
       "      <td>0.604167</td>\n",
       "      <td>35.166667</td>\n",
       "      <td>0.270833</td>\n",
       "      <td>40952.354167</td>\n",
       "      <td>21932.895833</td>\n",
       "      <td>1.000000</td>\n",
       "      <td>6.333333</td>\n",
       "      <td>1.291667</td>\n",
       "      <td>4.020764</td>\n",
       "    </tr>\n",
       "  </tbody>\n",
       "</table>\n",
       "<p>61 rows × 9 columns</p>\n",
       "</div>"
      ],
      "text/plain": [
       "                    KPIs_met >80%        age  awards_won?   employee_id  \\\n",
       "avg_training_score                                                        \n",
       "39                       0.000000  34.333333     0.000000  34150.000000   \n",
       "40                       0.375000  36.125000     0.000000  27539.875000   \n",
       "41                       0.324324  33.810811     0.000000  41121.945946   \n",
       "42                       0.179487  33.897436     0.012821  41141.064103   \n",
       "43                       0.286885  34.233607     0.012295  38109.663934   \n",
       "44                       0.270161  34.883065     0.016129  39307.737903   \n",
       "45                       0.275551  34.771543     0.020040  38569.574148   \n",
       "46                       0.261876  35.100487     0.017052  39047.797199   \n",
       "47                       0.290959  34.553889     0.015397  39414.793525   \n",
       "48                       0.271230  34.693553     0.014769  39293.547004   \n",
       "49                       0.279739  34.591111     0.013072  39616.201569   \n",
       "50                       0.275932  34.700989     0.019021  39328.326908   \n",
       "51                       0.276855  34.766172     0.018101  39662.752226   \n",
       "52                       0.276917  34.788818     0.011334  39029.650170   \n",
       "53                       0.285333  34.991467     0.015467  38871.417067   \n",
       "54                       0.330049  35.021112     0.019704  39546.503871   \n",
       "55                       0.368963  34.932700     0.019002  39072.172605   \n",
       "56                       0.408470  35.265710     0.012978  39200.025956   \n",
       "57                       0.428986  34.946377     0.022705  39183.597101   \n",
       "58                       0.435058  35.302196     0.020097  38818.071455   \n",
       "59                       0.410405  35.134988     0.017341  39045.236314   \n",
       "60                       0.430355  35.338699     0.019382  38835.272996   \n",
       "61                       0.416698  35.149226     0.013223  39053.124292   \n",
       "62                       0.419308  35.452450     0.019693  39522.452450   \n",
       "63                       0.406077  35.421961     0.017265  39941.285221   \n",
       "64                       0.388359  35.163168     0.025763  39006.009542   \n",
       "65                       0.387828  35.353222     0.019093  39030.294749   \n",
       "66                       0.356079  35.650124     0.018610  38476.666253   \n",
       "67                       0.359270  36.213256     0.024976  39284.955812   \n",
       "68                       0.378002  35.861348     0.014717  39246.907823   \n",
       "...                           ...        ...          ...           ...   \n",
       "70                       0.361868  36.317121     0.027886  39707.498054   \n",
       "71                       0.374228  35.696759     0.020833  39229.103395   \n",
       "72                       0.347996  35.822092     0.033236  39213.137830   \n",
       "73                       0.351706  36.060367     0.024934  38913.195538   \n",
       "74                       0.368159  36.048093     0.024876  39020.809287   \n",
       "75                       0.338569  35.544503     0.027923  38670.157068   \n",
       "76                       0.334683  35.287449     0.022942  39840.885290   \n",
       "77                       0.334000  35.286000     0.024000  38567.506000   \n",
       "78                       0.361382  34.933133     0.022539  38887.126972   \n",
       "79                       0.345018  34.533210     0.028905  38439.760763   \n",
       "80                       0.357264  34.573205     0.020916  38808.091012   \n",
       "81                       0.353950  34.183472     0.027547  38320.083160   \n",
       "82                       0.358156  33.983789     0.017224  39555.810030   \n",
       "83                       0.382504  33.169240     0.021155  38612.487136   \n",
       "84                       0.397668  32.965598     0.030321  39244.724781   \n",
       "85                       0.391362  32.606645     0.019269  39385.350831   \n",
       "86                       0.399388  32.527161     0.035195  38464.153022   \n",
       "87                       0.396624  32.569620     0.024262  38807.348101   \n",
       "88                       0.410049  32.914100     0.047002  41244.213938   \n",
       "89                       0.424942  33.103926     0.069284  38967.327945   \n",
       "90                       0.453184  33.344569     0.131086  38695.812734   \n",
       "91                       0.469136  34.419753     0.166667  38544.092593   \n",
       "92                       0.592593  33.911111     0.244444  39491.066667   \n",
       "93                       0.572727  33.545455     0.272727  39189.563636   \n",
       "94                       0.687500  33.187500     0.354167  37966.166667   \n",
       "95                       0.750000  35.176471     0.264706  42481.308824   \n",
       "96                       0.666667  34.373333     0.320000  39621.453333   \n",
       "97                       0.718310  35.126761     0.281690  45222.873239   \n",
       "98                       0.745098  34.568627     0.352941  36097.196078   \n",
       "99                       0.604167  35.166667     0.270833  40952.354167   \n",
       "\n",
       "                           index  is_promoted  length_of_service  \\\n",
       "avg_training_score                                                 \n",
       "39                   5775.666667     0.000000           8.666667   \n",
       "40                  13568.875000     0.000000           6.750000   \n",
       "41                  27337.918919     0.038462           4.594595   \n",
       "42                  25452.615385     0.032258           6.038462   \n",
       "43                  23812.745902     0.039773           5.676230   \n",
       "44                  21761.147177     0.029851           6.014113   \n",
       "45                  22681.148297     0.045521           5.853707   \n",
       "46                  22507.911084     0.031690           6.159562   \n",
       "47                  22397.193447     0.045246           5.764706   \n",
       "48                  22582.750071     0.039393           5.796365   \n",
       "49                  22802.082092     0.037300           5.756078   \n",
       "50                  22755.591174     0.041237           5.845295   \n",
       "51                  22597.799407     0.043886           5.861128   \n",
       "52                  22923.700038     0.038793           5.859841   \n",
       "53                  22597.205867     0.033233           5.920000   \n",
       "54                  22076.444757     0.049147           5.914145   \n",
       "55                  22513.521774     0.053899           5.912906   \n",
       "56                  23605.897541     0.064486           5.808060   \n",
       "57                  22131.112077     0.057063           5.913527   \n",
       "58                  23120.937477     0.068493           6.118720   \n",
       "59                  22827.662360     0.070252           5.962258   \n",
       "60                  22963.237516     0.064037           6.118922   \n",
       "61                  22842.860975     0.077701           5.922932   \n",
       "62                  23039.924111     0.080690           6.052354   \n",
       "63                  23144.196133     0.092067           6.091851   \n",
       "64                  22133.832061     0.114407           6.072519   \n",
       "65                  22152.489260     0.108514           6.072792   \n",
       "66                  23217.703474     0.091379           6.369727   \n",
       "67                  22086.327570     0.101648           6.552354   \n",
       "68                  23294.343919     0.082353           6.039504   \n",
       "...                          ...          ...                ...   \n",
       "70                  23056.201038     0.116588           6.477302   \n",
       "71                  23204.400463     0.120267           6.182870   \n",
       "72                  23128.795699     0.118621           6.278592   \n",
       "73                  22216.805774     0.112811           6.207349   \n",
       "74                  22284.820896     0.170901           6.154229   \n",
       "75                  22936.609075     0.121588           5.921466   \n",
       "76                  22904.983806     0.091085           5.859649   \n",
       "77                  22435.067000     0.093257           6.084000   \n",
       "78                  22463.097671     0.094319           5.916604   \n",
       "79                  23336.929889     0.072414           5.744157   \n",
       "80                  22107.742227     0.099502           5.755794   \n",
       "81                  22826.944906     0.109801           5.535343   \n",
       "82                  23166.296353     0.104354           5.593718   \n",
       "83                  22165.104631     0.106010           5.118353   \n",
       "84                  22029.530612     0.102740           5.105539   \n",
       "85                  22620.820598     0.097948           5.081063   \n",
       "86                  22208.248661     0.131579           4.939556   \n",
       "87                  22425.246835     0.128244           5.010549   \n",
       "88                  22952.996759     0.184685           5.098865   \n",
       "89                  22490.836028     0.279070           5.083141   \n",
       "90                  22975.138577     0.427027           5.318352   \n",
       "91                  22565.660494     0.649573           5.635802   \n",
       "92                  24611.125926     0.818182           5.800000   \n",
       "93                  22626.945455     0.892857           5.045455   \n",
       "94                  23614.520833     0.969231           4.635417   \n",
       "95                  22260.176471     1.000000           5.338235   \n",
       "96                  21290.106667     0.979167           5.986667   \n",
       "97                  22106.816901     1.000000           5.507042   \n",
       "98                  26661.294118     1.000000           6.137255   \n",
       "99                  21932.895833     1.000000           6.333333   \n",
       "\n",
       "                    no_of_trainings  previous_year_rating  \n",
       "avg_training_score                                         \n",
       "39                         1.333333              1.333333  \n",
       "40                         1.500000              3.458055  \n",
       "41                         1.459459              2.936786  \n",
       "42                         1.384615              3.149458  \n",
       "43                         1.241803              3.264936  \n",
       "44                         1.199597              3.178685  \n",
       "45                         1.283567              3.088745  \n",
       "46                         1.252741              3.173900  \n",
       "47                         1.253060              3.126770  \n",
       "48                         1.252201              3.127994  \n",
       "49                         1.246536              3.127309  \n",
       "50                         1.257165              3.111161  \n",
       "51                         1.242433              3.103666  \n",
       "52                         1.251983              3.133142  \n",
       "53                         1.237867              3.125242  \n",
       "54                         1.235046              3.273437  \n",
       "55                         1.182106              3.380762  \n",
       "56                         1.184426              3.520632  \n",
       "57                         1.185024              3.580448  \n",
       "58                         1.184220              3.564125  \n",
       "59                         1.163550              3.590885  \n",
       "60                         1.201708              3.603191  \n",
       "61                         1.170382              3.552617  \n",
       "62                         1.172430              3.539290  \n",
       "63                         1.212707              3.596838  \n",
       "64                         1.209924              3.506292  \n",
       "65                         1.282816              3.408844  \n",
       "66                         1.259305              3.321677  \n",
       "67                         1.352546              3.345741  \n",
       "68                         1.343919              3.295048  \n",
       "...                             ...                   ...  \n",
       "70                         1.314527              3.280955  \n",
       "71                         1.352623              3.284407  \n",
       "72                         1.322581              3.283083  \n",
       "73                         1.311024              3.338526  \n",
       "74                         1.280265              3.316132  \n",
       "75                         1.293194              3.280913  \n",
       "76                         1.240216              3.192439  \n",
       "77                         1.230000              3.146913  \n",
       "78                         1.263711              3.175720  \n",
       "79                         1.284748              3.187899  \n",
       "80                         1.266817              3.213210  \n",
       "81                         1.277547              3.299642  \n",
       "82                         1.313070              3.357396  \n",
       "83                         1.307604              3.396131  \n",
       "84                         1.322449              3.435663  \n",
       "85                         1.340864              3.521501  \n",
       "86                         1.351186              3.521693  \n",
       "87                         1.305907              3.556853  \n",
       "88                         1.303079              3.623889  \n",
       "89                         1.316397              3.624247  \n",
       "90                         1.325843              3.737715  \n",
       "91                         1.265432              3.814774  \n",
       "92                         1.325926              3.819662  \n",
       "93                         1.290909              3.984747  \n",
       "94                         1.239583              3.871435  \n",
       "95                         1.102941              3.936193  \n",
       "96                         1.133333              4.004340  \n",
       "97                         1.098592              3.821439  \n",
       "98                         1.352941              3.712331  \n",
       "99                         1.291667              4.020764  \n",
       "\n",
       "[61 rows x 9 columns]"
      ]
     },
     "execution_count": 18,
     "metadata": {},
     "output_type": "execute_result"
    }
   ],
   "source": [
    "gr = total.groupby('avg_training_score').mean()\n",
    "gr"
   ]
  },
  {
   "cell_type": "code",
   "execution_count": 19,
   "metadata": {},
   "outputs": [],
   "source": [
    "from scipy.stats import chisquare"
   ]
  },
  {
   "cell_type": "code",
   "execution_count": 304,
   "metadata": {},
   "outputs": [
    {
     "data": {
      "text/plain": [
       "<matplotlib.axes._subplots.AxesSubplot at 0x25d18c8b7f0>"
      ]
     },
     "execution_count": 304,
     "metadata": {},
     "output_type": "execute_result"
    },
    {
     "data": {
      "text/plain": [
       "Text(0.5,1,'region')"
      ]
     },
     "execution_count": 304,
     "metadata": {},
     "output_type": "execute_result"
    },
    {
     "data": {
      "image/png": "[encoded data removed]",
      "text/plain": [
       "<Figure size 432x288 with 1 Axes>"
      ]
     },
     "metadata": {},
     "output_type": "display_data"
    }
   ],
   "source": [
    "sns.scatterplot(x=group.index, y=group.is_promoted)\n",
    "plt.title('region')"
   ]
  },
  {
   "cell_type": "code",
   "execution_count": 310,
   "metadata": {},
   "outputs": [
    {
     "data": {
      "text/plain": [
       "<matplotlib.axes._subplots.AxesSubplot at 0x25d18da62b0>"
      ]
     },
     "execution_count": 310,
     "metadata": {},
     "output_type": "execute_result"
    },
    {
     "data": {
      "text/plain": [
       "Text(0.5,1,'age')"
      ]
     },
     "execution_count": 310,
     "metadata": {},
     "output_type": "execute_result"
    },
    {
     "data": {
      "image/png": "[encoded data removed]",
      "text/plain": [
       "<Figure size 432x288 with 1 Axes>"
      ]
     },
     "metadata": {},
     "output_type": "display_data"
    }
   ],
   "source": [
    "sns.scatterplot(x=group.index, y=group.is_promoted)\n",
    "plt.title('age')"
   ]
  },
  {
   "cell_type": "code",
   "execution_count": 56,
   "metadata": {},
   "outputs": [
    {
     "data": {
      "text/plain": [
       "<matplotlib.axes._subplots.AxesSubplot at 0x2474c796b38>"
      ]
     },
     "execution_count": 56,
     "metadata": {},
     "output_type": "execute_result"
    },
    {
     "data": {
      "text/plain": [
       "Text(0.5,1,'previous_year_rating')"
      ]
     },
     "execution_count": 56,
     "metadata": {},
     "output_type": "execute_result"
    },
    {
     "data": {
      "image/png": "[encoded data removed]",
      "text/plain": [
       "<Figure size 432x288 with 1 Axes>"
      ]
     },
     "metadata": {},
     "output_type": "display_data"
    }
   ],
   "source": [
    "sns.scatterplot(x=group.index, y=group.is_promoted)\n",
    "plt.title('previous_year_rating')"
   ]
  },
  {
   "cell_type": "code",
   "execution_count": 324,
   "metadata": {},
   "outputs": [
    {
     "data": {
      "text/plain": [
       "<matplotlib.axes._subplots.AxesSubplot at 0x25d18f99898>"
      ]
     },
     "execution_count": 324,
     "metadata": {},
     "output_type": "execute_result"
    },
    {
     "data": {
      "text/plain": [
       "Text(0.5,1,'length_of_service')"
      ]
     },
     "execution_count": 324,
     "metadata": {},
     "output_type": "execute_result"
    },
    {
     "data": {
      "image/png": "[encoded data removed]",
      "text/plain": [
       "<Figure size 432x288 with 1 Axes>"
      ]
     },
     "metadata": {},
     "output_type": "display_data"
    }
   ],
   "source": [
    "sns.scatterplot(x=group.index, y=group.is_promoted)\n",
    "plt.title('length_of_service')"
   ]
  },
  {
   "cell_type": "code",
   "execution_count": 25,
   "metadata": {},
   "outputs": [
    {
     "data": {
      "text/html": [
       "<div>\n",
       "<style scoped>\n",
       "    .dataframe tbody tr th:only-of-type {\n",
       "        vertical-align: middle;\n",
       "    }\n",
       "\n",
       "    .dataframe tbody tr th {\n",
       "        vertical-align: top;\n",
       "    }\n",
       "\n",
       "    .dataframe thead th {\n",
       "        text-align: right;\n",
       "    }\n",
       "</style>\n",
       "<table border=\"1\" class=\"dataframe\">\n",
       "  <thead>\n",
       "    <tr style=\"text-align: right;\">\n",
       "      <th></th>\n",
       "      <th></th>\n",
       "      <th>age</th>\n",
       "      <th>avg_training_score</th>\n",
       "      <th>awards_won?</th>\n",
       "      <th>employee_id</th>\n",
       "      <th>index</th>\n",
       "      <th>is_promoted</th>\n",
       "      <th>length_of_service</th>\n",
       "      <th>no_of_trainings</th>\n",
       "      <th>previous_year_rating</th>\n",
       "    </tr>\n",
       "    <tr>\n",
       "      <th>department</th>\n",
       "      <th>KPIs_met &gt;80%</th>\n",
       "      <th></th>\n",
       "      <th></th>\n",
       "      <th></th>\n",
       "      <th></th>\n",
       "      <th></th>\n",
       "      <th></th>\n",
       "      <th></th>\n",
       "      <th></th>\n",
       "      <th></th>\n",
       "    </tr>\n",
       "  </thead>\n",
       "  <tbody>\n",
       "    <tr>\n",
       "      <th rowspan=\"2\" valign=\"top\">Analytics</th>\n",
       "      <th>0</th>\n",
       "      <td>32.567928</td>\n",
       "      <td>84.525924</td>\n",
       "      <td>0.012689</td>\n",
       "      <td>39445.965434</td>\n",
       "      <td>22789.311967</td>\n",
       "      <td>0.049232</td>\n",
       "      <td>5.103478</td>\n",
       "      <td>1.333844</td>\n",
       "      <td>3.246524</td>\n",
       "    </tr>\n",
       "    <tr>\n",
       "      <th>1</th>\n",
       "      <td>32.172258</td>\n",
       "      <td>84.670323</td>\n",
       "      <td>0.043226</td>\n",
       "      <td>38533.986452</td>\n",
       "      <td>22331.120000</td>\n",
       "      <td>0.164124</td>\n",
       "      <td>4.699032</td>\n",
       "      <td>1.351613</td>\n",
       "      <td>3.950653</td>\n",
       "    </tr>\n",
       "    <tr>\n",
       "      <th rowspan=\"2\" valign=\"top\">Finance</th>\n",
       "      <th>0</th>\n",
       "      <td>32.680672</td>\n",
       "      <td>60.315126</td>\n",
       "      <td>0.014472</td>\n",
       "      <td>40109.045285</td>\n",
       "      <td>22571.762838</td>\n",
       "      <td>0.051213</td>\n",
       "      <td>5.179272</td>\n",
       "      <td>1.324930</td>\n",
       "      <td>3.188030</td>\n",
       "    </tr>\n",
       "    <tr>\n",
       "      <th>1</th>\n",
       "      <td>31.464646</td>\n",
       "      <td>60.161616</td>\n",
       "      <td>0.038384</td>\n",
       "      <td>39822.572391</td>\n",
       "      <td>23217.795286</td>\n",
       "      <td>0.123574</td>\n",
       "      <td>4.437037</td>\n",
       "      <td>1.280808</td>\n",
       "      <td>3.940389</td>\n",
       "    </tr>\n",
       "    <tr>\n",
       "      <th rowspan=\"2\" valign=\"top\">HR</th>\n",
       "      <th>0</th>\n",
       "      <td>34.825130</td>\n",
       "      <td>50.002159</td>\n",
       "      <td>0.007772</td>\n",
       "      <td>40202.683074</td>\n",
       "      <td>22470.957686</td>\n",
       "      <td>0.025466</td>\n",
       "      <td>6.000000</td>\n",
       "      <td>1.068221</td>\n",
       "      <td>3.221255</td>\n",
       "    </tr>\n",
       "    <tr>\n",
       "      <th>1</th>\n",
       "      <td>33.441449</td>\n",
       "      <td>50.312553</td>\n",
       "      <td>0.041281</td>\n",
       "      <td>39313.392586</td>\n",
       "      <td>21919.887953</td>\n",
       "      <td>0.117574</td>\n",
       "      <td>5.014322</td>\n",
       "      <td>1.036226</td>\n",
       "      <td>3.985834</td>\n",
       "    </tr>\n",
       "    <tr>\n",
       "      <th rowspan=\"2\" valign=\"top\">Legal</th>\n",
       "      <th>0</th>\n",
       "      <td>34.286294</td>\n",
       "      <td>59.835533</td>\n",
       "      <td>0.010152</td>\n",
       "      <td>37520.428426</td>\n",
       "      <td>22449.433503</td>\n",
       "      <td>0.020231</td>\n",
       "      <td>4.805076</td>\n",
       "      <td>1.083249</td>\n",
       "      <td>3.165657</td>\n",
       "    </tr>\n",
       "    <tr>\n",
       "      <th>1</th>\n",
       "      <td>32.895792</td>\n",
       "      <td>59.671343</td>\n",
       "      <td>0.044088</td>\n",
       "      <td>38842.436874</td>\n",
       "      <td>21234.326653</td>\n",
       "      <td>0.112392</td>\n",
       "      <td>4.196393</td>\n",
       "      <td>1.090180</td>\n",
       "      <td>3.882914</td>\n",
       "    </tr>\n",
       "    <tr>\n",
       "      <th rowspan=\"2\" valign=\"top\">Operations</th>\n",
       "      <th>0</th>\n",
       "      <td>36.092446</td>\n",
       "      <td>60.299297</td>\n",
       "      <td>0.013944</td>\n",
       "      <td>39310.150527</td>\n",
       "      <td>22893.293259</td>\n",
       "      <td>0.050310</td>\n",
       "      <td>6.627251</td>\n",
       "      <td>1.148221</td>\n",
       "      <td>3.317058</td>\n",
       "    </tr>\n",
       "    <tr>\n",
       "      <th>1</th>\n",
       "      <td>36.074101</td>\n",
       "      <td>60.182610</td>\n",
       "      <td>0.034837</td>\n",
       "      <td>38815.680040</td>\n",
       "      <td>22948.158909</td>\n",
       "      <td>0.142799</td>\n",
       "      <td>6.140491</td>\n",
       "      <td>1.186608</td>\n",
       "      <td>4.022460</td>\n",
       "    </tr>\n",
       "    <tr>\n",
       "      <th rowspan=\"2\" valign=\"top\">Procurement</th>\n",
       "      <th>0</th>\n",
       "      <td>36.029416</td>\n",
       "      <td>70.133797</td>\n",
       "      <td>0.013285</td>\n",
       "      <td>38991.541673</td>\n",
       "      <td>22760.490906</td>\n",
       "      <td>0.042314</td>\n",
       "      <td>6.559386</td>\n",
       "      <td>1.383362</td>\n",
       "      <td>2.916691</td>\n",
       "    </tr>\n",
       "    <tr>\n",
       "      <th>1</th>\n",
       "      <td>35.868318</td>\n",
       "      <td>70.122295</td>\n",
       "      <td>0.042243</td>\n",
       "      <td>39304.504042</td>\n",
       "      <td>22739.370013</td>\n",
       "      <td>0.185529</td>\n",
       "      <td>5.881877</td>\n",
       "      <td>1.236767</td>\n",
       "      <td>3.908148</td>\n",
       "    </tr>\n",
       "    <tr>\n",
       "      <th rowspan=\"2\" valign=\"top\">R&amp;D</th>\n",
       "      <th>0</th>\n",
       "      <td>32.692400</td>\n",
       "      <td>84.529554</td>\n",
       "      <td>0.008444</td>\n",
       "      <td>38124.165259</td>\n",
       "      <td>22461.407720</td>\n",
       "      <td>0.032590</td>\n",
       "      <td>4.636912</td>\n",
       "      <td>1.398070</td>\n",
       "      <td>3.194902</td>\n",
       "    </tr>\n",
       "    <tr>\n",
       "      <th>1</th>\n",
       "      <td>33.031148</td>\n",
       "      <td>84.555738</td>\n",
       "      <td>0.039344</td>\n",
       "      <td>39362.867213</td>\n",
       "      <td>21992.785246</td>\n",
       "      <td>0.120192</td>\n",
       "      <td>4.583607</td>\n",
       "      <td>1.372131</td>\n",
       "      <td>4.080246</td>\n",
       "    </tr>\n",
       "    <tr>\n",
       "      <th rowspan=\"2\" valign=\"top\">Sales &amp; Marketing</th>\n",
       "      <th>0</th>\n",
       "      <td>34.913917</td>\n",
       "      <td>49.954949</td>\n",
       "      <td>0.010470</td>\n",
       "      <td>38968.900730</td>\n",
       "      <td>22866.696078</td>\n",
       "      <td>0.028523</td>\n",
       "      <td>6.116985</td>\n",
       "      <td>1.313430</td>\n",
       "      <td>2.874872</td>\n",
       "    </tr>\n",
       "    <tr>\n",
       "      <th>1</th>\n",
       "      <td>34.495683</td>\n",
       "      <td>50.899167</td>\n",
       "      <td>0.050725</td>\n",
       "      <td>39777.701511</td>\n",
       "      <td>22401.144157</td>\n",
       "      <td>0.192652</td>\n",
       "      <td>5.204286</td>\n",
       "      <td>1.168979</td>\n",
       "      <td>3.695204</td>\n",
       "    </tr>\n",
       "    <tr>\n",
       "      <th rowspan=\"2\" valign=\"top\">Technology</th>\n",
       "      <th>0</th>\n",
       "      <td>35.219894</td>\n",
       "      <td>79.872042</td>\n",
       "      <td>0.012359</td>\n",
       "      <td>39032.595931</td>\n",
       "      <td>22587.006179</td>\n",
       "      <td>0.049786</td>\n",
       "      <td>6.239789</td>\n",
       "      <td>1.257573</td>\n",
       "      <td>2.844985</td>\n",
       "    </tr>\n",
       "    <tr>\n",
       "      <th>1</th>\n",
       "      <td>34.259533</td>\n",
       "      <td>79.977234</td>\n",
       "      <td>0.051793</td>\n",
       "      <td>38726.460159</td>\n",
       "      <td>22546.401252</td>\n",
       "      <td>0.217657</td>\n",
       "      <td>5.245304</td>\n",
       "      <td>1.254126</td>\n",
       "      <td>3.784664</td>\n",
       "    </tr>\n",
       "  </tbody>\n",
       "</table>\n",
       "</div>"
      ],
      "text/plain": [
       "                                       age  avg_training_score  awards_won?  \\\n",
       "department        KPIs_met >80%                                               \n",
       "Analytics         0              32.567928           84.525924     0.012689   \n",
       "                  1              32.172258           84.670323     0.043226   \n",
       "Finance           0              32.680672           60.315126     0.014472   \n",
       "                  1              31.464646           60.161616     0.038384   \n",
       "HR                0              34.825130           50.002159     0.007772   \n",
       "                  1              33.441449           50.312553     0.041281   \n",
       "Legal             0              34.286294           59.835533     0.010152   \n",
       "                  1              32.895792           59.671343     0.044088   \n",
       "Operations        0              36.092446           60.299297     0.013944   \n",
       "                  1              36.074101           60.182610     0.034837   \n",
       "Procurement       0              36.029416           70.133797     0.013285   \n",
       "                  1              35.868318           70.122295     0.042243   \n",
       "R&D               0              32.692400           84.529554     0.008444   \n",
       "                  1              33.031148           84.555738     0.039344   \n",
       "Sales & Marketing 0              34.913917           49.954949     0.010470   \n",
       "                  1              34.495683           50.899167     0.050725   \n",
       "Technology        0              35.219894           79.872042     0.012359   \n",
       "                  1              34.259533           79.977234     0.051793   \n",
       "\n",
       "                                  employee_id         index  is_promoted  \\\n",
       "department        KPIs_met >80%                                            \n",
       "Analytics         0              39445.965434  22789.311967     0.049232   \n",
       "                  1              38533.986452  22331.120000     0.164124   \n",
       "Finance           0              40109.045285  22571.762838     0.051213   \n",
       "                  1              39822.572391  23217.795286     0.123574   \n",
       "HR                0              40202.683074  22470.957686     0.025466   \n",
       "                  1              39313.392586  21919.887953     0.117574   \n",
       "Legal             0              37520.428426  22449.433503     0.020231   \n",
       "                  1              38842.436874  21234.326653     0.112392   \n",
       "Operations        0              39310.150527  22893.293259     0.050310   \n",
       "                  1              38815.680040  22948.158909     0.142799   \n",
       "Procurement       0              38991.541673  22760.490906     0.042314   \n",
       "                  1              39304.504042  22739.370013     0.185529   \n",
       "R&D               0              38124.165259  22461.407720     0.032590   \n",
       "                  1              39362.867213  21992.785246     0.120192   \n",
       "Sales & Marketing 0              38968.900730  22866.696078     0.028523   \n",
       "                  1              39777.701511  22401.144157     0.192652   \n",
       "Technology        0              39032.595931  22587.006179     0.049786   \n",
       "                  1              38726.460159  22546.401252     0.217657   \n",
       "\n",
       "                                 length_of_service  no_of_trainings  \\\n",
       "department        KPIs_met >80%                                       \n",
       "Analytics         0                       5.103478         1.333844   \n",
       "                  1                       4.699032         1.351613   \n",
       "Finance           0                       5.179272         1.324930   \n",
       "                  1                       4.437037         1.280808   \n",
       "HR                0                       6.000000         1.068221   \n",
       "                  1                       5.014322         1.036226   \n",
       "Legal             0                       4.805076         1.083249   \n",
       "                  1                       4.196393         1.090180   \n",
       "Operations        0                       6.627251         1.148221   \n",
       "                  1                       6.140491         1.186608   \n",
       "Procurement       0                       6.559386         1.383362   \n",
       "                  1                       5.881877         1.236767   \n",
       "R&D               0                       4.636912         1.398070   \n",
       "                  1                       4.583607         1.372131   \n",
       "Sales & Marketing 0                       6.116985         1.313430   \n",
       "                  1                       5.204286         1.168979   \n",
       "Technology        0                       6.239789         1.257573   \n",
       "                  1                       5.245304         1.254126   \n",
       "\n",
       "                                 previous_year_rating  \n",
       "department        KPIs_met >80%                        \n",
       "Analytics         0                          3.246524  \n",
       "                  1                          3.950653  \n",
       "Finance           0                          3.188030  \n",
       "                  1                          3.940389  \n",
       "HR                0                          3.221255  \n",
       "                  1                          3.985834  \n",
       "Legal             0                          3.165657  \n",
       "                  1                          3.882914  \n",
       "Operations        0                          3.317058  \n",
       "                  1                          4.022460  \n",
       "Procurement       0                          2.916691  \n",
       "                  1                          3.908148  \n",
       "R&D               0                          3.194902  \n",
       "                  1                          4.080246  \n",
       "Sales & Marketing 0                          2.874872  \n",
       "                  1                          3.695204  \n",
       "Technology        0                          2.844985  \n",
       "                  1                          3.784664  "
      ]
     },
     "execution_count": 25,
     "metadata": {},
     "output_type": "execute_result"
    }
   ],
   "source": [
    "group = total.groupby(['department','KPIs_met >80%']).mean()\n",
    "group"
   ]
  },
  {
   "cell_type": "code",
   "execution_count": 289,
   "metadata": {},
   "outputs": [],
   "source": [
    "from pandas.plotting import scatter_matrix"
   ]
  },
  {
   "cell_type": "markdown",
   "metadata": {},
   "source": [
    "Let's one hot encode the categorical variables. The necessary ones."
   ]
  },
  {
   "cell_type": "code",
   "execution_count": 245,
   "metadata": {},
   "outputs": [
    {
     "data": {
      "text/plain": [
       "<matplotlib.axes._subplots.AxesSubplot at 0x25d0ab84550>"
      ]
     },
     "execution_count": 245,
     "metadata": {},
     "output_type": "execute_result"
    },
    {
     "data": {
      "image/png": "[encoded data removed]",
      "text/plain": [
       "<Figure size 432x288 with 1 Axes>"
      ]
     },
     "metadata": {},
     "output_type": "display_data"
    }
   ],
   "source": [
    "sns.countplot(data=train, x='department', hue='is_promoted')\n",
    "plt.tick_params(labelrotation=45)"
   ]
  },
  {
   "cell_type": "markdown",
   "metadata": {},
   "source": [
    "So, we can simply one hot encode this column for now."
   ]
  },
  {
   "cell_type": "code",
   "execution_count": 246,
   "metadata": {},
   "outputs": [],
   "source": [
    "total = pd.get_dummies(data=total, columns=['department'])"
   ]
  },
  {
   "cell_type": "code",
   "execution_count": 247,
   "metadata": {},
   "outputs": [
    {
     "data": {
      "text/html": [
       "<div>\n",
       "<style scoped>\n",
       "    .dataframe tbody tr th:only-of-type {\n",
       "        vertical-align: middle;\n",
       "    }\n",
       "\n",
       "    .dataframe tbody tr th {\n",
       "        vertical-align: top;\n",
       "    }\n",
       "\n",
       "    .dataframe thead th {\n",
       "        text-align: right;\n",
       "    }\n",
       "</style>\n",
       "<table border=\"1\" class=\"dataframe\">\n",
       "  <thead>\n",
       "    <tr style=\"text-align: right;\">\n",
       "      <th></th>\n",
       "      <th>KPIs_met &gt;80%</th>\n",
       "      <th>age</th>\n",
       "      <th>avg_training_score</th>\n",
       "      <th>awards_won?</th>\n",
       "      <th>education</th>\n",
       "      <th>employee_id</th>\n",
       "      <th>gender</th>\n",
       "      <th>index</th>\n",
       "      <th>is_promoted</th>\n",
       "      <th>length_of_service</th>\n",
       "      <th>...</th>\n",
       "      <th>region</th>\n",
       "      <th>department_Analytics</th>\n",
       "      <th>department_Finance</th>\n",
       "      <th>department_HR</th>\n",
       "      <th>department_Legal</th>\n",
       "      <th>department_Operations</th>\n",
       "      <th>department_Procurement</th>\n",
       "      <th>department_R&amp;D</th>\n",
       "      <th>department_Sales &amp; Marketing</th>\n",
       "      <th>department_Technology</th>\n",
       "    </tr>\n",
       "  </thead>\n",
       "  <tbody>\n",
       "    <tr>\n",
       "      <th>0</th>\n",
       "      <td>1</td>\n",
       "      <td>35</td>\n",
       "      <td>49</td>\n",
       "      <td>0</td>\n",
       "      <td>Master's &amp; above</td>\n",
       "      <td>65438</td>\n",
       "      <td>f</td>\n",
       "      <td>0</td>\n",
       "      <td>0.0</td>\n",
       "      <td>8</td>\n",
       "      <td>...</td>\n",
       "      <td>region_7</td>\n",
       "      <td>0</td>\n",
       "      <td>0</td>\n",
       "      <td>0</td>\n",
       "      <td>0</td>\n",
       "      <td>0</td>\n",
       "      <td>0</td>\n",
       "      <td>0</td>\n",
       "      <td>1</td>\n",
       "      <td>0</td>\n",
       "    </tr>\n",
       "    <tr>\n",
       "      <th>1</th>\n",
       "      <td>0</td>\n",
       "      <td>30</td>\n",
       "      <td>60</td>\n",
       "      <td>0</td>\n",
       "      <td>Bachelor's</td>\n",
       "      <td>65141</td>\n",
       "      <td>m</td>\n",
       "      <td>1</td>\n",
       "      <td>0.0</td>\n",
       "      <td>4</td>\n",
       "      <td>...</td>\n",
       "      <td>region_22</td>\n",
       "      <td>0</td>\n",
       "      <td>0</td>\n",
       "      <td>0</td>\n",
       "      <td>0</td>\n",
       "      <td>1</td>\n",
       "      <td>0</td>\n",
       "      <td>0</td>\n",
       "      <td>0</td>\n",
       "      <td>0</td>\n",
       "    </tr>\n",
       "    <tr>\n",
       "      <th>2</th>\n",
       "      <td>0</td>\n",
       "      <td>34</td>\n",
       "      <td>50</td>\n",
       "      <td>0</td>\n",
       "      <td>Bachelor's</td>\n",
       "      <td>7513</td>\n",
       "      <td>m</td>\n",
       "      <td>2</td>\n",
       "      <td>0.0</td>\n",
       "      <td>7</td>\n",
       "      <td>...</td>\n",
       "      <td>region_19</td>\n",
       "      <td>0</td>\n",
       "      <td>0</td>\n",
       "      <td>0</td>\n",
       "      <td>0</td>\n",
       "      <td>0</td>\n",
       "      <td>0</td>\n",
       "      <td>0</td>\n",
       "      <td>1</td>\n",
       "      <td>0</td>\n",
       "    </tr>\n",
       "    <tr>\n",
       "      <th>3</th>\n",
       "      <td>0</td>\n",
       "      <td>39</td>\n",
       "      <td>50</td>\n",
       "      <td>0</td>\n",
       "      <td>Bachelor's</td>\n",
       "      <td>2542</td>\n",
       "      <td>m</td>\n",
       "      <td>3</td>\n",
       "      <td>0.0</td>\n",
       "      <td>10</td>\n",
       "      <td>...</td>\n",
       "      <td>region_23</td>\n",
       "      <td>0</td>\n",
       "      <td>0</td>\n",
       "      <td>0</td>\n",
       "      <td>0</td>\n",
       "      <td>0</td>\n",
       "      <td>0</td>\n",
       "      <td>0</td>\n",
       "      <td>1</td>\n",
       "      <td>0</td>\n",
       "    </tr>\n",
       "    <tr>\n",
       "      <th>4</th>\n",
       "      <td>0</td>\n",
       "      <td>45</td>\n",
       "      <td>73</td>\n",
       "      <td>0</td>\n",
       "      <td>Bachelor's</td>\n",
       "      <td>48945</td>\n",
       "      <td>m</td>\n",
       "      <td>4</td>\n",
       "      <td>0.0</td>\n",
       "      <td>2</td>\n",
       "      <td>...</td>\n",
       "      <td>region_26</td>\n",
       "      <td>0</td>\n",
       "      <td>0</td>\n",
       "      <td>0</td>\n",
       "      <td>0</td>\n",
       "      <td>0</td>\n",
       "      <td>0</td>\n",
       "      <td>0</td>\n",
       "      <td>0</td>\n",
       "      <td>1</td>\n",
       "    </tr>\n",
       "  </tbody>\n",
       "</table>\n",
       "<p>5 rows × 23 columns</p>\n",
       "</div>"
      ],
      "text/plain": [
       "   KPIs_met >80%  age  avg_training_score  awards_won?         education  \\\n",
       "0              1   35                  49            0  Master's & above   \n",
       "1              0   30                  60            0        Bachelor's   \n",
       "2              0   34                  50            0        Bachelor's   \n",
       "3              0   39                  50            0        Bachelor's   \n",
       "4              0   45                  73            0        Bachelor's   \n",
       "\n",
       "   employee_id gender  index  is_promoted  length_of_service  \\\n",
       "0        65438      f      0          0.0                  8   \n",
       "1        65141      m      1          0.0                  4   \n",
       "2         7513      m      2          0.0                  7   \n",
       "3         2542      m      3          0.0                 10   \n",
       "4        48945      m      4          0.0                  2   \n",
       "\n",
       "           ...               region  department_Analytics department_Finance  \\\n",
       "0          ...             region_7                     0                  0   \n",
       "1          ...            region_22                     0                  0   \n",
       "2          ...            region_19                     0                  0   \n",
       "3          ...            region_23                     0                  0   \n",
       "4          ...            region_26                     0                  0   \n",
       "\n",
       "  department_HR  department_Legal  department_Operations  \\\n",
       "0             0                 0                      0   \n",
       "1             0                 0                      1   \n",
       "2             0                 0                      0   \n",
       "3             0                 0                      0   \n",
       "4             0                 0                      0   \n",
       "\n",
       "   department_Procurement  department_R&D  department_Sales & Marketing  \\\n",
       "0                       0               0                             1   \n",
       "1                       0               0                             0   \n",
       "2                       0               0                             1   \n",
       "3                       0               0                             1   \n",
       "4                       0               0                             0   \n",
       "\n",
       "   department_Technology  \n",
       "0                      0  \n",
       "1                      0  \n",
       "2                      0  \n",
       "3                      0  \n",
       "4                      1  \n",
       "\n",
       "[5 rows x 23 columns]"
      ]
     },
     "execution_count": 247,
     "metadata": {},
     "output_type": "execute_result"
    }
   ],
   "source": [
    "total.head()"
   ]
  },
  {
   "cell_type": "code",
   "execution_count": 248,
   "metadata": {},
   "outputs": [],
   "source": [
    "# Gender key: 0 = male, 1 = female\n",
    "total['gender'] = total['gender'].replace({'m':0, 'f':1})\n"
   ]
  },
  {
   "cell_type": "code",
   "execution_count": 249,
   "metadata": {},
   "outputs": [
    {
     "data": {
      "text/plain": [
       "<matplotlib.axes._subplots.AxesSubplot at 0x25d0372cd68>"
      ]
     },
     "execution_count": 249,
     "metadata": {},
     "output_type": "execute_result"
    },
    {
     "data": {
      "image/png": "[encoded data removed]",
      "text/plain": [
       "<Figure size 432x288 with 1 Axes>"
      ]
     },
     "metadata": {},
     "output_type": "display_data"
    }
   ],
   "source": [
    "sns.countplot(data=train, x='length_of_service', hue='is_promoted')"
   ]
  },
  {
   "cell_type": "code",
   "execution_count": null,
   "metadata": {},
   "outputs": [],
   "source": []
  },
  {
   "cell_type": "markdown",
   "metadata": {},
   "source": [
    "Can, or cannot be a feature. Will have to experiment further. However, we can create a binned column for further study."
   ]
  },
  {
   "cell_type": "code",
   "execution_count": 250,
   "metadata": {},
   "outputs": [],
   "source": [
    "total['length_of_service_grouped'] = pd.cut(total.length_of_service, bins=[0, 7, 10, 40],labels=[1, 2, 3])"
   ]
  },
  {
   "cell_type": "code",
   "execution_count": 251,
   "metadata": {},
   "outputs": [
    {
     "data": {
      "text/plain": [
       "<matplotlib.axes._subplots.AxesSubplot at 0x25d034a4da0>"
      ]
     },
     "execution_count": 251,
     "metadata": {},
     "output_type": "execute_result"
    },
    {
     "data": {
      "image/png": "[encoded data removed]",
      "text/plain": [
       "<Figure size 432x288 with 1 Axes>"
      ]
     },
     "metadata": {},
     "output_type": "display_data"
    }
   ],
   "source": [
    "sns.countplot(data=train, x='no_of_trainings', hue='is_promoted')"
   ]
  },
  {
   "cell_type": "markdown",
   "metadata": {},
   "source": [
    "Can't decide. Bin it and keep it for further experimentation."
   ]
  },
  {
   "cell_type": "code",
   "execution_count": 252,
   "metadata": {},
   "outputs": [],
   "source": [
    "total['no_of_trainings_grouped'] = pd.cut(total.no_of_trainings, bins=[0,2,11], labels=[1, 2])"
   ]
  },
  {
   "cell_type": "code",
   "execution_count": 253,
   "metadata": {},
   "outputs": [
    {
     "data": {
      "text/plain": [
       "<matplotlib.axes._subplots.AxesSubplot at 0x25d03554320>"
      ]
     },
     "execution_count": 253,
     "metadata": {},
     "output_type": "execute_result"
    },
    {
     "data": {
      "image/png": "[encoded data removed]",
      "text/plain": [
       "<Figure size 432x288 with 1 Axes>"
      ]
     },
     "metadata": {},
     "output_type": "display_data"
    }
   ],
   "source": [
    "sns.countplot(data=train, x='age',hue='is_promoted')"
   ]
  },
  {
   "cell_type": "markdown",
   "metadata": {},
   "source": [
    "Could bin it later, currently keeping it as a continuous feature."
   ]
  },
  {
   "cell_type": "code",
   "execution_count": 254,
   "metadata": {},
   "outputs": [
    {
     "data": {
      "text/plain": [
       "<matplotlib.axes._subplots.AxesSubplot at 0x25d05b37cf8>"
      ]
     },
     "execution_count": 254,
     "metadata": {},
     "output_type": "execute_result"
    },
    {
     "data": {
      "image/png": "[encoded data removed]",
      "text/plain": [
       "<Figure size 432x288 with 1 Axes>"
      ]
     },
     "metadata": {},
     "output_type": "display_data"
    }
   ],
   "source": [
    "sns.countplot(data=train, x='recruitment_channel',hue='is_promoted')"
   ]
  },
  {
   "cell_type": "code",
   "execution_count": 255,
   "metadata": {},
   "outputs": [],
   "source": [
    "total = pd.get_dummies(data=total, columns=['recruitment_channel'])"
   ]
  },
  {
   "cell_type": "code",
   "execution_count": 256,
   "metadata": {},
   "outputs": [
    {
     "data": {
      "text/plain": [
       "<matplotlib.axes._subplots.AxesSubplot at 0x25d0a93ea20>"
      ]
     },
     "execution_count": 256,
     "metadata": {},
     "output_type": "execute_result"
    },
    {
     "data": {
      "image/png": "[encoded data removed]",
      "text/plain": [
       "<Figure size 432x288 with 1 Axes>"
      ]
     },
     "metadata": {},
     "output_type": "display_data"
    }
   ],
   "source": [
    "sns.countplot(data=train, x='region',hue='is_promoted')"
   ]
  },
  {
   "cell_type": "markdown",
   "metadata": {},
   "source": [
    "We leave region for now. Untouched."
   ]
  },
  {
   "cell_type": "markdown",
   "metadata": {},
   "source": [
    "Let's focus on the missing values columns now."
   ]
  },
  {
   "cell_type": "code",
   "execution_count": 257,
   "metadata": {},
   "outputs": [
    {
     "data": {
      "text/plain": [
       "array([\"Master's & above\", \"Bachelor's\", nan, 'Below Secondary'],\n",
       "      dtype=object)"
      ]
     },
     "execution_count": 257,
     "metadata": {},
     "output_type": "execute_result"
    }
   ],
   "source": [
    "total.education.unique()"
   ]
  },
  {
   "cell_type": "code",
   "execution_count": 258,
   "metadata": {},
   "outputs": [
    {
     "data": {
      "text/plain": [
       "<matplotlib.axes._subplots.AxesSubplot at 0x25d0a92ba58>"
      ]
     },
     "execution_count": 258,
     "metadata": {},
     "output_type": "execute_result"
    },
    {
     "data": {
      "image/png": "[encoded data removed]",
      "text/plain": [
       "<Figure size 432x288 with 1 Axes>"
      ]
     },
     "metadata": {},
     "output_type": "display_data"
    }
   ],
   "source": [
    "sns.countplot(data=train, x='education',hue='is_promoted')"
   ]
  },
  {
   "cell_type": "raw",
   "metadata": {},
   "source": [
    "from scipy.stats import f_oneway"
   ]
  },
  {
   "cell_type": "raw",
   "metadata": {},
   "source": [
    "anova_data = total.dropna()"
   ]
  },
  {
   "cell_type": "raw",
   "metadata": {},
   "source": [
    "features = []"
   ]
  },
  {
   "cell_type": "raw",
   "metadata": {},
   "source": [
    "for feature in total._get_numeric_data().columns:\n",
    "    print(feature)\n",
    "    score = f_oneway(total[total.education == \"Master's & above\"][feature],\n",
    "            total[total.education == \"Bachelor's\"][feature],\n",
    "            total[total.education == \"Below Secondary\"][feature])[1]\n",
    "    if score < 0.0001:\n",
    "        features.append(feature)"
   ]
  },
  {
   "cell_type": "raw",
   "metadata": {},
   "source": [
    "Can plot using the high priority features? Explore."
   ]
  },
  {
   "cell_type": "raw",
   "metadata": {},
   "source": [
    "features"
   ]
  },
  {
   "cell_type": "raw",
   "metadata": {},
   "source": [
    "For now, let's see where do the nans occur."
   ]
  },
  {
   "cell_type": "raw",
   "metadata": {},
   "source": [
    "total[total.education.isna() == True].mean()"
   ]
  },
  {
   "cell_type": "raw",
   "metadata": {},
   "source": [
    "total.mean()"
   ]
  },
  {
   "cell_type": "raw",
   "metadata": {},
   "source": [
    "from sklearn.ensemble import RandomForestClassifier"
   ]
  },
  {
   "cell_type": "raw",
   "metadata": {},
   "source": [
    "from sklearn.model_selection import train_test_split\n",
    "X_train, X_test, y_train, y_test = train_test_split(anova_data[features], anova_data['education'])"
   ]
  },
  {
   "cell_type": "raw",
   "metadata": {},
   "source": [
    "clf = RandomForestClassifier()\n",
    "clf.fit(X_train[features], y_train)\n",
    "preds = clf.predict(X_test)\n",
    "from sklearn.metrics import accuracy_score\n",
    "accuracy_score(y_test, preds)"
   ]
  },
  {
   "cell_type": "raw",
   "metadata": {},
   "source": [
    "We fit the missing values with a predicted set of our own. EDIT: WE CAN'T DO THIS."
   ]
  },
  {
   "cell_type": "code",
   "execution_count": 261,
   "metadata": {},
   "outputs": [
    {
     "data": {
      "text/plain": [
       "<matplotlib.axes._subplots.AxesSubplot at 0x25d0aec5390>"
      ]
     },
     "execution_count": 261,
     "metadata": {},
     "output_type": "execute_result"
    },
    {
     "data": {
      "image/png": "[encoded data removed]",
      "text/plain": [
       "<Figure size 432x288 with 1 Axes>"
      ]
     },
     "metadata": {},
     "output_type": "display_data"
    }
   ],
   "source": [
    "sns.countplot(data=total, x='education', hue='is_promoted')"
   ]
  },
  {
   "cell_type": "markdown",
   "metadata": {},
   "source": [
    "We are now rid of all NaN values."
   ]
  },
  {
   "cell_type": "code",
   "execution_count": 262,
   "metadata": {},
   "outputs": [],
   "source": [
    "total = pd.get_dummies(data=total, columns=['education'])"
   ]
  },
  {
   "cell_type": "code",
   "execution_count": 263,
   "metadata": {},
   "outputs": [],
   "source": [
    "total = pd.get_dummies(data=total, columns=['region'])"
   ]
  },
  {
   "cell_type": "code",
   "execution_count": 264,
   "metadata": {},
   "outputs": [
    {
     "data": {
      "text/plain": [
       "KPIs_met >80%                   78298\n",
       "age                             78298\n",
       "avg_training_score              78298\n",
       "awards_won?                     78298\n",
       "employee_id                     78298\n",
       "gender                          78298\n",
       "index                           78298\n",
       "is_promoted                     54808\n",
       "length_of_service               78298\n",
       "no_of_trainings                 78298\n",
       "previous_year_rating            78298\n",
       "department_Analytics            78298\n",
       "department_Finance              78298\n",
       "department_HR                   78298\n",
       "department_Legal                78298\n",
       "department_Operations           78298\n",
       "department_Procurement          78298\n",
       "department_R&D                  78298\n",
       "department_Sales & Marketing    78298\n",
       "department_Technology           78298\n",
       "length_of_service_grouped       78298\n",
       "no_of_trainings_grouped         78298\n",
       "recruitment_channel_other       78298\n",
       "recruitment_channel_referred    78298\n",
       "recruitment_channel_sourcing    78298\n",
       "education_Bachelor's            78298\n",
       "education_Below Secondary       78298\n",
       "education_Master's & above      78298\n",
       "education_Unknown               78298\n",
       "region_region_1                 78298\n",
       "                                ...  \n",
       "region_region_13                78298\n",
       "region_region_14                78298\n",
       "region_region_15                78298\n",
       "region_region_16                78298\n",
       "region_region_17                78298\n",
       "region_region_18                78298\n",
       "region_region_19                78298\n",
       "region_region_2                 78298\n",
       "region_region_20                78298\n",
       "region_region_21                78298\n",
       "region_region_22                78298\n",
       "region_region_23                78298\n",
       "region_region_24                78298\n",
       "region_region_25                78298\n",
       "region_region_26                78298\n",
       "region_region_27                78298\n",
       "region_region_28                78298\n",
       "region_region_29                78298\n",
       "region_region_3                 78298\n",
       "region_region_30                78298\n",
       "region_region_31                78298\n",
       "region_region_32                78298\n",
       "region_region_33                78298\n",
       "region_region_34                78298\n",
       "region_region_4                 78298\n",
       "region_region_5                 78298\n",
       "region_region_6                 78298\n",
       "region_region_7                 78298\n",
       "region_region_8                 78298\n",
       "region_region_9                 78298\n",
       "Length: 63, dtype: int64"
      ]
     },
     "execution_count": 264,
     "metadata": {},
     "output_type": "execute_result"
    }
   ],
   "source": [
    "total.count()"
   ]
  },
  {
   "cell_type": "markdown",
   "metadata": {},
   "source": [
    "# Feature engineering, if we can"
   ]
  },
  {
   "cell_type": "code",
   "execution_count": 57,
   "metadata": {},
   "outputs": [
    {
     "data": {
      "text/plain": [
       "Index(['KPIs_met >80%', 'age', 'avg_training_score', 'awards_won?',\n",
       "       'department', 'education', 'employee_id', 'gender', 'index',\n",
       "       'is_promoted', 'length_of_service', 'no_of_trainings',\n",
       "       'previous_year_rating', 'recruitment_channel', 'region'],\n",
       "      dtype='object')"
      ]
     },
     "execution_count": 57,
     "metadata": {},
     "output_type": "execute_result"
    }
   ],
   "source": [
    "total.columns"
   ]
  },
  {
   "cell_type": "code",
   "execution_count": 29,
   "metadata": {},
   "outputs": [],
   "source": [
    "total['avg_training_score_grouped'] = pd.cut(total.avg_training_score, bins=[0,90,101], labels=[0,1])"
   ]
  },
  {
   "cell_type": "code",
   "execution_count": 30,
   "metadata": {},
   "outputs": [
    {
     "data": {
      "text/html": [
       "<div>\n",
       "<style scoped>\n",
       "    .dataframe tbody tr th:only-of-type {\n",
       "        vertical-align: middle;\n",
       "    }\n",
       "\n",
       "    .dataframe tbody tr th {\n",
       "        vertical-align: top;\n",
       "    }\n",
       "\n",
       "    .dataframe thead th {\n",
       "        text-align: right;\n",
       "    }\n",
       "</style>\n",
       "<table border=\"1\" class=\"dataframe\">\n",
       "  <thead>\n",
       "    <tr style=\"text-align: right;\">\n",
       "      <th></th>\n",
       "      <th>KPIs_met &gt;80%</th>\n",
       "      <th>age</th>\n",
       "      <th>avg_training_score</th>\n",
       "      <th>awards_won?</th>\n",
       "      <th>department</th>\n",
       "      <th>education</th>\n",
       "      <th>employee_id</th>\n",
       "      <th>gender</th>\n",
       "      <th>index</th>\n",
       "      <th>is_promoted</th>\n",
       "      <th>length_of_service</th>\n",
       "      <th>no_of_trainings</th>\n",
       "      <th>previous_year_rating</th>\n",
       "      <th>recruitment_channel</th>\n",
       "      <th>region</th>\n",
       "      <th>avg_training_score_grouped</th>\n",
       "    </tr>\n",
       "  </thead>\n",
       "  <tbody>\n",
       "    <tr>\n",
       "      <th>0</th>\n",
       "      <td>1</td>\n",
       "      <td>35</td>\n",
       "      <td>49</td>\n",
       "      <td>0</td>\n",
       "      <td>Sales &amp; Marketing</td>\n",
       "      <td>Master's &amp; above</td>\n",
       "      <td>65438</td>\n",
       "      <td>f</td>\n",
       "      <td>0</td>\n",
       "      <td>0.0</td>\n",
       "      <td>8</td>\n",
       "      <td>1</td>\n",
       "      <td>5.0</td>\n",
       "      <td>sourcing</td>\n",
       "      <td>region_7</td>\n",
       "      <td>0</td>\n",
       "    </tr>\n",
       "    <tr>\n",
       "      <th>1</th>\n",
       "      <td>0</td>\n",
       "      <td>30</td>\n",
       "      <td>60</td>\n",
       "      <td>0</td>\n",
       "      <td>Operations</td>\n",
       "      <td>Bachelor's</td>\n",
       "      <td>65141</td>\n",
       "      <td>m</td>\n",
       "      <td>1</td>\n",
       "      <td>0.0</td>\n",
       "      <td>4</td>\n",
       "      <td>1</td>\n",
       "      <td>5.0</td>\n",
       "      <td>other</td>\n",
       "      <td>region_22</td>\n",
       "      <td>0</td>\n",
       "    </tr>\n",
       "    <tr>\n",
       "      <th>2</th>\n",
       "      <td>0</td>\n",
       "      <td>34</td>\n",
       "      <td>50</td>\n",
       "      <td>0</td>\n",
       "      <td>Sales &amp; Marketing</td>\n",
       "      <td>Bachelor's</td>\n",
       "      <td>7513</td>\n",
       "      <td>m</td>\n",
       "      <td>2</td>\n",
       "      <td>0.0</td>\n",
       "      <td>7</td>\n",
       "      <td>1</td>\n",
       "      <td>3.0</td>\n",
       "      <td>sourcing</td>\n",
       "      <td>region_19</td>\n",
       "      <td>0</td>\n",
       "    </tr>\n",
       "    <tr>\n",
       "      <th>3</th>\n",
       "      <td>0</td>\n",
       "      <td>39</td>\n",
       "      <td>50</td>\n",
       "      <td>0</td>\n",
       "      <td>Sales &amp; Marketing</td>\n",
       "      <td>Bachelor's</td>\n",
       "      <td>2542</td>\n",
       "      <td>m</td>\n",
       "      <td>3</td>\n",
       "      <td>0.0</td>\n",
       "      <td>10</td>\n",
       "      <td>2</td>\n",
       "      <td>1.0</td>\n",
       "      <td>other</td>\n",
       "      <td>region_23</td>\n",
       "      <td>0</td>\n",
       "    </tr>\n",
       "    <tr>\n",
       "      <th>4</th>\n",
       "      <td>0</td>\n",
       "      <td>45</td>\n",
       "      <td>73</td>\n",
       "      <td>0</td>\n",
       "      <td>Technology</td>\n",
       "      <td>Bachelor's</td>\n",
       "      <td>48945</td>\n",
       "      <td>m</td>\n",
       "      <td>4</td>\n",
       "      <td>0.0</td>\n",
       "      <td>2</td>\n",
       "      <td>1</td>\n",
       "      <td>3.0</td>\n",
       "      <td>other</td>\n",
       "      <td>region_26</td>\n",
       "      <td>0</td>\n",
       "    </tr>\n",
       "  </tbody>\n",
       "</table>\n",
       "</div>"
      ],
      "text/plain": [
       "   KPIs_met >80%  age  avg_training_score  awards_won?         department  \\\n",
       "0              1   35                  49            0  Sales & Marketing   \n",
       "1              0   30                  60            0         Operations   \n",
       "2              0   34                  50            0  Sales & Marketing   \n",
       "3              0   39                  50            0  Sales & Marketing   \n",
       "4              0   45                  73            0         Technology   \n",
       "\n",
       "          education  employee_id gender  index  is_promoted  \\\n",
       "0  Master's & above        65438      f      0          0.0   \n",
       "1        Bachelor's        65141      m      1          0.0   \n",
       "2        Bachelor's         7513      m      2          0.0   \n",
       "3        Bachelor's         2542      m      3          0.0   \n",
       "4        Bachelor's        48945      m      4          0.0   \n",
       "\n",
       "   length_of_service  no_of_trainings  previous_year_rating  \\\n",
       "0                  8                1                   5.0   \n",
       "1                  4                1                   5.0   \n",
       "2                  7                1                   3.0   \n",
       "3                 10                2                   1.0   \n",
       "4                  2                1                   3.0   \n",
       "\n",
       "  recruitment_channel     region avg_training_score_grouped  \n",
       "0            sourcing   region_7                          0  \n",
       "1               other  region_22                          0  \n",
       "2            sourcing  region_19                          0  \n",
       "3               other  region_23                          0  \n",
       "4               other  region_26                          0  "
      ]
     },
     "execution_count": 30,
     "metadata": {},
     "output_type": "execute_result"
    }
   ],
   "source": [
    "total.head()"
   ]
  },
  {
   "cell_type": "code",
   "execution_count": 31,
   "metadata": {},
   "outputs": [],
   "source": [
    "total['length_of_service_grouped'] = pd.cut(total.length_of_service, bins=[0,20,200], labels=[0,1])"
   ]
  },
  {
   "cell_type": "code",
   "execution_count": 21,
   "metadata": {},
   "outputs": [
    {
     "data": {
      "text/plain": [
       "<matplotlib.axes._subplots.AxesSubplot at 0x182f231f940>"
      ]
     },
     "execution_count": 21,
     "metadata": {},
     "output_type": "execute_result"
    },
    {
     "data": {
      "image/png": "[encoded data removed]",
      "text/plain": [
       "<Figure size 432x288 with 1 Axes>"
      ]
     },
     "metadata": {},
     "output_type": "display_data"
    }
   ],
   "source": [
    "group = total.groupby('length_of_service').mean()\n",
    "sns.scatterplot(x=group.index, y=group.is_promoted)"
   ]
  },
  {
   "cell_type": "code",
   "execution_count": 52,
   "metadata": {},
   "outputs": [
    {
     "ename": "TypeError",
     "evalue": "Cannot compare types 'ndarray(dtype=int64)' and 'str'",
     "output_type": "error",
     "traceback": [
      "\u001b[1;31m---------------------------------------------------------------------------\u001b[0m",
      "\u001b[1;31mTypeError\u001b[0m                                 Traceback (most recent call last)",
      "\u001b[1;32m<ipython-input-52-0fa68a17569f>\u001b[0m in \u001b[0;36m<module>\u001b[1;34m()\u001b[0m\n\u001b[1;32m----> 1\u001b[1;33m \u001b[0mtotal\u001b[0m\u001b[1;33m.\u001b[0m\u001b[0mgender\u001b[0m\u001b[1;33m.\u001b[0m\u001b[0mreplace\u001b[0m\u001b[1;33m(\u001b[0m\u001b[1;33m{\u001b[0m\u001b[1;34m'm'\u001b[0m\u001b[1;33m:\u001b[0m\u001b[1;36m0\u001b[0m\u001b[1;33m,\u001b[0m\u001b[1;34m'f'\u001b[0m\u001b[1;33m:\u001b[0m\u001b[1;36m1\u001b[0m\u001b[1;33m}\u001b[0m\u001b[1;33m,\u001b[0m\u001b[0minplace\u001b[0m\u001b[1;33m=\u001b[0m\u001b[1;32mTrue\u001b[0m\u001b[1;33m)\u001b[0m\u001b[1;33m\u001b[0m\u001b[0m\n\u001b[0m",
      "\u001b[1;32md:\\desk\\ml\\mlenv64\\lib\\site-packages\\pandas\\core\\series.py\u001b[0m in \u001b[0;36mreplace\u001b[1;34m(self, to_replace, value, inplace, limit, regex, method)\u001b[0m\n\u001b[0;32m   3430\u001b[0m         return super(Series, self).replace(to_replace=to_replace, value=value,\n\u001b[0;32m   3431\u001b[0m                                            \u001b[0minplace\u001b[0m\u001b[1;33m=\u001b[0m\u001b[0minplace\u001b[0m\u001b[1;33m,\u001b[0m \u001b[0mlimit\u001b[0m\u001b[1;33m=\u001b[0m\u001b[0mlimit\u001b[0m\u001b[1;33m,\u001b[0m\u001b[1;33m\u001b[0m\u001b[0m\n\u001b[1;32m-> 3432\u001b[1;33m                                            regex=regex, method=method)\n\u001b[0m\u001b[0;32m   3433\u001b[0m \u001b[1;33m\u001b[0m\u001b[0m\n\u001b[0;32m   3434\u001b[0m     \u001b[1;33m@\u001b[0m\u001b[0mAppender\u001b[0m\u001b[1;33m(\u001b[0m\u001b[0mgeneric\u001b[0m\u001b[1;33m.\u001b[0m\u001b[0m_shared_docs\u001b[0m\u001b[1;33m[\u001b[0m\u001b[1;34m'shift'\u001b[0m\u001b[1;33m]\u001b[0m \u001b[1;33m%\u001b[0m \u001b[0m_shared_doc_kwargs\u001b[0m\u001b[1;33m)\u001b[0m\u001b[1;33m\u001b[0m\u001b[0m\n",
      "\u001b[1;32md:\\desk\\ml\\mlenv64\\lib\\site-packages\\pandas\\core\\generic.py\u001b[0m in \u001b[0;36mreplace\u001b[1;34m(self, to_replace, value, inplace, limit, regex, method)\u001b[0m\n\u001b[0;32m   5800\u001b[0m \u001b[1;33m\u001b[0m\u001b[0m\n\u001b[0;32m   5801\u001b[0m             return self.replace(to_replace, value, inplace=inplace,\n\u001b[1;32m-> 5802\u001b[1;33m                                 limit=limit, regex=regex)\n\u001b[0m\u001b[0;32m   5803\u001b[0m         \u001b[1;32melse\u001b[0m\u001b[1;33m:\u001b[0m\u001b[1;33m\u001b[0m\u001b[0m\n\u001b[0;32m   5804\u001b[0m \u001b[1;33m\u001b[0m\u001b[0m\n",
      "\u001b[1;32md:\\desk\\ml\\mlenv64\\lib\\site-packages\\pandas\\core\\series.py\u001b[0m in \u001b[0;36mreplace\u001b[1;34m(self, to_replace, value, inplace, limit, regex, method)\u001b[0m\n\u001b[0;32m   3430\u001b[0m         return super(Series, self).replace(to_replace=to_replace, value=value,\n\u001b[0;32m   3431\u001b[0m                                            \u001b[0minplace\u001b[0m\u001b[1;33m=\u001b[0m\u001b[0minplace\u001b[0m\u001b[1;33m,\u001b[0m \u001b[0mlimit\u001b[0m\u001b[1;33m=\u001b[0m\u001b[0mlimit\u001b[0m\u001b[1;33m,\u001b[0m\u001b[1;33m\u001b[0m\u001b[0m\n\u001b[1;32m-> 3432\u001b[1;33m                                            regex=regex, method=method)\n\u001b[0m\u001b[0;32m   3433\u001b[0m \u001b[1;33m\u001b[0m\u001b[0m\n\u001b[0;32m   3434\u001b[0m     \u001b[1;33m@\u001b[0m\u001b[0mAppender\u001b[0m\u001b[1;33m(\u001b[0m\u001b[0mgeneric\u001b[0m\u001b[1;33m.\u001b[0m\u001b[0m_shared_docs\u001b[0m\u001b[1;33m[\u001b[0m\u001b[1;34m'shift'\u001b[0m\u001b[1;33m]\u001b[0m \u001b[1;33m%\u001b[0m \u001b[0m_shared_doc_kwargs\u001b[0m\u001b[1;33m)\u001b[0m\u001b[1;33m\u001b[0m\u001b[0m\n",
      "\u001b[1;32md:\\desk\\ml\\mlenv64\\lib\\site-packages\\pandas\\core\\generic.py\u001b[0m in \u001b[0;36mreplace\u001b[1;34m(self, to_replace, value, inplace, limit, regex, method)\u001b[0m\n\u001b[0;32m   5849\u001b[0m                                                        \u001b[0mdest_list\u001b[0m\u001b[1;33m=\u001b[0m\u001b[0mvalue\u001b[0m\u001b[1;33m,\u001b[0m\u001b[1;33m\u001b[0m\u001b[0m\n\u001b[0;32m   5850\u001b[0m                                                        \u001b[0minplace\u001b[0m\u001b[1;33m=\u001b[0m\u001b[0minplace\u001b[0m\u001b[1;33m,\u001b[0m\u001b[1;33m\u001b[0m\u001b[0m\n\u001b[1;32m-> 5851\u001b[1;33m                                                        regex=regex)\n\u001b[0m\u001b[0;32m   5852\u001b[0m \u001b[1;33m\u001b[0m\u001b[0m\n\u001b[0;32m   5853\u001b[0m                 \u001b[1;32melse\u001b[0m\u001b[1;33m:\u001b[0m  \u001b[1;31m# [NA, ''] -> 0\u001b[0m\u001b[1;33m\u001b[0m\u001b[0m\n",
      "\u001b[1;32md:\\desk\\ml\\mlenv64\\lib\\site-packages\\pandas\\core\\internals.py\u001b[0m in \u001b[0;36mreplace_list\u001b[1;34m(self, src_list, dest_list, inplace, regex, mgr)\u001b[0m\n\u001b[0;32m   3737\u001b[0m             \u001b[1;32mreturn\u001b[0m \u001b[0m_maybe_compare\u001b[0m\u001b[1;33m(\u001b[0m\u001b[0mvalues\u001b[0m\u001b[1;33m,\u001b[0m \u001b[0mgetattr\u001b[0m\u001b[1;33m(\u001b[0m\u001b[0ms\u001b[0m\u001b[1;33m,\u001b[0m \u001b[1;34m'asm8'\u001b[0m\u001b[1;33m,\u001b[0m \u001b[0ms\u001b[0m\u001b[1;33m)\u001b[0m\u001b[1;33m,\u001b[0m \u001b[0moperator\u001b[0m\u001b[1;33m.\u001b[0m\u001b[0meq\u001b[0m\u001b[1;33m)\u001b[0m\u001b[1;33m\u001b[0m\u001b[0m\n\u001b[0;32m   3738\u001b[0m \u001b[1;33m\u001b[0m\u001b[0m\n\u001b[1;32m-> 3739\u001b[1;33m         \u001b[0mmasks\u001b[0m \u001b[1;33m=\u001b[0m \u001b[1;33m[\u001b[0m\u001b[0mcomp\u001b[0m\u001b[1;33m(\u001b[0m\u001b[0ms\u001b[0m\u001b[1;33m)\u001b[0m \u001b[1;32mfor\u001b[0m \u001b[0mi\u001b[0m\u001b[1;33m,\u001b[0m \u001b[0ms\u001b[0m \u001b[1;32min\u001b[0m \u001b[0menumerate\u001b[0m\u001b[1;33m(\u001b[0m\u001b[0msrc_list\u001b[0m\u001b[1;33m)\u001b[0m\u001b[1;33m]\u001b[0m\u001b[1;33m\u001b[0m\u001b[0m\n\u001b[0m\u001b[0;32m   3740\u001b[0m \u001b[1;33m\u001b[0m\u001b[0m\n\u001b[0;32m   3741\u001b[0m         \u001b[0mresult_blocks\u001b[0m \u001b[1;33m=\u001b[0m \u001b[1;33m[\u001b[0m\u001b[1;33m]\u001b[0m\u001b[1;33m\u001b[0m\u001b[0m\n",
      "\u001b[1;32md:\\desk\\ml\\mlenv64\\lib\\site-packages\\pandas\\core\\internals.py\u001b[0m in \u001b[0;36m<listcomp>\u001b[1;34m(.0)\u001b[0m\n\u001b[0;32m   3737\u001b[0m             \u001b[1;32mreturn\u001b[0m \u001b[0m_maybe_compare\u001b[0m\u001b[1;33m(\u001b[0m\u001b[0mvalues\u001b[0m\u001b[1;33m,\u001b[0m \u001b[0mgetattr\u001b[0m\u001b[1;33m(\u001b[0m\u001b[0ms\u001b[0m\u001b[1;33m,\u001b[0m \u001b[1;34m'asm8'\u001b[0m\u001b[1;33m,\u001b[0m \u001b[0ms\u001b[0m\u001b[1;33m)\u001b[0m\u001b[1;33m,\u001b[0m \u001b[0moperator\u001b[0m\u001b[1;33m.\u001b[0m\u001b[0meq\u001b[0m\u001b[1;33m)\u001b[0m\u001b[1;33m\u001b[0m\u001b[0m\n\u001b[0;32m   3738\u001b[0m \u001b[1;33m\u001b[0m\u001b[0m\n\u001b[1;32m-> 3739\u001b[1;33m         \u001b[0mmasks\u001b[0m \u001b[1;33m=\u001b[0m \u001b[1;33m[\u001b[0m\u001b[0mcomp\u001b[0m\u001b[1;33m(\u001b[0m\u001b[0ms\u001b[0m\u001b[1;33m)\u001b[0m \u001b[1;32mfor\u001b[0m \u001b[0mi\u001b[0m\u001b[1;33m,\u001b[0m \u001b[0ms\u001b[0m \u001b[1;32min\u001b[0m \u001b[0menumerate\u001b[0m\u001b[1;33m(\u001b[0m\u001b[0msrc_list\u001b[0m\u001b[1;33m)\u001b[0m\u001b[1;33m]\u001b[0m\u001b[1;33m\u001b[0m\u001b[0m\n\u001b[0m\u001b[0;32m   3740\u001b[0m \u001b[1;33m\u001b[0m\u001b[0m\n\u001b[0;32m   3741\u001b[0m         \u001b[0mresult_blocks\u001b[0m \u001b[1;33m=\u001b[0m \u001b[1;33m[\u001b[0m\u001b[1;33m]\u001b[0m\u001b[1;33m\u001b[0m\u001b[0m\n",
      "\u001b[1;32md:\\desk\\ml\\mlenv64\\lib\\site-packages\\pandas\\core\\internals.py\u001b[0m in \u001b[0;36mcomp\u001b[1;34m(s)\u001b[0m\n\u001b[0;32m   3735\u001b[0m             \u001b[1;32mif\u001b[0m \u001b[0misna\u001b[0m\u001b[1;33m(\u001b[0m\u001b[0ms\u001b[0m\u001b[1;33m)\u001b[0m\u001b[1;33m:\u001b[0m\u001b[1;33m\u001b[0m\u001b[0m\n\u001b[0;32m   3736\u001b[0m                 \u001b[1;32mreturn\u001b[0m \u001b[0misna\u001b[0m\u001b[1;33m(\u001b[0m\u001b[0mvalues\u001b[0m\u001b[1;33m)\u001b[0m\u001b[1;33m\u001b[0m\u001b[0m\n\u001b[1;32m-> 3737\u001b[1;33m             \u001b[1;32mreturn\u001b[0m \u001b[0m_maybe_compare\u001b[0m\u001b[1;33m(\u001b[0m\u001b[0mvalues\u001b[0m\u001b[1;33m,\u001b[0m \u001b[0mgetattr\u001b[0m\u001b[1;33m(\u001b[0m\u001b[0ms\u001b[0m\u001b[1;33m,\u001b[0m \u001b[1;34m'asm8'\u001b[0m\u001b[1;33m,\u001b[0m \u001b[0ms\u001b[0m\u001b[1;33m)\u001b[0m\u001b[1;33m,\u001b[0m \u001b[0moperator\u001b[0m\u001b[1;33m.\u001b[0m\u001b[0meq\u001b[0m\u001b[1;33m)\u001b[0m\u001b[1;33m\u001b[0m\u001b[0m\n\u001b[0m\u001b[0;32m   3738\u001b[0m \u001b[1;33m\u001b[0m\u001b[0m\n\u001b[0;32m   3739\u001b[0m         \u001b[0mmasks\u001b[0m \u001b[1;33m=\u001b[0m \u001b[1;33m[\u001b[0m\u001b[0mcomp\u001b[0m\u001b[1;33m(\u001b[0m\u001b[0ms\u001b[0m\u001b[1;33m)\u001b[0m \u001b[1;32mfor\u001b[0m \u001b[0mi\u001b[0m\u001b[1;33m,\u001b[0m \u001b[0ms\u001b[0m \u001b[1;32min\u001b[0m \u001b[0menumerate\u001b[0m\u001b[1;33m(\u001b[0m\u001b[0msrc_list\u001b[0m\u001b[1;33m)\u001b[0m\u001b[1;33m]\u001b[0m\u001b[1;33m\u001b[0m\u001b[0m\n",
      "\u001b[1;32md:\\desk\\ml\\mlenv64\\lib\\site-packages\\pandas\\core\\internals.py\u001b[0m in \u001b[0;36m_maybe_compare\u001b[1;34m(a, b, op)\u001b[0m\n\u001b[0;32m   5163\u001b[0m         raise TypeError(\n\u001b[0;32m   5164\u001b[0m             \"Cannot compare types {a!r} and {b!r}\".format(a=type_names[0],\n\u001b[1;32m-> 5165\u001b[1;33m                                                           b=type_names[1]))\n\u001b[0m\u001b[0;32m   5166\u001b[0m     \u001b[1;32mreturn\u001b[0m \u001b[0mresult\u001b[0m\u001b[1;33m\u001b[0m\u001b[0m\n\u001b[0;32m   5167\u001b[0m \u001b[1;33m\u001b[0m\u001b[0m\n",
      "\u001b[1;31mTypeError\u001b[0m: Cannot compare types 'ndarray(dtype=int64)' and 'str'"
     ]
    }
   ],
   "source": [
    "total.gender.replace({'m':0,'f':1},inplace=True)"
   ]
  },
  {
   "cell_type": "markdown",
   "metadata": {},
   "source": [
    "# Scaling and Training the model"
   ]
  },
  {
   "cell_type": "code",
   "execution_count": 171,
   "metadata": {},
   "outputs": [
    {
     "data": {
      "text/plain": [
       "Index(['KPIs_met >80%', 'age', 'avg_training_score', 'awards_won?',\n",
       "       'employee_id', 'gender', 'index', 'is_promoted', 'length_of_service',\n",
       "       'no_of_trainings', 'previous_year_rating', 'department_Analytics',\n",
       "       'department_Finance', 'department_HR', 'department_Legal',\n",
       "       'department_Operations', 'department_Procurement', 'department_R&D',\n",
       "       'department_Sales & Marketing', 'department_Technology',\n",
       "       'recruitment_channel_other', 'recruitment_channel_referred',\n",
       "       'recruitment_channel_sourcing', 'education_Bachelor's',\n",
       "       'education_Below Secondary', 'education_Master's & above',\n",
       "       'region_region_1', 'region_region_10', 'region_region_11',\n",
       "       'region_region_12', 'region_region_13', 'region_region_14',\n",
       "       'region_region_15', 'region_region_16', 'region_region_17',\n",
       "       'region_region_18', 'region_region_19', 'region_region_2',\n",
       "       'region_region_20', 'region_region_21', 'region_region_22',\n",
       "       'region_region_23', 'region_region_24', 'region_region_25',\n",
       "       'region_region_26', 'region_region_27', 'region_region_28',\n",
       "       'region_region_29', 'region_region_3', 'region_region_30',\n",
       "       'region_region_31', 'region_region_32', 'region_region_33',\n",
       "       'region_region_34', 'region_region_4', 'region_region_5',\n",
       "       'region_region_6', 'region_region_7', 'region_region_8',\n",
       "       'region_region_9'],\n",
       "      dtype='object')"
      ]
     },
     "execution_count": 171,
     "metadata": {},
     "output_type": "execute_result"
    }
   ],
   "source": [
    "total._get_numeric_data().columns"
   ]
  },
  {
   "cell_type": "code",
   "execution_count": 172,
   "metadata": {},
   "outputs": [],
   "source": [
    "#Scaling does not seem to be required"
   ]
  },
  {
   "cell_type": "code",
   "execution_count": 53,
   "metadata": {},
   "outputs": [
    {
     "data": {
      "text/plain": [
       "Index(['KPIs_met >80%', 'age', 'avg_training_score', 'awards_won?',\n",
       "       'department', 'education', 'employee_id', 'gender', 'index',\n",
       "       'is_promoted', 'length_of_service', 'no_of_trainings',\n",
       "       'previous_year_rating', 'recruitment_channel', 'region',\n",
       "       'avg_training_score_grouped', 'length_of_service_grouped'],\n",
       "      dtype='object')"
      ]
     },
     "execution_count": 53,
     "metadata": {},
     "output_type": "execute_result"
    }
   ],
   "source": [
    "total.columns"
   ]
  },
  {
   "cell_type": "code",
   "execution_count": 66,
   "metadata": {},
   "outputs": [],
   "source": [
    "total['KPIs_met >80%'] = total['KPIs_met >80%'].astype(str)\n",
    "total['awards_won?'] = total['awards_won?'].astype(str)\n",
    "total['gender'] = total['gender'].astype(str)"
   ]
  },
  {
   "cell_type": "code",
   "execution_count": 67,
   "metadata": {},
   "outputs": [],
   "source": [
    "MODEL_FEATURES = ['KPIs_met >80%', 'age', 'avg_training_score', 'awards_won?',\n",
    "       'employee_id', 'gender', 'index', 'is_promoted', 'length_of_service',\n",
    "       'no_of_trainings', 'previous_year_rating', 'department_Analytics',\n",
    "       'department_Finance', 'department_HR', 'department_Legal',\n",
    "       'department_Operations', 'department_Procurement', 'department_R&D',\n",
    "       'department_Sales & Marketing', 'department_Technology',\n",
    "       'recruitment_channel_other', 'recruitment_channel_referred',\n",
    "       'recruitment_channel_sourcing', \"education_Bachelor's\",\n",
    "       \"education_Below Secondary\", \"education_Master's & above\"] "
   ]
  },
  {
   "cell_type": "code",
   "execution_count": 68,
   "metadata": {},
   "outputs": [
    {
     "data": {
      "text/plain": [
       "(54808, 17)"
      ]
     },
     "execution_count": 68,
     "metadata": {},
     "output_type": "execute_result"
    }
   ],
   "source": [
    "train_dat = total[total.index < 54808]\n",
    "train_dat.shape"
   ]
  },
  {
   "cell_type": "code",
   "execution_count": 69,
   "metadata": {},
   "outputs": [],
   "source": [
    "test_dat = total[total.index >= 54808]"
   ]
  },
  {
   "cell_type": "code",
   "execution_count": 70,
   "metadata": {},
   "outputs": [
    {
     "data": {
      "text/plain": [
       "KPIs_met >80%                   object\n",
       "awards_won?                     object\n",
       "gender                          object\n",
       "no_of_trainings                  int64\n",
       "previous_year_rating           float64\n",
       "avg_training_score_grouped    category\n",
       "length_of_service_grouped     category\n",
       "dtype: object"
      ]
     },
     "execution_count": 70,
     "metadata": {},
     "output_type": "execute_result"
    },
    {
     "data": {
      "text/html": [
       "<div>\n",
       "<style scoped>\n",
       "    .dataframe tbody tr th:only-of-type {\n",
       "        vertical-align: middle;\n",
       "    }\n",
       "\n",
       "    .dataframe tbody tr th {\n",
       "        vertical-align: top;\n",
       "    }\n",
       "\n",
       "    .dataframe thead th {\n",
       "        text-align: right;\n",
       "    }\n",
       "</style>\n",
       "<table border=\"1\" class=\"dataframe\">\n",
       "  <thead>\n",
       "    <tr style=\"text-align: right;\">\n",
       "      <th></th>\n",
       "      <th>KPIs_met &gt;80%</th>\n",
       "      <th>awards_won?</th>\n",
       "      <th>gender</th>\n",
       "      <th>no_of_trainings</th>\n",
       "      <th>previous_year_rating</th>\n",
       "      <th>avg_training_score_grouped</th>\n",
       "      <th>length_of_service_grouped</th>\n",
       "    </tr>\n",
       "  </thead>\n",
       "  <tbody>\n",
       "    <tr>\n",
       "      <th>54808</th>\n",
       "      <td>1</td>\n",
       "      <td>0</td>\n",
       "      <td>0</td>\n",
       "      <td>1</td>\n",
       "      <td>3.332219</td>\n",
       "      <td>0</td>\n",
       "      <td>0</td>\n",
       "    </tr>\n",
       "    <tr>\n",
       "      <th>54809</th>\n",
       "      <td>0</td>\n",
       "      <td>0</td>\n",
       "      <td>1</td>\n",
       "      <td>1</td>\n",
       "      <td>3.000000</td>\n",
       "      <td>0</td>\n",
       "      <td>0</td>\n",
       "    </tr>\n",
       "    <tr>\n",
       "      <th>54810</th>\n",
       "      <td>0</td>\n",
       "      <td>0</td>\n",
       "      <td>0</td>\n",
       "      <td>1</td>\n",
       "      <td>1.000000</td>\n",
       "      <td>0</td>\n",
       "      <td>0</td>\n",
       "    </tr>\n",
       "    <tr>\n",
       "      <th>54811</th>\n",
       "      <td>0</td>\n",
       "      <td>0</td>\n",
       "      <td>1</td>\n",
       "      <td>3</td>\n",
       "      <td>2.000000</td>\n",
       "      <td>0</td>\n",
       "      <td>0</td>\n",
       "    </tr>\n",
       "    <tr>\n",
       "      <th>54812</th>\n",
       "      <td>0</td>\n",
       "      <td>0</td>\n",
       "      <td>0</td>\n",
       "      <td>1</td>\n",
       "      <td>4.000000</td>\n",
       "      <td>0</td>\n",
       "      <td>0</td>\n",
       "    </tr>\n",
       "  </tbody>\n",
       "</table>\n",
       "</div>"
      ],
      "text/plain": [
       "      KPIs_met >80% awards_won? gender  no_of_trainings  previous_year_rating  \\\n",
       "54808             1           0      0                1              3.332219   \n",
       "54809             0           0      1                1              3.000000   \n",
       "54810             0           0      0                1              1.000000   \n",
       "54811             0           0      1                3              2.000000   \n",
       "54812             0           0      0                1              4.000000   \n",
       "\n",
       "      avg_training_score_grouped length_of_service_grouped  \n",
       "54808                          0                         0  \n",
       "54809                          0                         0  \n",
       "54810                          0                         0  \n",
       "54811                          0                         0  \n",
       "54812                          0                         0  "
      ]
     },
     "execution_count": 70,
     "metadata": {},
     "output_type": "execute_result"
    }
   ],
   "source": [
    "train_dat[MODEL_FEATURES].dtypes\n",
    "test_dat[MODEL_FEATURES].head()"
   ]
  },
  {
   "cell_type": "code",
   "execution_count": null,
   "metadata": {},
   "outputs": [],
   "source": []
  },
  {
   "cell_type": "code",
   "execution_count": 71,
   "metadata": {},
   "outputs": [],
   "source": [
    "from sklearn.model_selection import train_test_split"
   ]
  },
  {
   "cell_type": "code",
   "execution_count": 72,
   "metadata": {},
   "outputs": [],
   "source": [
    "X_train, X_test, y_train, y_test = train_test_split(train_dat[MODEL_FEATURES], train_dat['is_promoted'])"
   ]
  },
  {
   "cell_type": "code",
   "execution_count": 73,
   "metadata": {},
   "outputs": [],
   "source": [
    "from sklearn.ensemble import GradientBoostingClassifier\n",
    "from sklearn.linear_model import LogisticRegression"
   ]
  },
  {
   "cell_type": "code",
   "execution_count": 74,
   "metadata": {},
   "outputs": [],
   "source": [
    "clf = GradientBoostingClassifier()"
   ]
  },
  {
   "cell_type": "code",
   "execution_count": 75,
   "metadata": {},
   "outputs": [
    {
     "data": {
      "text/plain": [
       "GradientBoostingClassifier(criterion='friedman_mse', init=None,\n",
       "              learning_rate=0.1, loss='deviance', max_depth=3,\n",
       "              max_features=None, max_leaf_nodes=None,\n",
       "              min_impurity_decrease=0.0, min_impurity_split=None,\n",
       "              min_samples_leaf=1, min_samples_split=2,\n",
       "              min_weight_fraction_leaf=0.0, n_estimators=100,\n",
       "              presort='auto', random_state=None, subsample=1.0, verbose=0,\n",
       "              warm_start=False)"
      ]
     },
     "execution_count": 75,
     "metadata": {},
     "output_type": "execute_result"
    },
    {
     "data": {
      "text/plain": [
       "0.22222222222222224"
      ]
     },
     "execution_count": 75,
     "metadata": {},
     "output_type": "execute_result"
    }
   ],
   "source": [
    "clf.fit(X_train, y_train)\n",
    "preds = clf.predict(X_test)\n",
    "from sklearn.metrics import f1_score\n",
    "f1_score(y_test, preds)"
   ]
  },
  {
   "cell_type": "code",
   "execution_count": null,
   "metadata": {},
   "outputs": [],
   "source": []
  }
 ],
 "metadata": {
  "kernelspec": {
   "display_name": "Python 3",
   "language": "python",
   "name": "python3"
  },
  "language_info": {
   "codemirror_mode": {
    "name": "ipython",
    "version": 3
   },
   "file_extension": ".py",
   "mimetype": "text/x-python",
   "name": "python",
   "nbconvert_exporter": "python",
   "pygments_lexer": "ipython3",
   "version": "3.6.5"
  }
 },
 "nbformat": 4,
 "nbformat_minor": 2
}
