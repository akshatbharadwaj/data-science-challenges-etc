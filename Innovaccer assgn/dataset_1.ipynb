{
 "cells": [
  {
   "cell_type": "markdown",
   "metadata": {},
   "source": [
    "# TripAdvisor Dataset"
   ]
  },
  {
   "cell_type": "code",
   "execution_count": 2,
   "metadata": {},
   "outputs": [],
   "source": [
    "import pandas as pd\n",
    "import matplotlib.pyplot as plt\n",
    "import seaborn as sns\n",
    "import numpy as np"
   ]
  },
  {
   "cell_type": "code",
   "execution_count": 3,
   "metadata": {},
   "outputs": [],
   "source": [
    "import matplotlib as mpl"
   ]
  },
  {
   "cell_type": "markdown",
   "metadata": {},
   "source": [
    "# Reading the dataset and basic processing"
   ]
  },
  {
   "cell_type": "code",
   "execution_count": 6,
   "metadata": {},
   "outputs": [],
   "source": [
    "data = pd.read_excel(\"./Potential datasets for recruitment.xlsx\", sheet_name=0)\n",
    "data.head().to_html('a')"
   ]
  },
  {
   "cell_type": "code",
   "execution_count": 7,
   "metadata": {},
   "outputs": [
    {
     "data": {
      "text/html": [
       "<div>\n",
       "<style scoped>\n",
       "    .dataframe tbody tr th:only-of-type {\n",
       "        vertical-align: middle;\n",
       "    }\n",
       "\n",
       "    .dataframe tbody tr th {\n",
       "        vertical-align: top;\n",
       "    }\n",
       "\n",
       "    .dataframe thead th {\n",
       "        text-align: right;\n",
       "    }\n",
       "</style>\n",
       "<table border=\"1\" class=\"dataframe\">\n",
       "  <thead>\n",
       "    <tr style=\"text-align: right;\">\n",
       "      <th></th>\n",
       "      <th>User country</th>\n",
       "      <th>Nr. reviews</th>\n",
       "      <th>Nr. hotel reviews</th>\n",
       "      <th>Helpful votes</th>\n",
       "      <th>Score</th>\n",
       "      <th>Period of stay</th>\n",
       "      <th>Traveler type</th>\n",
       "      <th>Swimming Pool</th>\n",
       "      <th>Exercise Room</th>\n",
       "      <th>Basketball Court</th>\n",
       "      <th>Yoga Classes</th>\n",
       "      <th>Club</th>\n",
       "      <th>Free Wifi</th>\n",
       "      <th>Hotel name</th>\n",
       "      <th>Hotel stars</th>\n",
       "      <th>Nr. rooms</th>\n",
       "      <th>User continent</th>\n",
       "      <th>Member years</th>\n",
       "      <th>Review month</th>\n",
       "      <th>Review weekday</th>\n",
       "    </tr>\n",
       "  </thead>\n",
       "  <tbody>\n",
       "    <tr>\n",
       "      <th>75</th>\n",
       "      <td>USA</td>\n",
       "      <td>17</td>\n",
       "      <td>9</td>\n",
       "      <td>16</td>\n",
       "      <td>5</td>\n",
       "      <td>Dec-Feb</td>\n",
       "      <td>Solo</td>\n",
       "      <td>YES</td>\n",
       "      <td>YES</td>\n",
       "      <td>YES</td>\n",
       "      <td>YES</td>\n",
       "      <td>YES</td>\n",
       "      <td>YES</td>\n",
       "      <td>Treasure Island- TI Hotel &amp; Casino</td>\n",
       "      <td>4</td>\n",
       "      <td>2884</td>\n",
       "      <td>North America</td>\n",
       "      <td>-1806</td>\n",
       "      <td>February</td>\n",
       "      <td>Monday</td>\n",
       "    </tr>\n",
       "  </tbody>\n",
       "</table>\n",
       "</div>"
      ],
      "text/plain": [
       "   User country  Nr. reviews  Nr. hotel reviews  Helpful votes  Score  \\\n",
       "75          USA           17                  9             16      5   \n",
       "\n",
       "   Period of stay Traveler type Swimming Pool Exercise Room Basketball Court  \\\n",
       "75        Dec-Feb          Solo           YES           YES              YES   \n",
       "\n",
       "   Yoga Classes Club Free Wifi                          Hotel name  \\\n",
       "75          YES  YES       YES  Treasure Island- TI Hotel & Casino   \n",
       "\n",
       "   Hotel stars  Nr. rooms User continent  Member years Review month  \\\n",
       "75           4       2884  North America         -1806     February   \n",
       "\n",
       "   Review weekday  \n",
       "75         Monday  "
      ]
     },
     "execution_count": 7,
     "metadata": {},
     "output_type": "execute_result"
    }
   ],
   "source": [
    "data[data['Member years'] == -1806]"
   ]
  },
  {
   "cell_type": "code",
   "execution_count": 140,
   "metadata": {},
   "outputs": [
    {
     "data": {
      "text/plain": [
       "User country         object\n",
       "Nr. reviews           int64\n",
       "Nr. hotel reviews     int64\n",
       "Helpful votes         int64\n",
       "Score                 int64\n",
       "Period of stay       object\n",
       "Traveler type        object\n",
       "Swimming Pool        object\n",
       "Exercise Room        object\n",
       "Basketball Court     object\n",
       "Yoga Classes         object\n",
       "Club                 object\n",
       "Free Wifi            object\n",
       "Hotel name           object\n",
       "Hotel stars          object\n",
       "Nr. rooms             int64\n",
       "User continent       object\n",
       "Member years          int64\n",
       "Review month         object\n",
       "Review weekday       object\n",
       "dtype: object"
      ]
     },
     "execution_count": 140,
     "metadata": {},
     "output_type": "execute_result"
    }
   ],
   "source": [
    "data.dtypes"
   ]
  },
  {
   "cell_type": "code",
   "execution_count": 141,
   "metadata": {},
   "outputs": [
    {
     "data": {
      "text/plain": [
       "User country         504\n",
       "Nr. reviews          504\n",
       "Nr. hotel reviews    504\n",
       "Helpful votes        504\n",
       "Score                504\n",
       "Period of stay       504\n",
       "Traveler type        504\n",
       "Swimming Pool        504\n",
       "Exercise Room        504\n",
       "Basketball Court     504\n",
       "Yoga Classes         504\n",
       "Club                 504\n",
       "Free Wifi            504\n",
       "Hotel name           504\n",
       "Hotel stars          504\n",
       "Nr. rooms            504\n",
       "User continent       504\n",
       "Member years         504\n",
       "Review month         504\n",
       "Review weekday       504\n",
       "dtype: int64"
      ]
     },
     "execution_count": 141,
     "metadata": {},
     "output_type": "execute_result"
    }
   ],
   "source": [
    "data.count()"
   ]
  },
  {
   "cell_type": "markdown",
   "metadata": {},
   "source": [
    "Data is devoid of NaN values. Hence, we don't have to worry about missing values."
   ]
  },
  {
   "cell_type": "code",
   "execution_count": 142,
   "metadata": {},
   "outputs": [
    {
     "data": {
      "text/plain": [
       "4.123015873015873"
      ]
     },
     "execution_count": 142,
     "metadata": {},
     "output_type": "execute_result"
    }
   ],
   "source": [
    "data.Score.mean() #Data has lots of high ratings. Mildly skewed."
   ]
  },
  {
   "cell_type": "code",
   "execution_count": 143,
   "metadata": {},
   "outputs": [],
   "source": [
    "bin_dict = {'YES' : 1,\n",
    "            'NO' : 0}\n",
    "cols_to_replace = ['Swimming Pool', 'Exercise Room', 'Basketball Court', 'Yoga Classes', 'Club', 'Free Wifi']\n",
    "data.replace({x : bin_dict for x in cols_to_replace}, inplace=True)"
   ]
  },
  {
   "cell_type": "markdown",
   "metadata": {},
   "source": [
    "# Column analysis and Visualisation"
   ]
  },
  {
   "cell_type": "code",
   "execution_count": 144,
   "metadata": {},
   "outputs": [
    {
     "data": {
      "text/plain": [
       "USA                     217\n",
       "UK                       72\n",
       "Canada                   65\n",
       "Australia                36\n",
       "Ireland                  13\n",
       "India                    11\n",
       "Mexico                    8\n",
       "Germany                   7\n",
       "Egypt                     5\n",
       "New Zeland                5\n",
       "Brazil                    5\n",
       "Netherlands               4\n",
       "Singapore                 4\n",
       "Thailand                  3\n",
       "Israel                    3\n",
       "Norway                    3\n",
       "Malaysia                  3\n",
       "Hawaii                    3\n",
       "Finland                   3\n",
       "Costa Rica                2\n",
       "Spain                     2\n",
       "Scotland                  2\n",
       "United Arab Emirates      2\n",
       "Switzerland               2\n",
       "Kenya                     1\n",
       "Hungary                   1\n",
       "India                     1\n",
       "Honduras                  1\n",
       "Taiwan                    1\n",
       "Saudi Arabia              1\n",
       "Korea                     1\n",
       "South Africa              1\n",
       "Phillippines              1\n",
       "Denmark                   1\n",
       "Czech Republic            1\n",
       "Kuwait                    1\n",
       "Belgium                   1\n",
       "Greece                    1\n",
       "Italy                     1\n",
       "China                     1\n",
       "Puerto Rico               1\n",
       "Swiss                     1\n",
       "Croatia                   1\n",
       "Syria                     1\n",
       "Japan                     1\n",
       "France                    1\n",
       "Jordan                    1\n",
       "Iran                      1\n",
       "Name: User country, dtype: int64"
      ]
     },
     "execution_count": 144,
     "metadata": {},
     "output_type": "execute_result"
    }
   ],
   "source": [
    "data['User country'].value_counts()"
   ]
  },
  {
   "cell_type": "code",
   "execution_count": 145,
   "metadata": {},
   "outputs": [
    {
     "data": {
      "text/plain": [
       "23.5"
      ]
     },
     "execution_count": 145,
     "metadata": {},
     "output_type": "execute_result"
    }
   ],
   "source": [
    "data['Nr. reviews'].median()"
   ]
  },
  {
   "cell_type": "code",
   "execution_count": 257,
   "metadata": {},
   "outputs": [
    {
     "data": {
      "text/plain": [
       "array([5, 3, 4, 2, 1], dtype=int64)"
      ]
     },
     "execution_count": 257,
     "metadata": {},
     "output_type": "execute_result"
    }
   ],
   "source": [
    "data.Score.unique()"
   ]
  },
  {
   "cell_type": "code",
   "execution_count": 146,
   "metadata": {},
   "outputs": [
    {
     "data": {
      "text/plain": [
       "array(['Dec-Feb', 'Mar-May', 'Jun-Aug', 'Sep-Nov'], dtype=object)"
      ]
     },
     "execution_count": 146,
     "metadata": {},
     "output_type": "execute_result"
    }
   ],
   "source": [
    "data['Period of stay'].unique()"
   ]
  },
  {
   "cell_type": "code",
   "execution_count": 147,
   "metadata": {},
   "outputs": [
    {
     "data": {
      "text/plain": [
       "array(['Friends', 'Business', 'Families', 'Solo', 'Couples'], dtype=object)"
      ]
     },
     "execution_count": 147,
     "metadata": {},
     "output_type": "execute_result"
    }
   ],
   "source": [
    "data['Traveler type'].unique()"
   ]
  },
  {
   "cell_type": "code",
   "execution_count": 148,
   "metadata": {},
   "outputs": [
    {
     "data": {
      "text/plain": [
       "array([3, 4, 5, '4,5', '3,5'], dtype=object)"
      ]
     },
     "execution_count": 148,
     "metadata": {},
     "output_type": "execute_result"
    }
   ],
   "source": [
    "data['Hotel stars'].unique()"
   ]
  },
  {
   "cell_type": "code",
   "execution_count": 149,
   "metadata": {},
   "outputs": [
    {
     "data": {
      "text/plain": [
       "<matplotlib.axes._subplots.AxesSubplot at 0x282037b5f60>"
      ]
     },
     "execution_count": 149,
     "metadata": {},
     "output_type": "execute_result"
    },
    {
     "data": {
      "image/png": "[encoded data removed]",
      "text/plain": [
       "<Figure size 432x288 with 2 Axes>"
      ]
     },
     "metadata": {},
     "output_type": "display_data"
    }
   ],
   "source": [
    "sns.heatmap(data.corr())"
   ]
  },
  {
   "cell_type": "code",
   "execution_count": 153,
   "metadata": {},
   "outputs": [
    {
     "data": {
      "text/html": [
       "<div>\n",
       "<style scoped>\n",
       "    .dataframe tbody tr th:only-of-type {\n",
       "        vertical-align: middle;\n",
       "    }\n",
       "\n",
       "    .dataframe tbody tr th {\n",
       "        vertical-align: top;\n",
       "    }\n",
       "\n",
       "    .dataframe thead th {\n",
       "        text-align: right;\n",
       "    }\n",
       "</style>\n",
       "<table border=\"1\" class=\"dataframe\">\n",
       "  <thead>\n",
       "    <tr style=\"text-align: right;\">\n",
       "      <th></th>\n",
       "      <th>count</th>\n",
       "      <th>mean</th>\n",
       "      <th>median</th>\n",
       "    </tr>\n",
       "    <tr>\n",
       "      <th>Nr. rooms</th>\n",
       "      <th></th>\n",
       "      <th></th>\n",
       "      <th></th>\n",
       "    </tr>\n",
       "  </thead>\n",
       "  <tbody>\n",
       "    <tr>\n",
       "      <th>188</th>\n",
       "      <td>24</td>\n",
       "      <td>4.083333</td>\n",
       "      <td>4.5</td>\n",
       "    </tr>\n",
       "    <tr>\n",
       "      <th>315</th>\n",
       "      <td>24</td>\n",
       "      <td>3.958333</td>\n",
       "      <td>4.0</td>\n",
       "    </tr>\n",
       "    <tr>\n",
       "      <th>716</th>\n",
       "      <td>24</td>\n",
       "      <td>4.208333</td>\n",
       "      <td>5.0</td>\n",
       "    </tr>\n",
       "    <tr>\n",
       "      <th>732</th>\n",
       "      <td>24</td>\n",
       "      <td>4.541667</td>\n",
       "      <td>5.0</td>\n",
       "    </tr>\n",
       "    <tr>\n",
       "      <th>787</th>\n",
       "      <td>24</td>\n",
       "      <td>4.375000</td>\n",
       "      <td>4.5</td>\n",
       "    </tr>\n",
       "    <tr>\n",
       "      <th>826</th>\n",
       "      <td>24</td>\n",
       "      <td>3.916667</td>\n",
       "      <td>4.0</td>\n",
       "    </tr>\n",
       "    <tr>\n",
       "      <th>1228</th>\n",
       "      <td>24</td>\n",
       "      <td>4.166667</td>\n",
       "      <td>4.5</td>\n",
       "    </tr>\n",
       "    <tr>\n",
       "      <th>1282</th>\n",
       "      <td>24</td>\n",
       "      <td>4.375000</td>\n",
       "      <td>5.0</td>\n",
       "    </tr>\n",
       "    <tr>\n",
       "      <th>1467</th>\n",
       "      <td>24</td>\n",
       "      <td>4.041667</td>\n",
       "      <td>4.0</td>\n",
       "    </tr>\n",
       "    <tr>\n",
       "      <th>2034</th>\n",
       "      <td>24</td>\n",
       "      <td>4.541667</td>\n",
       "      <td>5.0</td>\n",
       "    </tr>\n",
       "    <tr>\n",
       "      <th>2700</th>\n",
       "      <td>24</td>\n",
       "      <td>4.625000</td>\n",
       "      <td>5.0</td>\n",
       "    </tr>\n",
       "    <tr>\n",
       "      <th>2884</th>\n",
       "      <td>24</td>\n",
       "      <td>3.958333</td>\n",
       "      <td>4.0</td>\n",
       "    </tr>\n",
       "    <tr>\n",
       "      <th>2916</th>\n",
       "      <td>24</td>\n",
       "      <td>4.041667</td>\n",
       "      <td>4.0</td>\n",
       "    </tr>\n",
       "    <tr>\n",
       "      <th>2959</th>\n",
       "      <td>24</td>\n",
       "      <td>4.250000</td>\n",
       "      <td>5.0</td>\n",
       "    </tr>\n",
       "    <tr>\n",
       "      <th>3003</th>\n",
       "      <td>24</td>\n",
       "      <td>3.291667</td>\n",
       "      <td>3.5</td>\n",
       "    </tr>\n",
       "    <tr>\n",
       "      <th>3025</th>\n",
       "      <td>24</td>\n",
       "      <td>4.375000</td>\n",
       "      <td>5.0</td>\n",
       "    </tr>\n",
       "    <tr>\n",
       "      <th>3348</th>\n",
       "      <td>24</td>\n",
       "      <td>4.125000</td>\n",
       "      <td>4.5</td>\n",
       "    </tr>\n",
       "    <tr>\n",
       "      <th>3773</th>\n",
       "      <td>24</td>\n",
       "      <td>3.208333</td>\n",
       "      <td>3.0</td>\n",
       "    </tr>\n",
       "    <tr>\n",
       "      <th>3933</th>\n",
       "      <td>24</td>\n",
       "      <td>4.208333</td>\n",
       "      <td>4.5</td>\n",
       "    </tr>\n",
       "    <tr>\n",
       "      <th>3981</th>\n",
       "      <td>24</td>\n",
       "      <td>3.708333</td>\n",
       "      <td>4.0</td>\n",
       "    </tr>\n",
       "    <tr>\n",
       "      <th>4027</th>\n",
       "      <td>24</td>\n",
       "      <td>4.583333</td>\n",
       "      <td>5.0</td>\n",
       "    </tr>\n",
       "  </tbody>\n",
       "</table>\n",
       "</div>"
      ],
      "text/plain": [
       "           count      mean  median\n",
       "Nr. rooms                         \n",
       "188           24  4.083333     4.5\n",
       "315           24  3.958333     4.0\n",
       "716           24  4.208333     5.0\n",
       "732           24  4.541667     5.0\n",
       "787           24  4.375000     4.5\n",
       "826           24  3.916667     4.0\n",
       "1228          24  4.166667     4.5\n",
       "1282          24  4.375000     5.0\n",
       "1467          24  4.041667     4.0\n",
       "2034          24  4.541667     5.0\n",
       "2700          24  4.625000     5.0\n",
       "2884          24  3.958333     4.0\n",
       "2916          24  4.041667     4.0\n",
       "2959          24  4.250000     5.0\n",
       "3003          24  3.291667     3.5\n",
       "3025          24  4.375000     5.0\n",
       "3348          24  4.125000     4.5\n",
       "3773          24  3.208333     3.0\n",
       "3933          24  4.208333     4.5\n",
       "3981          24  3.708333     4.0\n",
       "4027          24  4.583333     5.0"
      ]
     },
     "execution_count": 153,
     "metadata": {},
     "output_type": "execute_result"
    }
   ],
   "source": [
    "g = data.groupby(['Nr. rooms']).agg(['count', 'mean', 'median'])['Score']\n",
    "g"
   ]
  },
  {
   "cell_type": "code",
   "execution_count": 15,
   "metadata": {},
   "outputs": [
    {
     "data": {
      "image/png": "[encoded data removed]",
      "text/plain": [
       "<Figure size 432x288 with 1 Axes>"
      ]
     },
     "metadata": {},
     "output_type": "display_data"
    },
    {
     "data": {
      "image/png": "[encoded data removed]",
      "text/plain": [
       "<Figure size 432x288 with 1 Axes>"
      ]
     },
     "metadata": {},
     "output_type": "display_data"
    },
    {
     "data": {
      "image/png": "[encoded data removed]",
      "text/plain": [
       "<Figure size 432x288 with 1 Axes>"
      ]
     },
     "metadata": {},
     "output_type": "display_data"
    },
    {
     "data": {
      "image/png": "[encoded data removed]",
      "text/plain": [
       "<Figure size 432x288 with 1 Axes>"
      ]
     },
     "metadata": {},
     "output_type": "display_data"
    },
    {
     "data": {
      "image/png": "[encoded data removed]",
      "text/plain": [
       "<Figure size 432x288 with 1 Axes>"
      ]
     },
     "metadata": {},
     "output_type": "display_data"
    },
    {
     "data": {
      "image/png": "[encoded data removed]",
      "text/plain": [
       "<Figure size 432x288 with 1 Axes>"
      ]
     },
     "metadata": {},
     "output_type": "display_data"
    },
    {
     "data": {
      "image/png": "[encoded data removed]",
      "text/plain": [
       "<Figure size 432x288 with 1 Axes>"
      ]
     },
     "metadata": {},
     "output_type": "display_data"
    },
    {
     "data": {
      "image/png": "[encoded data removed]",
      "text/plain": [
       "<Figure size 432x288 with 1 Axes>"
      ]
     },
     "metadata": {},
     "output_type": "display_data"
    },
    {
     "data": {
      "image/png": "[encoded data removed]",
      "text/plain": [
       "<Figure size 432x288 with 1 Axes>"
      ]
     },
     "metadata": {},
     "output_type": "display_data"
    },
    {
     "data": {
      "image/png": "[encoded data removed]",
      "text/plain": [
       "<Figure size 432x288 with 1 Axes>"
      ]
     },
     "metadata": {},
     "output_type": "display_data"
    },
    {
     "data": {
      "image/png": "[encoded data removed]",
      "text/plain": [
       "<Figure size 432x288 with 1 Axes>"
      ]
     },
     "metadata": {},
     "output_type": "display_data"
    },
    {
     "data": {
      "image/png": "[encoded data removed]",
      "text/plain": [
       "<Figure size 432x288 with 1 Axes>"
      ]
     },
     "metadata": {},
     "output_type": "display_data"
    },
    {
     "data": {
      "image/png": "[encoded data removed]",
      "text/plain": [
       "<Figure size 432x288 with 1 Axes>"
      ]
     },
     "metadata": {},
     "output_type": "display_data"
    },
    {
     "data": {
      "image/png": "[encoded data removed]",
      "text/plain": [
       "<Figure size 432x288 with 1 Axes>"
      ]
     },
     "metadata": {},
     "output_type": "display_data"
    },
    {
     "data": {
      "image/png": "[encoded data removed]",
      "text/plain": [
       "<Figure size 432x288 with 1 Axes>"
      ]
     },
     "metadata": {},
     "output_type": "display_data"
    },
    {
     "data": {
      "image/png": "[encoded data removed]",
      "text/plain": [
       "<Figure size 432x288 with 1 Axes>"
      ]
     },
     "metadata": {},
     "output_type": "display_data"
    },
    {
     "data": {
      "image/png": "[encoded data removed]",
      "text/plain": [
       "<Figure size 432x288 with 1 Axes>"
      ]
     },
     "metadata": {},
     "output_type": "display_data"
    },
    {
     "data": {
      "image/png": "[encoded data removed]",
      "text/plain": [
       "<Figure size 432x288 with 1 Axes>"
      ]
     },
     "metadata": {},
     "output_type": "display_data"
    },
    {
     "data": {
      "image/png": "[encoded data removed]",
      "text/plain": [
       "<Figure size 432x288 with 1 Axes>"
      ]
     },
     "metadata": {},
     "output_type": "display_data"
    },
    {
     "data": {
      "image/png": "[encoded data removed]",
      "text/plain": [
       "<Figure size 432x288 with 1 Axes>"
      ]
     },
     "metadata": {},
     "output_type": "display_data"
    }
   ],
   "source": [
    "for x in data.columns:\n",
    "    plt.figure()\n",
    "    sns.countplot(data=data, y=x, hue='Score')"
   ]
  },
  {
   "cell_type": "markdown",
   "metadata": {},
   "source": [
    "Let's consolidate some facts here. \n",
    "* Hotels in this dataset are generally rated towards the higher side. The mean, median are around 4 stars.\n",
    "* No of hotels are equally distributed in this dataset (pretty convenient!).\n",
    "* The traveler type could be a viable important measure.\n",
    "* In the amenities, Free Wifi and Swimming Pool seem to be important factors for getting a 5 star rating.\n",
    "* 5 and (4,5),(3,5) star hotels have more 5 star scores.\n",
    "* The User continent feature should be examined closely."
   ]
  },
  {
   "cell_type": "code",
   "execution_count": 16,
   "metadata": {},
   "outputs": [
    {
     "data": {
      "text/plain": [
       "count    504.000000\n",
       "mean      31.751984\n",
       "std       48.520783\n",
       "min        0.000000\n",
       "25%        8.000000\n",
       "50%       16.000000\n",
       "75%       35.000000\n",
       "max      365.000000\n",
       "Name: Helpful votes, dtype: float64"
      ]
     },
     "execution_count": 16,
     "metadata": {},
     "output_type": "execute_result"
    }
   ],
   "source": [
    "data['Helpful votes'].describe()"
   ]
  },
  {
   "cell_type": "code",
   "execution_count": 278,
   "metadata": {},
   "outputs": [
    {
     "data": {
      "text/html": [
       "<div>\n",
       "<style scoped>\n",
       "    .dataframe tbody tr th:only-of-type {\n",
       "        vertical-align: middle;\n",
       "    }\n",
       "\n",
       "    .dataframe tbody tr th {\n",
       "        vertical-align: top;\n",
       "    }\n",
       "\n",
       "    .dataframe thead th {\n",
       "        text-align: right;\n",
       "    }\n",
       "</style>\n",
       "<table border=\"1\" class=\"dataframe\">\n",
       "  <thead>\n",
       "    <tr style=\"text-align: right;\">\n",
       "      <th></th>\n",
       "      <th>User country</th>\n",
       "      <th>Nr. reviews</th>\n",
       "      <th>Nr. hotel reviews</th>\n",
       "      <th>Helpful votes</th>\n",
       "      <th>Score</th>\n",
       "      <th>Period of stay</th>\n",
       "      <th>Traveler type</th>\n",
       "      <th>Swimming Pool</th>\n",
       "      <th>Exercise Room</th>\n",
       "      <th>Basketball Court</th>\n",
       "      <th>...</th>\n",
       "      <th>Free Wifi</th>\n",
       "      <th>Hotel name</th>\n",
       "      <th>Hotel stars</th>\n",
       "      <th>Nr. rooms</th>\n",
       "      <th>User continent</th>\n",
       "      <th>Member years</th>\n",
       "      <th>Review month</th>\n",
       "      <th>Review weekday</th>\n",
       "      <th>amenities</th>\n",
       "      <th>s&amp;b</th>\n",
       "    </tr>\n",
       "  </thead>\n",
       "  <tbody>\n",
       "    <tr>\n",
       "      <th>10</th>\n",
       "      <td>USA</td>\n",
       "      <td>102</td>\n",
       "      <td>24</td>\n",
       "      <td>58</td>\n",
       "      <td>2</td>\n",
       "      <td>Jun-Aug</td>\n",
       "      <td>Families</td>\n",
       "      <td>0</td>\n",
       "      <td>1</td>\n",
       "      <td>0</td>\n",
       "      <td>...</td>\n",
       "      <td>1</td>\n",
       "      <td>Circus Circus Hotel &amp; Casino Las Vegas</td>\n",
       "      <td>3</td>\n",
       "      <td>3773</td>\n",
       "      <td>North America</td>\n",
       "      <td>9</td>\n",
       "      <td>June</td>\n",
       "      <td>Friday</td>\n",
       "      <td>3</td>\n",
       "      <td>0</td>\n",
       "    </tr>\n",
       "    <tr>\n",
       "      <th>12</th>\n",
       "      <td>USA</td>\n",
       "      <td>7</td>\n",
       "      <td>6</td>\n",
       "      <td>9</td>\n",
       "      <td>2</td>\n",
       "      <td>Jun-Aug</td>\n",
       "      <td>Friends</td>\n",
       "      <td>0</td>\n",
       "      <td>1</td>\n",
       "      <td>0</td>\n",
       "      <td>...</td>\n",
       "      <td>1</td>\n",
       "      <td>Circus Circus Hotel &amp; Casino Las Vegas</td>\n",
       "      <td>3</td>\n",
       "      <td>3773</td>\n",
       "      <td>North America</td>\n",
       "      <td>1</td>\n",
       "      <td>July</td>\n",
       "      <td>Wednesday</td>\n",
       "      <td>3</td>\n",
       "      <td>0</td>\n",
       "    </tr>\n",
       "    <tr>\n",
       "      <th>19</th>\n",
       "      <td>USA</td>\n",
       "      <td>8</td>\n",
       "      <td>7</td>\n",
       "      <td>26</td>\n",
       "      <td>2</td>\n",
       "      <td>Sep-Nov</td>\n",
       "      <td>Couples</td>\n",
       "      <td>0</td>\n",
       "      <td>1</td>\n",
       "      <td>0</td>\n",
       "      <td>...</td>\n",
       "      <td>1</td>\n",
       "      <td>Circus Circus Hotel &amp; Casino Las Vegas</td>\n",
       "      <td>3</td>\n",
       "      <td>3773</td>\n",
       "      <td>North America</td>\n",
       "      <td>10</td>\n",
       "      <td>October</td>\n",
       "      <td>Monday</td>\n",
       "      <td>3</td>\n",
       "      <td>0</td>\n",
       "    </tr>\n",
       "    <tr>\n",
       "      <th>23</th>\n",
       "      <td>USA</td>\n",
       "      <td>4</td>\n",
       "      <td>4</td>\n",
       "      <td>3</td>\n",
       "      <td>2</td>\n",
       "      <td>Dec-Feb</td>\n",
       "      <td>Couples</td>\n",
       "      <td>0</td>\n",
       "      <td>1</td>\n",
       "      <td>0</td>\n",
       "      <td>...</td>\n",
       "      <td>1</td>\n",
       "      <td>Circus Circus Hotel &amp; Casino Las Vegas</td>\n",
       "      <td>3</td>\n",
       "      <td>3773</td>\n",
       "      <td>North America</td>\n",
       "      <td>5</td>\n",
       "      <td>December</td>\n",
       "      <td>Sunday</td>\n",
       "      <td>3</td>\n",
       "      <td>0</td>\n",
       "    </tr>\n",
       "    <tr>\n",
       "      <th>39</th>\n",
       "      <td>USA</td>\n",
       "      <td>24</td>\n",
       "      <td>6</td>\n",
       "      <td>9</td>\n",
       "      <td>2</td>\n",
       "      <td>Jun-Aug</td>\n",
       "      <td>Families</td>\n",
       "      <td>1</td>\n",
       "      <td>1</td>\n",
       "      <td>0</td>\n",
       "      <td>...</td>\n",
       "      <td>1</td>\n",
       "      <td>Excalibur Hotel &amp; Casino</td>\n",
       "      <td>3</td>\n",
       "      <td>3981</td>\n",
       "      <td>North America</td>\n",
       "      <td>2</td>\n",
       "      <td>August</td>\n",
       "      <td>Wednesday</td>\n",
       "      <td>5</td>\n",
       "      <td>1</td>\n",
       "    </tr>\n",
       "    <tr>\n",
       "      <th>50</th>\n",
       "      <td>USA</td>\n",
       "      <td>418</td>\n",
       "      <td>32</td>\n",
       "      <td>132</td>\n",
       "      <td>2</td>\n",
       "      <td>Dec-Feb</td>\n",
       "      <td>Couples</td>\n",
       "      <td>1</td>\n",
       "      <td>1</td>\n",
       "      <td>0</td>\n",
       "      <td>...</td>\n",
       "      <td>0</td>\n",
       "      <td>Monte Carlo Resort&amp;Casino</td>\n",
       "      <td>4</td>\n",
       "      <td>3003</td>\n",
       "      <td>North America</td>\n",
       "      <td>3</td>\n",
       "      <td>February</td>\n",
       "      <td>Tuesday</td>\n",
       "      <td>4</td>\n",
       "      <td>0</td>\n",
       "    </tr>\n",
       "    <tr>\n",
       "      <th>55</th>\n",
       "      <td>South Africa</td>\n",
       "      <td>54</td>\n",
       "      <td>18</td>\n",
       "      <td>16</td>\n",
       "      <td>2</td>\n",
       "      <td>Mar-May</td>\n",
       "      <td>Business</td>\n",
       "      <td>1</td>\n",
       "      <td>1</td>\n",
       "      <td>0</td>\n",
       "      <td>...</td>\n",
       "      <td>0</td>\n",
       "      <td>Monte Carlo Resort&amp;Casino</td>\n",
       "      <td>4</td>\n",
       "      <td>3003</td>\n",
       "      <td>Africa</td>\n",
       "      <td>5</td>\n",
       "      <td>April</td>\n",
       "      <td>Tuesday</td>\n",
       "      <td>4</td>\n",
       "      <td>0</td>\n",
       "    </tr>\n",
       "    <tr>\n",
       "      <th>62</th>\n",
       "      <td>Swiss</td>\n",
       "      <td>36</td>\n",
       "      <td>19</td>\n",
       "      <td>36</td>\n",
       "      <td>2</td>\n",
       "      <td>Jun-Aug</td>\n",
       "      <td>Solo</td>\n",
       "      <td>1</td>\n",
       "      <td>1</td>\n",
       "      <td>0</td>\n",
       "      <td>...</td>\n",
       "      <td>0</td>\n",
       "      <td>Monte Carlo Resort&amp;Casino</td>\n",
       "      <td>4</td>\n",
       "      <td>3003</td>\n",
       "      <td>Europe</td>\n",
       "      <td>5</td>\n",
       "      <td>August</td>\n",
       "      <td>Thursday</td>\n",
       "      <td>4</td>\n",
       "      <td>0</td>\n",
       "    </tr>\n",
       "    <tr>\n",
       "      <th>67</th>\n",
       "      <td>USA</td>\n",
       "      <td>13</td>\n",
       "      <td>3</td>\n",
       "      <td>3</td>\n",
       "      <td>2</td>\n",
       "      <td>Sep-Nov</td>\n",
       "      <td>Couples</td>\n",
       "      <td>1</td>\n",
       "      <td>1</td>\n",
       "      <td>0</td>\n",
       "      <td>...</td>\n",
       "      <td>0</td>\n",
       "      <td>Monte Carlo Resort&amp;Casino</td>\n",
       "      <td>4</td>\n",
       "      <td>3003</td>\n",
       "      <td>North America</td>\n",
       "      <td>1</td>\n",
       "      <td>October</td>\n",
       "      <td>Sunday</td>\n",
       "      <td>4</td>\n",
       "      <td>0</td>\n",
       "    </tr>\n",
       "    <tr>\n",
       "      <th>70</th>\n",
       "      <td>Greece</td>\n",
       "      <td>21</td>\n",
       "      <td>18</td>\n",
       "      <td>6</td>\n",
       "      <td>2</td>\n",
       "      <td>Dec-Feb</td>\n",
       "      <td>Business</td>\n",
       "      <td>1</td>\n",
       "      <td>1</td>\n",
       "      <td>0</td>\n",
       "      <td>...</td>\n",
       "      <td>0</td>\n",
       "      <td>Monte Carlo Resort&amp;Casino</td>\n",
       "      <td>4</td>\n",
       "      <td>3003</td>\n",
       "      <td>Europe</td>\n",
       "      <td>0</td>\n",
       "      <td>December</td>\n",
       "      <td>Sunday</td>\n",
       "      <td>4</td>\n",
       "      <td>0</td>\n",
       "    </tr>\n",
       "    <tr>\n",
       "      <th>115</th>\n",
       "      <td>USA</td>\n",
       "      <td>5</td>\n",
       "      <td>3</td>\n",
       "      <td>11</td>\n",
       "      <td>2</td>\n",
       "      <td>Sep-Nov</td>\n",
       "      <td>Friends</td>\n",
       "      <td>1</td>\n",
       "      <td>1</td>\n",
       "      <td>1</td>\n",
       "      <td>...</td>\n",
       "      <td>1</td>\n",
       "      <td>Tropicana Las Vegas - A Double Tree by Hilton ...</td>\n",
       "      <td>4</td>\n",
       "      <td>1467</td>\n",
       "      <td>North America</td>\n",
       "      <td>1</td>\n",
       "      <td>October</td>\n",
       "      <td>Thursday</td>\n",
       "      <td>6</td>\n",
       "      <td>1</td>\n",
       "    </tr>\n",
       "    <tr>\n",
       "      <th>153</th>\n",
       "      <td>USA</td>\n",
       "      <td>30</td>\n",
       "      <td>8</td>\n",
       "      <td>10</td>\n",
       "      <td>2</td>\n",
       "      <td>Mar-May</td>\n",
       "      <td>Business</td>\n",
       "      <td>1</td>\n",
       "      <td>1</td>\n",
       "      <td>0</td>\n",
       "      <td>...</td>\n",
       "      <td>1</td>\n",
       "      <td>The Cosmopolitan Las Vegas</td>\n",
       "      <td>5</td>\n",
       "      <td>2959</td>\n",
       "      <td>North America</td>\n",
       "      <td>1</td>\n",
       "      <td>May</td>\n",
       "      <td>Wednesday</td>\n",
       "      <td>5</td>\n",
       "      <td>1</td>\n",
       "    </tr>\n",
       "    <tr>\n",
       "      <th>154</th>\n",
       "      <td>Germany</td>\n",
       "      <td>24</td>\n",
       "      <td>24</td>\n",
       "      <td>24</td>\n",
       "      <td>2</td>\n",
       "      <td>Jun-Aug</td>\n",
       "      <td>Couples</td>\n",
       "      <td>1</td>\n",
       "      <td>1</td>\n",
       "      <td>0</td>\n",
       "      <td>...</td>\n",
       "      <td>1</td>\n",
       "      <td>The Cosmopolitan Las Vegas</td>\n",
       "      <td>5</td>\n",
       "      <td>2959</td>\n",
       "      <td>Europe</td>\n",
       "      <td>7</td>\n",
       "      <td>June</td>\n",
       "      <td>Wednesday</td>\n",
       "      <td>5</td>\n",
       "      <td>1</td>\n",
       "    </tr>\n",
       "    <tr>\n",
       "      <th>166</th>\n",
       "      <td>Canada</td>\n",
       "      <td>4</td>\n",
       "      <td>3</td>\n",
       "      <td>8</td>\n",
       "      <td>2</td>\n",
       "      <td>Dec-Feb</td>\n",
       "      <td>Couples</td>\n",
       "      <td>1</td>\n",
       "      <td>1</td>\n",
       "      <td>0</td>\n",
       "      <td>...</td>\n",
       "      <td>1</td>\n",
       "      <td>The Cosmopolitan Las Vegas</td>\n",
       "      <td>5</td>\n",
       "      <td>2959</td>\n",
       "      <td>North America</td>\n",
       "      <td>8</td>\n",
       "      <td>December</td>\n",
       "      <td>Tuesday</td>\n",
       "      <td>5</td>\n",
       "      <td>1</td>\n",
       "    </tr>\n",
       "    <tr>\n",
       "      <th>208</th>\n",
       "      <td>Canada</td>\n",
       "      <td>12</td>\n",
       "      <td>7</td>\n",
       "      <td>11</td>\n",
       "      <td>2</td>\n",
       "      <td>Sep-Nov</td>\n",
       "      <td>Business</td>\n",
       "      <td>1</td>\n",
       "      <td>1</td>\n",
       "      <td>1</td>\n",
       "      <td>...</td>\n",
       "      <td>1</td>\n",
       "      <td>Wynn Las Vegas</td>\n",
       "      <td>5</td>\n",
       "      <td>2700</td>\n",
       "      <td>North America</td>\n",
       "      <td>4</td>\n",
       "      <td>September</td>\n",
       "      <td>Monday</td>\n",
       "      <td>6</td>\n",
       "      <td>1</td>\n",
       "    </tr>\n",
       "    <tr>\n",
       "      <th>236</th>\n",
       "      <td>Germany</td>\n",
       "      <td>1</td>\n",
       "      <td>0</td>\n",
       "      <td>1</td>\n",
       "      <td>2</td>\n",
       "      <td>Sep-Nov</td>\n",
       "      <td>Couples</td>\n",
       "      <td>1</td>\n",
       "      <td>1</td>\n",
       "      <td>0</td>\n",
       "      <td>...</td>\n",
       "      <td>1</td>\n",
       "      <td>Trump International Hotel Las Vegas</td>\n",
       "      <td>5</td>\n",
       "      <td>1282</td>\n",
       "      <td>Europe</td>\n",
       "      <td>0</td>\n",
       "      <td>November</td>\n",
       "      <td>Wednesday</td>\n",
       "      <td>5</td>\n",
       "      <td>1</td>\n",
       "    </tr>\n",
       "    <tr>\n",
       "      <th>244</th>\n",
       "      <td>USA</td>\n",
       "      <td>9</td>\n",
       "      <td>9</td>\n",
       "      <td>6</td>\n",
       "      <td>2</td>\n",
       "      <td>Mar-May</td>\n",
       "      <td>Solo</td>\n",
       "      <td>1</td>\n",
       "      <td>0</td>\n",
       "      <td>0</td>\n",
       "      <td>...</td>\n",
       "      <td>1</td>\n",
       "      <td>The Cromwell</td>\n",
       "      <td>4,5</td>\n",
       "      <td>188</td>\n",
       "      <td>North America</td>\n",
       "      <td>1</td>\n",
       "      <td>March</td>\n",
       "      <td>Wednesday</td>\n",
       "      <td>3</td>\n",
       "      <td>1</td>\n",
       "    </tr>\n",
       "    <tr>\n",
       "      <th>247</th>\n",
       "      <td>Canada</td>\n",
       "      <td>14</td>\n",
       "      <td>0</td>\n",
       "      <td>4</td>\n",
       "      <td>2</td>\n",
       "      <td>Mar-May</td>\n",
       "      <td>Families</td>\n",
       "      <td>1</td>\n",
       "      <td>0</td>\n",
       "      <td>0</td>\n",
       "      <td>...</td>\n",
       "      <td>1</td>\n",
       "      <td>The Cromwell</td>\n",
       "      <td>4,5</td>\n",
       "      <td>188</td>\n",
       "      <td>North America</td>\n",
       "      <td>4</td>\n",
       "      <td>April</td>\n",
       "      <td>Tuesday</td>\n",
       "      <td>3</td>\n",
       "      <td>1</td>\n",
       "    </tr>\n",
       "    <tr>\n",
       "      <th>289</th>\n",
       "      <td>USA</td>\n",
       "      <td>50</td>\n",
       "      <td>39</td>\n",
       "      <td>48</td>\n",
       "      <td>2</td>\n",
       "      <td>Dec-Feb</td>\n",
       "      <td>Families</td>\n",
       "      <td>1</td>\n",
       "      <td>1</td>\n",
       "      <td>0</td>\n",
       "      <td>...</td>\n",
       "      <td>1</td>\n",
       "      <td>Hilton Grand Vacations on the Boulevard</td>\n",
       "      <td>3,5</td>\n",
       "      <td>1228</td>\n",
       "      <td>North America</td>\n",
       "      <td>10</td>\n",
       "      <td>January</td>\n",
       "      <td>Thursday</td>\n",
       "      <td>5</td>\n",
       "      <td>1</td>\n",
       "    </tr>\n",
       "    <tr>\n",
       "      <th>306</th>\n",
       "      <td>UK</td>\n",
       "      <td>11</td>\n",
       "      <td>3</td>\n",
       "      <td>16</td>\n",
       "      <td>2</td>\n",
       "      <td>Sep-Nov</td>\n",
       "      <td>Couples</td>\n",
       "      <td>1</td>\n",
       "      <td>1</td>\n",
       "      <td>0</td>\n",
       "      <td>...</td>\n",
       "      <td>1</td>\n",
       "      <td>Hilton Grand Vacations on the Boulevard</td>\n",
       "      <td>3,5</td>\n",
       "      <td>1228</td>\n",
       "      <td>Europe</td>\n",
       "      <td>2</td>\n",
       "      <td>October</td>\n",
       "      <td>Wednesday</td>\n",
       "      <td>5</td>\n",
       "      <td>1</td>\n",
       "    </tr>\n",
       "    <tr>\n",
       "      <th>344</th>\n",
       "      <td>India</td>\n",
       "      <td>1</td>\n",
       "      <td>0</td>\n",
       "      <td>3</td>\n",
       "      <td>2</td>\n",
       "      <td>Mar-May</td>\n",
       "      <td>Families</td>\n",
       "      <td>1</td>\n",
       "      <td>1</td>\n",
       "      <td>1</td>\n",
       "      <td>...</td>\n",
       "      <td>1</td>\n",
       "      <td>Tuscany Las Vegas Suites &amp; Casino</td>\n",
       "      <td>3</td>\n",
       "      <td>716</td>\n",
       "      <td>Asia</td>\n",
       "      <td>0</td>\n",
       "      <td>May</td>\n",
       "      <td>Thursday</td>\n",
       "      <td>6</td>\n",
       "      <td>1</td>\n",
       "    </tr>\n",
       "    <tr>\n",
       "      <th>362</th>\n",
       "      <td>UK</td>\n",
       "      <td>61</td>\n",
       "      <td>13</td>\n",
       "      <td>26</td>\n",
       "      <td>2</td>\n",
       "      <td>Dec-Feb</td>\n",
       "      <td>Couples</td>\n",
       "      <td>1</td>\n",
       "      <td>1</td>\n",
       "      <td>0</td>\n",
       "      <td>...</td>\n",
       "      <td>1</td>\n",
       "      <td>Hilton Grand Vacations at the Flamingo</td>\n",
       "      <td>3</td>\n",
       "      <td>315</td>\n",
       "      <td>Europe</td>\n",
       "      <td>4</td>\n",
       "      <td>February</td>\n",
       "      <td>Sunday</td>\n",
       "      <td>3</td>\n",
       "      <td>1</td>\n",
       "    </tr>\n",
       "    <tr>\n",
       "      <th>363</th>\n",
       "      <td>USA</td>\n",
       "      <td>3</td>\n",
       "      <td>3</td>\n",
       "      <td>8</td>\n",
       "      <td>2</td>\n",
       "      <td>Dec-Feb</td>\n",
       "      <td>Families</td>\n",
       "      <td>1</td>\n",
       "      <td>1</td>\n",
       "      <td>0</td>\n",
       "      <td>...</td>\n",
       "      <td>1</td>\n",
       "      <td>Hilton Grand Vacations at the Flamingo</td>\n",
       "      <td>3</td>\n",
       "      <td>315</td>\n",
       "      <td>North America</td>\n",
       "      <td>1</td>\n",
       "      <td>February</td>\n",
       "      <td>Saturday</td>\n",
       "      <td>3</td>\n",
       "      <td>1</td>\n",
       "    </tr>\n",
       "    <tr>\n",
       "      <th>437</th>\n",
       "      <td>USA</td>\n",
       "      <td>30</td>\n",
       "      <td>9</td>\n",
       "      <td>17</td>\n",
       "      <td>2</td>\n",
       "      <td>Mar-May</td>\n",
       "      <td>Business</td>\n",
       "      <td>1</td>\n",
       "      <td>1</td>\n",
       "      <td>0</td>\n",
       "      <td>...</td>\n",
       "      <td>1</td>\n",
       "      <td>Bellagio Las Vegas</td>\n",
       "      <td>5</td>\n",
       "      <td>3933</td>\n",
       "      <td>North America</td>\n",
       "      <td>0</td>\n",
       "      <td>March</td>\n",
       "      <td>Tuesday</td>\n",
       "      <td>5</td>\n",
       "      <td>1</td>\n",
       "    </tr>\n",
       "    <tr>\n",
       "      <th>439</th>\n",
       "      <td>Spain</td>\n",
       "      <td>3</td>\n",
       "      <td>0</td>\n",
       "      <td>8</td>\n",
       "      <td>2</td>\n",
       "      <td>Mar-May</td>\n",
       "      <td>Families</td>\n",
       "      <td>1</td>\n",
       "      <td>1</td>\n",
       "      <td>0</td>\n",
       "      <td>...</td>\n",
       "      <td>1</td>\n",
       "      <td>Bellagio Las Vegas</td>\n",
       "      <td>5</td>\n",
       "      <td>3933</td>\n",
       "      <td>Europe</td>\n",
       "      <td>3</td>\n",
       "      <td>April</td>\n",
       "      <td>Tuesday</td>\n",
       "      <td>5</td>\n",
       "      <td>1</td>\n",
       "    </tr>\n",
       "    <tr>\n",
       "      <th>455</th>\n",
       "      <td>Malaysia</td>\n",
       "      <td>20</td>\n",
       "      <td>18</td>\n",
       "      <td>19</td>\n",
       "      <td>2</td>\n",
       "      <td>Dec-Feb</td>\n",
       "      <td>Families</td>\n",
       "      <td>1</td>\n",
       "      <td>1</td>\n",
       "      <td>0</td>\n",
       "      <td>...</td>\n",
       "      <td>1</td>\n",
       "      <td>Bellagio Las Vegas</td>\n",
       "      <td>5</td>\n",
       "      <td>3933</td>\n",
       "      <td>Asia</td>\n",
       "      <td>4</td>\n",
       "      <td>December</td>\n",
       "      <td>Friday</td>\n",
       "      <td>5</td>\n",
       "      <td>1</td>\n",
       "    </tr>\n",
       "    <tr>\n",
       "      <th>458</th>\n",
       "      <td>USA</td>\n",
       "      <td>4</td>\n",
       "      <td>4</td>\n",
       "      <td>2</td>\n",
       "      <td>2</td>\n",
       "      <td>Dec-Feb</td>\n",
       "      <td>Couples</td>\n",
       "      <td>1</td>\n",
       "      <td>1</td>\n",
       "      <td>0</td>\n",
       "      <td>...</td>\n",
       "      <td>1</td>\n",
       "      <td>Paris Las Vegas</td>\n",
       "      <td>4</td>\n",
       "      <td>2916</td>\n",
       "      <td>North America</td>\n",
       "      <td>1</td>\n",
       "      <td>February</td>\n",
       "      <td>Wednesday</td>\n",
       "      <td>5</td>\n",
       "      <td>1</td>\n",
       "    </tr>\n",
       "    <tr>\n",
       "      <th>460</th>\n",
       "      <td>USA</td>\n",
       "      <td>121</td>\n",
       "      <td>13</td>\n",
       "      <td>59</td>\n",
       "      <td>2</td>\n",
       "      <td>Mar-May</td>\n",
       "      <td>Couples</td>\n",
       "      <td>1</td>\n",
       "      <td>1</td>\n",
       "      <td>0</td>\n",
       "      <td>...</td>\n",
       "      <td>1</td>\n",
       "      <td>Paris Las Vegas</td>\n",
       "      <td>4</td>\n",
       "      <td>2916</td>\n",
       "      <td>North America</td>\n",
       "      <td>9</td>\n",
       "      <td>March</td>\n",
       "      <td>Tuesday</td>\n",
       "      <td>5</td>\n",
       "      <td>1</td>\n",
       "    </tr>\n",
       "    <tr>\n",
       "      <th>474</th>\n",
       "      <td>Canada</td>\n",
       "      <td>18</td>\n",
       "      <td>3</td>\n",
       "      <td>10</td>\n",
       "      <td>2</td>\n",
       "      <td>Sep-Nov</td>\n",
       "      <td>Couples</td>\n",
       "      <td>1</td>\n",
       "      <td>1</td>\n",
       "      <td>0</td>\n",
       "      <td>...</td>\n",
       "      <td>1</td>\n",
       "      <td>Paris Las Vegas</td>\n",
       "      <td>4</td>\n",
       "      <td>2916</td>\n",
       "      <td>North America</td>\n",
       "      <td>2</td>\n",
       "      <td>October</td>\n",
       "      <td>Monday</td>\n",
       "      <td>5</td>\n",
       "      <td>1</td>\n",
       "    </tr>\n",
       "    <tr>\n",
       "      <th>502</th>\n",
       "      <td>USA</td>\n",
       "      <td>9</td>\n",
       "      <td>6</td>\n",
       "      <td>5</td>\n",
       "      <td>2</td>\n",
       "      <td>Dec-Feb</td>\n",
       "      <td>Families</td>\n",
       "      <td>1</td>\n",
       "      <td>1</td>\n",
       "      <td>0</td>\n",
       "      <td>...</td>\n",
       "      <td>1</td>\n",
       "      <td>The Westin las Vegas Hotel Casino &amp; Spa</td>\n",
       "      <td>4</td>\n",
       "      <td>826</td>\n",
       "      <td>North America</td>\n",
       "      <td>9</td>\n",
       "      <td>December</td>\n",
       "      <td>Wednesday</td>\n",
       "      <td>5</td>\n",
       "      <td>1</td>\n",
       "    </tr>\n",
       "  </tbody>\n",
       "</table>\n",
       "<p>30 rows × 22 columns</p>\n",
       "</div>"
      ],
      "text/plain": [
       "     User country  Nr. reviews  Nr. hotel reviews  Helpful votes  Score  \\\n",
       "10            USA          102                 24             58      2   \n",
       "12            USA            7                  6              9      2   \n",
       "19            USA            8                  7             26      2   \n",
       "23            USA            4                  4              3      2   \n",
       "39            USA           24                  6              9      2   \n",
       "50            USA          418                 32            132      2   \n",
       "55   South Africa           54                 18             16      2   \n",
       "62          Swiss           36                 19             36      2   \n",
       "67            USA           13                  3              3      2   \n",
       "70         Greece           21                 18              6      2   \n",
       "115           USA            5                  3             11      2   \n",
       "153           USA           30                  8             10      2   \n",
       "154       Germany           24                 24             24      2   \n",
       "166        Canada            4                  3              8      2   \n",
       "208        Canada           12                  7             11      2   \n",
       "236       Germany            1                  0              1      2   \n",
       "244           USA            9                  9              6      2   \n",
       "247        Canada           14                  0              4      2   \n",
       "289           USA           50                 39             48      2   \n",
       "306            UK           11                  3             16      2   \n",
       "344         India            1                  0              3      2   \n",
       "362            UK           61                 13             26      2   \n",
       "363           USA            3                  3              8      2   \n",
       "437           USA           30                  9             17      2   \n",
       "439         Spain            3                  0              8      2   \n",
       "455      Malaysia           20                 18             19      2   \n",
       "458           USA            4                  4              2      2   \n",
       "460           USA          121                 13             59      2   \n",
       "474        Canada           18                  3             10      2   \n",
       "502           USA            9                  6              5      2   \n",
       "\n",
       "    Period of stay Traveler type  Swimming Pool  Exercise Room  \\\n",
       "10         Jun-Aug      Families              0              1   \n",
       "12         Jun-Aug       Friends              0              1   \n",
       "19         Sep-Nov       Couples              0              1   \n",
       "23         Dec-Feb       Couples              0              1   \n",
       "39         Jun-Aug      Families              1              1   \n",
       "50         Dec-Feb       Couples              1              1   \n",
       "55         Mar-May      Business              1              1   \n",
       "62         Jun-Aug          Solo              1              1   \n",
       "67         Sep-Nov       Couples              1              1   \n",
       "70         Dec-Feb      Business              1              1   \n",
       "115        Sep-Nov       Friends              1              1   \n",
       "153        Mar-May      Business              1              1   \n",
       "154        Jun-Aug       Couples              1              1   \n",
       "166        Dec-Feb       Couples              1              1   \n",
       "208        Sep-Nov      Business              1              1   \n",
       "236        Sep-Nov       Couples              1              1   \n",
       "244        Mar-May          Solo              1              0   \n",
       "247        Mar-May      Families              1              0   \n",
       "289        Dec-Feb      Families              1              1   \n",
       "306        Sep-Nov       Couples              1              1   \n",
       "344        Mar-May      Families              1              1   \n",
       "362        Dec-Feb       Couples              1              1   \n",
       "363        Dec-Feb      Families              1              1   \n",
       "437        Mar-May      Business              1              1   \n",
       "439        Mar-May      Families              1              1   \n",
       "455        Dec-Feb      Families              1              1   \n",
       "458        Dec-Feb       Couples              1              1   \n",
       "460        Mar-May       Couples              1              1   \n",
       "474        Sep-Nov       Couples              1              1   \n",
       "502        Dec-Feb      Families              1              1   \n",
       "\n",
       "     Basketball Court ...  Free Wifi  \\\n",
       "10                  0 ...          1   \n",
       "12                  0 ...          1   \n",
       "19                  0 ...          1   \n",
       "23                  0 ...          1   \n",
       "39                  0 ...          1   \n",
       "50                  0 ...          0   \n",
       "55                  0 ...          0   \n",
       "62                  0 ...          0   \n",
       "67                  0 ...          0   \n",
       "70                  0 ...          0   \n",
       "115                 1 ...          1   \n",
       "153                 0 ...          1   \n",
       "154                 0 ...          1   \n",
       "166                 0 ...          1   \n",
       "208                 1 ...          1   \n",
       "236                 0 ...          1   \n",
       "244                 0 ...          1   \n",
       "247                 0 ...          1   \n",
       "289                 0 ...          1   \n",
       "306                 0 ...          1   \n",
       "344                 1 ...          1   \n",
       "362                 0 ...          1   \n",
       "363                 0 ...          1   \n",
       "437                 0 ...          1   \n",
       "439                 0 ...          1   \n",
       "455                 0 ...          1   \n",
       "458                 0 ...          1   \n",
       "460                 0 ...          1   \n",
       "474                 0 ...          1   \n",
       "502                 0 ...          1   \n",
       "\n",
       "                                            Hotel name  Hotel stars Nr. rooms  \\\n",
       "10              Circus Circus Hotel & Casino Las Vegas            3      3773   \n",
       "12              Circus Circus Hotel & Casino Las Vegas            3      3773   \n",
       "19              Circus Circus Hotel & Casino Las Vegas            3      3773   \n",
       "23              Circus Circus Hotel & Casino Las Vegas            3      3773   \n",
       "39                            Excalibur Hotel & Casino            3      3981   \n",
       "50                           Monte Carlo Resort&Casino            4      3003   \n",
       "55                           Monte Carlo Resort&Casino            4      3003   \n",
       "62                           Monte Carlo Resort&Casino            4      3003   \n",
       "67                           Monte Carlo Resort&Casino            4      3003   \n",
       "70                           Monte Carlo Resort&Casino            4      3003   \n",
       "115  Tropicana Las Vegas - A Double Tree by Hilton ...            4      1467   \n",
       "153                         The Cosmopolitan Las Vegas            5      2959   \n",
       "154                         The Cosmopolitan Las Vegas            5      2959   \n",
       "166                         The Cosmopolitan Las Vegas            5      2959   \n",
       "208                                     Wynn Las Vegas            5      2700   \n",
       "236                Trump International Hotel Las Vegas            5      1282   \n",
       "244                                       The Cromwell          4,5       188   \n",
       "247                                       The Cromwell          4,5       188   \n",
       "289            Hilton Grand Vacations on the Boulevard          3,5      1228   \n",
       "306            Hilton Grand Vacations on the Boulevard          3,5      1228   \n",
       "344                  Tuscany Las Vegas Suites & Casino            3       716   \n",
       "362             Hilton Grand Vacations at the Flamingo            3       315   \n",
       "363             Hilton Grand Vacations at the Flamingo            3       315   \n",
       "437                                 Bellagio Las Vegas            5      3933   \n",
       "439                                 Bellagio Las Vegas            5      3933   \n",
       "455                                 Bellagio Las Vegas            5      3933   \n",
       "458                                    Paris Las Vegas            4      2916   \n",
       "460                                    Paris Las Vegas            4      2916   \n",
       "474                                    Paris Las Vegas            4      2916   \n",
       "502            The Westin las Vegas Hotel Casino & Spa            4       826   \n",
       "\n",
       "    User continent  Member years Review month  Review weekday amenities s&b  \n",
       "10   North America             9         June          Friday         3   0  \n",
       "12   North America             1         July       Wednesday         3   0  \n",
       "19   North America            10      October          Monday         3   0  \n",
       "23   North America             5     December          Sunday         3   0  \n",
       "39   North America             2       August       Wednesday         5   1  \n",
       "50   North America             3     February         Tuesday         4   0  \n",
       "55          Africa             5        April         Tuesday         4   0  \n",
       "62          Europe             5       August        Thursday         4   0  \n",
       "67   North America             1      October          Sunday         4   0  \n",
       "70          Europe             0     December          Sunday         4   0  \n",
       "115  North America             1      October        Thursday         6   1  \n",
       "153  North America             1          May       Wednesday         5   1  \n",
       "154         Europe             7         June       Wednesday         5   1  \n",
       "166  North America             8     December         Tuesday         5   1  \n",
       "208  North America             4    September          Monday         6   1  \n",
       "236         Europe             0     November       Wednesday         5   1  \n",
       "244  North America             1        March       Wednesday         3   1  \n",
       "247  North America             4        April         Tuesday         3   1  \n",
       "289  North America            10      January        Thursday         5   1  \n",
       "306         Europe             2      October       Wednesday         5   1  \n",
       "344           Asia             0          May        Thursday         6   1  \n",
       "362         Europe             4     February          Sunday         3   1  \n",
       "363  North America             1     February        Saturday         3   1  \n",
       "437  North America             0        March         Tuesday         5   1  \n",
       "439         Europe             3        April         Tuesday         5   1  \n",
       "455           Asia             4     December          Friday         5   1  \n",
       "458  North America             1     February       Wednesday         5   1  \n",
       "460  North America             9        March         Tuesday         5   1  \n",
       "474  North America             2      October          Monday         5   1  \n",
       "502  North America             9     December       Wednesday         5   1  \n",
       "\n",
       "[30 rows x 22 columns]"
      ]
     },
     "execution_count": 278,
     "metadata": {},
     "output_type": "execute_result"
    }
   ],
   "source": [
    "data[data['Score'] == 2]"
   ]
  },
  {
   "cell_type": "code",
   "execution_count": 17,
   "metadata": {},
   "outputs": [],
   "source": [
    "# data['Helpful votes_cut'] = pd.cut(data['Helpful votes'], bins=10)\n",
    "# data['Helpful votes_qcut'] = pd.qcut(data['Helpful votes'], q=4)"
   ]
  },
  {
   "cell_type": "code",
   "execution_count": 18,
   "metadata": {},
   "outputs": [],
   "source": [
    "# sns.countplot(data=data, y='Helpful votes_qcut', hue='Score')"
   ]
  },
  {
   "cell_type": "code",
   "execution_count": 19,
   "metadata": {},
   "outputs": [],
   "source": [
    "cols_to_examine = ['Helpful votes', 'Period of stay', 'Traveler type', 'Swimming Pool',\n",
    "                   'Exercise Room','Yoga Classes','Basketball Court', 'Club', 'Free Wifi',\n",
    "                   'Hotel stars', 'User continent']"
   ]
  },
  {
   "cell_type": "code",
   "execution_count": 20,
   "metadata": {},
   "outputs": [
    {
     "name": "stdout",
     "output_type": "stream",
     "text": [
      "               count      mean  median\n",
      "Helpful votes                         \n",
      "0                  4  4.000000     4.0\n",
      "1                 17  4.352941     5.0\n",
      "2                 16  3.937500     4.0\n",
      "3                 18  4.000000     5.0\n",
      "4                 21  4.428571     5.0\n",
      "5                 14  4.285714     5.0\n",
      "6                 15  4.200000     5.0\n",
      "7                 17  4.470588     5.0\n",
      "8                 20  4.100000     4.5\n",
      "9                 19  3.736842     4.0\n",
      "10                 9  4.111111     5.0\n",
      "11                15  3.800000     4.0\n",
      "12                13  4.461538     5.0\n",
      "13                13  4.538462     5.0\n",
      "14                16  4.062500     4.5\n",
      "15                14  4.214286     4.0\n",
      "16                19  3.789474     4.0\n",
      "17                14  4.285714     4.5\n",
      "18                 4  4.500000     4.5\n",
      "19                11  3.454545     4.0\n",
      "20                 6  3.666667     4.0\n",
      "21                 7  4.142857     4.0\n",
      "22                 7  3.857143     4.0\n",
      "23                 6  4.333333     4.5\n",
      "24                11  4.272727     5.0\n",
      "25                 9  4.222222     4.0\n",
      "26                 9  3.777778     4.0\n",
      "27                 8  3.875000     4.0\n",
      "28                 2  5.000000     5.0\n",
      "29                 3  4.000000     4.0\n",
      "...              ...       ...     ...\n",
      "102                1  3.000000     3.0\n",
      "103                1  4.000000     4.0\n",
      "105                1  4.000000     4.0\n",
      "111                1  5.000000     5.0\n",
      "112                1  4.000000     4.0\n",
      "113                1  4.000000     4.0\n",
      "115                1  5.000000     5.0\n",
      "116                1  3.000000     3.0\n",
      "119                2  4.500000     4.5\n",
      "129                1  4.000000     4.0\n",
      "131                1  5.000000     5.0\n",
      "132                1  2.000000     2.0\n",
      "133                1  4.000000     4.0\n",
      "134                1  5.000000     5.0\n",
      "142                1  3.000000     3.0\n",
      "150                1  4.000000     4.0\n",
      "161                1  4.000000     4.0\n",
      "167                1  4.000000     4.0\n",
      "169                1  4.000000     4.0\n",
      "200                1  5.000000     5.0\n",
      "206                1  5.000000     5.0\n",
      "255                1  3.000000     3.0\n",
      "265                1  4.000000     4.0\n",
      "267                1  5.000000     5.0\n",
      "299                1  4.000000     4.0\n",
      "300                1  4.000000     4.0\n",
      "319                1  5.000000     5.0\n",
      "339                1  4.000000     4.0\n",
      "340                1  3.000000     3.0\n",
      "365                1  5.000000     5.0\n",
      "\n",
      "[109 rows x 3 columns]\n",
      "                count      mean  median\n",
      "Period of stay                         \n",
      "Dec-Feb           124  4.177419       4\n",
      "Jun-Aug           126  4.174603       4\n",
      "Mar-May           128  4.054688       4\n",
      "Sep-Nov           126  4.087302       4\n",
      "               count      mean  median\n",
      "Traveler type                         \n",
      "Business          74  3.878378       4\n",
      "Couples          214  4.233645       5\n",
      "Families         110  4.018182       4\n",
      "Friends           82  4.256098       4\n",
      "Solo              24  3.916667       4\n",
      "               count      mean  median\n",
      "Swimming Pool                         \n",
      "0                 24  3.208333       3\n",
      "1                480  4.168750       4\n",
      "               count      mean  median\n",
      "Exercise Room                         \n",
      "0                 24  4.083333     4.5\n",
      "1                480  4.125000     4.0\n",
      "              count      mean  median\n",
      "Yoga Classes                         \n",
      "0               120  4.033333       4\n",
      "1               384  4.151042       4\n",
      "                  count      mean  median\n",
      "Basketball Court                         \n",
      "0                   384  4.085938       4\n",
      "1                   120  4.241667       4\n",
      "      count      mean  median\n",
      "Club                         \n",
      "0        48  4.166667       4\n",
      "1       456  4.118421       4\n",
      "           count      mean  median\n",
      "Free Wifi                         \n",
      "0             24  3.291667     3.5\n",
      "1            480  4.164583     4.0\n",
      "             count      mean  median\n",
      "Hotel stars                         \n",
      "3               96  3.770833     4.0\n",
      "4              120  3.850000     4.0\n",
      "5              192  4.385417     5.0\n",
      "3,5             72  4.361111     5.0\n",
      "4,5             24  4.083333     4.5\n",
      "                count      mean  median\n",
      "User continent                         \n",
      "Africa              7  3.428571       4\n",
      "Asia               36  3.777778       4\n",
      "Europe            118  4.152542       4\n",
      "North America     295  4.159322       4\n",
      "Oceania            41  4.146341       4\n",
      "South America       7  4.428571       5\n"
     ]
    }
   ],
   "source": [
    "for x in cols_to_examine:\n",
    "    g = data.groupby(x).agg(['count', 'mean', 'median'])['Score']\n",
    "    print(g)"
   ]
  },
  {
   "cell_type": "code",
   "execution_count": 157,
   "metadata": {},
   "outputs": [
    {
     "data": {
      "text/plain": [
       "<matplotlib.axes._subplots.AxesSubplot at 0x282033cbd68>"
      ]
     },
     "execution_count": 157,
     "metadata": {},
     "output_type": "execute_result"
    },
    {
     "data": {
      "image/png": "[encoded data removed]",
      "text/plain": [
       "<Figure size 432x288 with 1 Axes>"
      ]
     },
     "metadata": {},
     "output_type": "display_data"
    }
   ],
   "source": [
    "data['amenities'] = data['Swimming Pool'] + data['Exercise Room'] + data['Yoga Classes'] + data['Basketball Court'] + data['Club']  + data['Free Wifi']\n",
    "sns.countplot(data=data, y='amenities', hue='Score')"
   ]
  },
  {
   "cell_type": "code",
   "execution_count": 160,
   "metadata": {},
   "outputs": [],
   "source": [
    "data['s&b'] = data['Swimming Pool'] & data['Free Wifi']"
   ]
  },
  {
   "cell_type": "code",
   "execution_count": 161,
   "metadata": {},
   "outputs": [
    {
     "data": {
      "text/plain": [
       "<matplotlib.axes._subplots.AxesSubplot at 0x28201746f28>"
      ]
     },
     "execution_count": 161,
     "metadata": {},
     "output_type": "execute_result"
    },
    {
     "data": {
      "image/png": "[encoded data removed]",
      "text/plain": [
       "<Figure size 432x288 with 1 Axes>"
      ]
     },
     "metadata": {},
     "output_type": "display_data"
    }
   ],
   "source": [
    "sns.countplot(data=data, y='s&b', hue='Score')"
   ]
  },
  {
   "cell_type": "code",
   "execution_count": 164,
   "metadata": {},
   "outputs": [
    {
     "data": {
      "text/plain": [
       "<matplotlib.axes._subplots.AxesSubplot at 0x282014a05f8>"
      ]
     },
     "execution_count": 164,
     "metadata": {},
     "output_type": "execute_result"
    },
    {
     "data": {
      "image/png": "[encoded data removed]",
      "text/plain": [
       "<Figure size 432x288 with 1 Axes>"
      ]
     },
     "metadata": {},
     "output_type": "display_data"
    }
   ],
   "source": [
    "sns.countplot(data=data, y='Club', hue='Score')"
   ]
  },
  {
   "cell_type": "markdown",
   "metadata": {},
   "source": [
    "# Fit test a model"
   ]
  },
  {
   "cell_type": "code",
   "execution_count": 165,
   "metadata": {},
   "outputs": [],
   "source": [
    "data_hot = pd.get_dummies(data, columns=['Traveler type','Hotel name','Hotel stars'])"
   ]
  },
  {
   "cell_type": "code",
   "execution_count": 166,
   "metadata": {},
   "outputs": [],
   "source": [
    "from sklearn.model_selection import train_test_split\n",
    "from sklearn.ensemble import RandomForestClassifier, RandomForestRegressor"
   ]
  },
  {
   "cell_type": "code",
   "execution_count": 167,
   "metadata": {},
   "outputs": [
    {
     "data": {
      "text/plain": [
       "Index(['User country', 'Nr. reviews', 'Nr. hotel reviews', 'Helpful votes',\n",
       "       'Score', 'Period of stay', 'Swimming Pool', 'Exercise Room',\n",
       "       'Basketball Court', 'Yoga Classes', 'Club', 'Free Wifi', 'Nr. rooms',\n",
       "       'User continent', 'Member years', 'Review month', 'Review weekday',\n",
       "       'amenities', 's&b', 'Traveler type_Business', 'Traveler type_Couples',\n",
       "       'Traveler type_Families', 'Traveler type_Friends', 'Traveler type_Solo',\n",
       "       'Hotel name_Bellagio Las Vegas', 'Hotel name_Caesars Palace',\n",
       "       'Hotel name_Circus Circus Hotel & Casino Las Vegas',\n",
       "       'Hotel name_Encore at wynn Las Vegas',\n",
       "       'Hotel name_Excalibur Hotel & Casino',\n",
       "       'Hotel name_Hilton Grand Vacations at the Flamingo',\n",
       "       'Hotel name_Hilton Grand Vacations on the Boulevard',\n",
       "       'Hotel name_Marriott's Grand Chateau',\n",
       "       'Hotel name_Monte Carlo Resort&Casino', 'Hotel name_Paris Las Vegas',\n",
       "       'Hotel name_The Cosmopolitan Las Vegas', 'Hotel name_The Cromwell',\n",
       "       'Hotel name_The Palazzo Resort Hotel Casino',\n",
       "       'Hotel name_The Venetian Las Vegas Hotel',\n",
       "       'Hotel name_The Westin las Vegas Hotel Casino & Spa',\n",
       "       'Hotel name_Treasure Island- TI Hotel & Casino',\n",
       "       'Hotel name_Tropicana Las Vegas - A Double Tree by Hilton Hotel',\n",
       "       'Hotel name_Trump International Hotel Las Vegas',\n",
       "       'Hotel name_Tuscany Las Vegas Suites & Casino',\n",
       "       'Hotel name_Wyndham Grand Desert', 'Hotel name_Wynn Las Vegas',\n",
       "       'Hotel stars_3', 'Hotel stars_4', 'Hotel stars_5', 'Hotel stars_3,5',\n",
       "       'Hotel stars_4,5'],\n",
       "      dtype='object')"
      ]
     },
     "execution_count": 167,
     "metadata": {},
     "output_type": "execute_result"
    }
   ],
   "source": [
    "data_hot.columns"
   ]
  },
  {
   "cell_type": "code",
   "execution_count": 135,
   "metadata": {},
   "outputs": [],
   "source": [
    "COLS = []\n",
    "for x in data_hot.columns:\n",
    "    if x != 'Score':\n",
    "        COLS.append(x)"
   ]
  },
  {
   "cell_type": "code",
   "execution_count": 208,
   "metadata": {},
   "outputs": [],
   "source": [
    "from sklearn.model_selection import KFold, StratifiedKFold"
   ]
  },
  {
   "cell_type": "code",
   "execution_count": 241,
   "metadata": {},
   "outputs": [],
   "source": [
    "COLS_TO_MODEL = ['Swimming Pool', 'Exercise Room',\n",
    "       'Basketball Court', 'Yoga Classes', 'Club', 'Free Wifi','amenities', 's&b', 'Traveler type_Business', 'Traveler type_Couples',\n",
    "       'Traveler type_Families', 'Traveler type_Friends', 'Traveler type_Solo','Hotel stars_3', 'Hotel stars_4', 'Hotel stars_5', 'Hotel stars_3,5',\n",
    "       'Hotel stars_4,5']"
   ]
  },
  {
   "cell_type": "code",
   "execution_count": 258,
   "metadata": {},
   "outputs": [],
   "source": [
    "kf = KFold(n_splits=5, shuffle=True)"
   ]
  },
  {
   "cell_type": "code",
   "execution_count": 259,
   "metadata": {},
   "outputs": [],
   "source": [
    "#indices = list(kf.split(data_hot[COLS_TO_MODEL], data_hot['Score']))"
   ]
  },
  {
   "cell_type": "code",
   "execution_count": 266,
   "metadata": {},
   "outputs": [],
   "source": [
    "clf = SVC()"
   ]
  },
  {
   "cell_type": "code",
   "execution_count": 267,
   "metadata": {},
   "outputs": [],
   "source": [
    "from sklearn.metrics import mean_squared_error"
   ]
  },
  {
   "cell_type": "code",
   "execution_count": 273,
   "metadata": {},
   "outputs": [
    {
     "name": "stdout",
     "output_type": "stream",
     "text": [
      "1.2277227722772277\n",
      "1.2079207920792079\n",
      "1.811881188118812\n",
      "1.3663366336633664\n",
      "1.31\n"
     ]
    }
   ],
   "source": [
    "indices = list(kf.split(data_hot[COLS], data_hot['Score']))\n",
    "for train_index, test_index in indices:\n",
    "    train_index = list(train_index)\n",
    "    test_index = list(test_index)\n",
    "    X_train = data_hot[COLS_TO_MODEL].iloc[train_index]\n",
    "    y_train = data_hot.Score.iloc[train_index]\n",
    "    X_test = data_hot[COLS_TO_MODEL].iloc[test_index]\n",
    "    y_test = data_hot.Score.iloc[test_index]\n",
    "    clf.fit(X_train, y_train)\n",
    "    predict = clf.predict(X_test)\n",
    "    #print(predict[:10])\n",
    "    #predict = np.round(predict)\n",
    "    #print(*zip(predict, y_test))\n",
    "    print(mean_squared_error(predict, y_test))"
   ]
  },
  {
   "cell_type": "code",
   "execution_count": 222,
   "metadata": {},
   "outputs": [],
   "source": [
    "# X_train, X_test, y_train, y_test = train_test_split(data_hot[COLS_TO_MODEL], data_hot['Score'])"
   ]
  },
  {
   "cell_type": "code",
   "execution_count": 247,
   "metadata": {},
   "outputs": [],
   "source": [
    "import mord as m\n",
    "from sklearn.svm import SVC, SVR"
   ]
  },
  {
   "cell_type": "code",
   "execution_count": 224,
   "metadata": {},
   "outputs": [
    {
     "data": {
      "text/plain": [
       "RandomForestClassifier(bootstrap=True, class_weight=None, criterion='gini',\n",
       "            max_depth=None, max_features='auto', max_leaf_nodes=None,\n",
       "            min_impurity_decrease=0.0, min_impurity_split=None,\n",
       "            min_samples_leaf=1, min_samples_split=2,\n",
       "            min_weight_fraction_leaf=0.0, n_estimators=10, n_jobs=1,\n",
       "            oob_score=False, random_state=None, verbose=0,\n",
       "            warm_start=False)"
      ]
     },
     "execution_count": 224,
     "metadata": {},
     "output_type": "execute_result"
    }
   ],
   "source": [
    "clf = RandomForestClassifier()\n",
    "clf.fit(X_train, y_train)"
   ]
  },
  {
   "cell_type": "code",
   "execution_count": 225,
   "metadata": {},
   "outputs": [],
   "source": [
    "predict = clf.predict(X_test)"
   ]
  },
  {
   "cell_type": "code",
   "execution_count": 226,
   "metadata": {},
   "outputs": [
    {
     "data": {
      "text/plain": [
       "0.5079365079365079"
      ]
     },
     "execution_count": 226,
     "metadata": {},
     "output_type": "execute_result"
    }
   ],
   "source": [
    "from sklearn.metrics import accuracy_score, f1_score, roc_auc_score\n",
    "accuracy_score(predict, y_test)"
   ]
  },
  {
   "cell_type": "code",
   "execution_count": 227,
   "metadata": {},
   "outputs": [
    {
     "name": "stdout",
     "output_type": "stream",
     "text": [
      "('Swimming Pool', 0.014417459599781654) ('amenities', 0.3671386793710406) ('s&b', 0.2224977982035242) ('Hotel stars_3', 0.09305448638700677) ('Hotel stars_4', 0.1300464035907121) ('Hotel stars_5', 0.17284517284793474)\n"
     ]
    }
   ],
   "source": [
    "print(*zip(COLS_TO_MODEL, clf.feature_importances_))"
   ]
  },
  {
   "cell_type": "code",
   "execution_count": null,
   "metadata": {},
   "outputs": [],
   "source": []
  },
  {
   "cell_type": "code",
   "execution_count": null,
   "metadata": {},
   "outputs": [],
   "source": []
  }
 ],
 "metadata": {
  "kernelspec": {
   "display_name": "Python 3",
   "language": "python",
   "name": "python3"
  },
  "language_info": {
   "codemirror_mode": {
    "name": "ipython",
    "version": 3
   },
   "file_extension": ".py",
   "mimetype": "text/x-python",
   "name": "python",
   "nbconvert_exporter": "python",
   "pygments_lexer": "ipython3",
   "version": "3.6.5"
  }
 },
 "nbformat": 4,
 "nbformat_minor": 2
}
